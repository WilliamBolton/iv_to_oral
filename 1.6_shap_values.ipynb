{
 "cells": [
  {
   "cell_type": "code",
   "execution_count": null,
   "metadata": {},
   "outputs": [],
   "source": [
    "# Libraries\n",
    "import numpy as np\n",
    "import matplotlib\n",
    "import matplotlib.pyplot as plt\n",
    "import math\n",
    "import time\n",
    "import random\n",
    "import sklearn\n",
    "from torch.utils.data import Dataset, DataLoader\n",
    "import pandas as pd\n",
    "import torch\n",
    "from torch import nn\n",
    "from torch import optim\n",
    "from tqdm import tqdm\n",
    "import torch.nn.functional as F\n",
    "\n",
    "from IPython.core.interactiveshell import InteractiveShell\n",
    "InteractiveShell.ast_node_interactivity = \"all\"\n",
    "\n",
    "# Remove printing error\n",
    "pd.options.mode.chained_assignment = None\n",
    "\n",
    "import seaborn as sns\n",
    "import matplotlib as mpl\n",
    "import matplotlib.pyplot as plt\n",
    "import pickle\n",
    "from sklearn import metrics\n",
    "from sklearn.metrics import roc_auc_score\n",
    "\n",
    "from functions_folder.nn_MIMICDataset import MIMICDataset\n",
    "from functions_folder.nn_model_simplex import Model_simplex\n",
    "from functions_folder.nn_train import train\n",
    "from functions_folder.nn_evaluate import evaluate\n",
    "\n",
    "import shap"
   ]
  },
  {
   "cell_type": "markdown",
   "metadata": {},
   "source": [
    "Data"
   ]
  },
  {
   "cell_type": "code",
   "execution_count": 2,
   "metadata": {},
   "outputs": [],
   "source": [
    "mimic_data = pd.read_csv(r\"mimic_data.csv\")"
   ]
  },
  {
   "cell_type": "code",
   "execution_count": 8,
   "metadata": {},
   "outputs": [],
   "source": [
    "model_data = mimic_data.drop(columns=['date', 'iv_flag', 'first_po_flag', 'iv_treatment_length'])\n",
    "\n",
    "# Split into 'preprocessing dataset' and a 'train/vaid/test dataset'\n",
    "stays = model_data['stay_id'].unique()\n",
    "random.Random(0).shuffle(stays)\n",
    "model_data2 = model_data.set_index(\"stay_id\").loc[stays].reset_index()\n",
    "n = round(0.5 * len(stays))\n",
    "preprocessing_stays = stays[:n]\n",
    "hold_out_stays = stays[n:]\n",
    "preprocessing_data = model_data2[model_data2['stay_id'].isin(preprocessing_stays)]\n",
    "hold_out_data = model_data2[model_data2['stay_id'].isin(hold_out_stays)]\n",
    "\n",
    "# Split into training, validation and testing\n",
    "stays = preprocessing_data['stay_id'].unique()\n",
    "random.Random(0).shuffle(stays)\n",
    "preprocessing_data2 = preprocessing_data.set_index(\"stay_id\").loc[stays].reset_index()\n",
    "n = round(0.7 * len(stays))\n",
    "n2 = round(0.85 * len(stays))\n",
    "train_stays = stays[:n]\n",
    "validation_stays = stays[n:n2]\n",
    "test_stays = stays[n2:]\n",
    "train_data = preprocessing_data2[preprocessing_data2['stay_id'].isin(train_stays)]\n",
    "valid_data = preprocessing_data2[preprocessing_data2['stay_id'].isin(validation_stays)]\n",
    "test_data = preprocessing_data2[preprocessing_data2['stay_id'].isin(test_stays)]"
   ]
  },
  {
   "cell_type": "code",
   "execution_count": 9,
   "metadata": {},
   "outputs": [
    {
     "data": {
      "text/plain": [
       "<torch._C.Generator at 0x7fc1c901fcf0>"
      ]
     },
     "execution_count": 9,
     "metadata": {},
     "output_type": "execute_result"
    },
    {
     "name": "stdout",
     "output_type": "stream",
     "text": [
      "GPU is available\n"
     ]
    }
   ],
   "source": [
    "# Set the random seeds for deterministic results.\n",
    "SEED = 0\n",
    "random.seed(SEED)\n",
    "np.random.seed(SEED)\n",
    "torch.manual_seed(SEED)\n",
    "torch.cuda.manual_seed(SEED)\n",
    "torch.backends.cudnn.deterministic = True\n",
    "\n",
    "# Set device\n",
    "if torch.cuda.is_available():\n",
    "    device = torch.device(\"cuda\")\n",
    "    print(\"GPU is available\")\n",
    "else:\n",
    "    device = torch.device(\"cpu\")\n",
    "    print(\"GPU not available, CPU used\")"
   ]
  },
  {
   "cell_type": "code",
   "execution_count": 10,
   "metadata": {},
   "outputs": [],
   "source": [
    "# Define batch size \n",
    "batch_size = 256\n",
    "\n",
    "# Define dataloaders\n",
    "train_dataset = MIMICDataset(train_data)\n",
    "train_dataloader = DataLoader(dataset=train_dataset, batch_size=batch_size, collate_fn=train_dataset.collate_fn_padd)\n",
    "\n",
    "valid_dataset = MIMICDataset(valid_data)\n",
    "valid_dataloader = DataLoader(dataset=valid_dataset, batch_size=batch_size, collate_fn=valid_dataset.collate_fn_padd)\n",
    "\n",
    "test_dataset = MIMICDataset(test_data)\n",
    "test_dataloader = DataLoader(dataset=test_dataset, batch_size=batch_size, collate_fn=test_dataset.collate_fn_padd)"
   ]
  },
  {
   "cell_type": "code",
   "execution_count": 11,
   "metadata": {},
   "outputs": [
    {
     "data": {
      "text/plain": [
       "Model_simplex(\n",
       "  (layers): Sequential(\n",
       "    (0): BatchNorm1d(960, eps=1e-05, momentum=0.1, affine=True, track_running_stats=True)\n",
       "    (1): Linear(in_features=960, out_features=512, bias=True)\n",
       "    (2): ReLU()\n",
       "    (3): Dropout(p=0.3, inplace=False)\n",
       "    (4): Linear(in_features=512, out_features=512, bias=True)\n",
       "    (5): ReLU()\n",
       "    (6): Dropout(p=0.3, inplace=False)\n",
       "    (7): Linear(in_features=512, out_features=128, bias=True)\n",
       "    (8): ReLU()\n",
       "    (9): ReLU()\n",
       "    (10): Linear(in_features=128, out_features=128, bias=True)\n",
       "    (11): ReLU()\n",
       "    (12): Dropout(p=0.3, inplace=False)\n",
       "    (13): Linear(in_features=128, out_features=64, bias=True)\n",
       "    (14): ReLU()\n",
       "    (15): Dropout(p=0.3, inplace=False)\n",
       "    (16): Linear(in_features=64, out_features=64, bias=True)\n",
       "    (17): ReLU()\n",
       "    (18): Dropout(p=0.3, inplace=False)\n",
       "    (19): Linear(in_features=64, out_features=8, bias=True)\n",
       "    (20): ReLU()\n",
       "    (21): Dropout(p=0.3, inplace=False)\n",
       "  )\n",
       "  (layers2): Sequential(\n",
       "    (0): Linear(in_features=8, out_features=1, bias=True)\n",
       "  )\n",
       ")"
      ]
     },
     "execution_count": 11,
     "metadata": {},
     "output_type": "execute_result"
    },
    {
     "name": "stdout",
     "output_type": "stream",
     "text": [
      "The model has 851,729 trainable parameters\n"
     ]
    }
   ],
   "source": [
    "# Hyperparameters\n",
    "INPUT_DIM = 960 # For fresh data\n",
    "OUTPUT_DIM = 1\n",
    "HID_DIM = 512 #128 #768\n",
    "HID_DIM2 = 128 #128 #256\n",
    "HID_DIM3 = 64\n",
    "HID_DIM4 = 8\n",
    "DROPOUT = 0.3\n",
    "\n",
    "# Define model\n",
    "model = Model_simplex(INPUT_DIM, OUTPUT_DIM, HID_DIM, HID_DIM2, HID_DIM3, HID_DIM4, DROPOUT).to(device)\n",
    "\n",
    "# Initializing the weights of our model.\n",
    "def init_weights(m):\n",
    "    for name, param in m.named_parameters():\n",
    "        nn.init.uniform_(param.data, -0.08, 0.08)\n",
    "\n",
    "model.apply(init_weights)\n",
    "\n",
    "# Calculate the number of trainable parameters in the model.\n",
    "\n",
    "def count_parameters(model):\n",
    "    return sum(p.numel() for p in model.parameters() if p.requires_grad)\n",
    "\n",
    "print(f'The model has {count_parameters(model):,} trainable parameters')\n",
    "\n",
    "# Define optimizer and learning_rate\n",
    "learning_rate = 0.001\n",
    "optimizer = optim.Adam(model.parameters(), lr=learning_rate)\n",
    "\n",
    "# Define loss\n",
    "criterion = nn.BCEWithLogitsLoss()\n",
    "\n",
    "# Define how long an epoch takes\n",
    "def epoch_time(start_time, end_time):\n",
    "    elapsed_time = end_time - start_time\n",
    "    elapsed_mins = int(elapsed_time / 60)\n",
    "    elapsed_secs = int(elapsed_time - (elapsed_mins * 60))\n",
    "    return elapsed_mins, elapsed_secs"
   ]
  },
  {
   "cell_type": "code",
   "execution_count": 12,
   "metadata": {},
   "outputs": [
    {
     "name": "stderr",
     "output_type": "stream",
     "text": [
      "100%|██████████| 40/40 [00:10<00:00,  3.65it/s]\n",
      "100%|██████████| 9/9 [00:02<00:00,  4.07it/s]\n"
     ]
    },
    {
     "name": "stdout",
     "output_type": "stream",
     "text": [
      "BEST VALID LOSS\n",
      "UPDATED BEST MODEL\n",
      "Epoch: 01 | Time: 0m 13s\n",
      "\tTrain Loss: 0.5445734828710556 | Train PPL: 1.7238729642060027\n",
      "\t Val. Loss: 0.3958524465560913 |  Val. PPL: 1.4856500885907786\n",
      "Train. Loss >  Val Loss, underfitting\n",
      "Train accuracy result: 0.8302369016022806\n",
      "Train AUROC result: 0.5\n",
      "(array([0.], dtype=float32), array([10173]))\n",
      "(array([0., 1.], dtype=float32), array([8446, 1727]))\n",
      "Validation accuracy result: 0.8408352668213457\n",
      "Validation AUROC result: 0.5\n",
      "(array([0.], dtype=float32), array([2155]))\n",
      "(array([0., 1.], dtype=float32), array([1812,  343]))\n"
     ]
    },
    {
     "name": "stderr",
     "output_type": "stream",
     "text": [
      "100%|██████████| 40/40 [00:10<00:00,  3.86it/s]\n",
      "100%|██████████| 9/9 [00:02<00:00,  4.08it/s]\n"
     ]
    },
    {
     "name": "stdout",
     "output_type": "stream",
     "text": [
      "BEST VALID LOSS\n",
      "Epoch: 02 | Time: 0m 12s\n",
      "\tTrain Loss: 0.37347000688314436 | Train PPL: 1.4527669898799465\n",
      "\t Val. Loss: 0.32709912459055585 |  Val. PPL: 1.3869389501222718\n",
      "Train. Loss >  Val Loss, underfitting\n",
      "Train accuracy result: 0.8302369016022806\n",
      "Train AUROC result: 0.5\n",
      "(array([0.], dtype=float32), array([10173]))\n",
      "(array([0., 1.], dtype=float32), array([8446, 1727]))\n",
      "Validation accuracy result: 0.8408352668213457\n",
      "Validation AUROC result: 0.5\n",
      "(array([0.], dtype=float32), array([2155]))\n",
      "(array([0., 1.], dtype=float32), array([1812,  343]))\n"
     ]
    },
    {
     "name": "stderr",
     "output_type": "stream",
     "text": [
      "100%|██████████| 40/40 [00:10<00:00,  3.81it/s]\n",
      "100%|██████████| 9/9 [00:02<00:00,  4.10it/s]\n"
     ]
    },
    {
     "name": "stdout",
     "output_type": "stream",
     "text": [
      "BEST VALID LOSS\n",
      "Epoch: 03 | Time: 0m 12s\n",
      "\tTrain Loss: 0.3354733735322952 | Train PPL: 1.398602289852264\n",
      "\t Val. Loss: 0.3124789463149177 |  Val. PPL: 1.3668091645011529\n",
      "Train. Loss >  Val Loss, underfitting\n",
      "Train accuracy result: 0.8302369016022806\n",
      "Train AUROC result: 0.5\n",
      "(array([0.], dtype=float32), array([10173]))\n",
      "(array([0., 1.], dtype=float32), array([8446, 1727]))\n",
      "Validation accuracy result: 0.8408352668213457\n",
      "Validation AUROC result: 0.5\n",
      "(array([0.], dtype=float32), array([2155]))\n",
      "(array([0., 1.], dtype=float32), array([1812,  343]))\n"
     ]
    },
    {
     "name": "stderr",
     "output_type": "stream",
     "text": [
      "100%|██████████| 40/40 [00:10<00:00,  3.95it/s]\n",
      "100%|██████████| 9/9 [00:02<00:00,  4.22it/s]\n"
     ]
    },
    {
     "name": "stdout",
     "output_type": "stream",
     "text": [
      "BEST VALID LOSS\n",
      "Epoch: 04 | Time: 0m 12s\n",
      "\tTrain Loss: 0.31946758553385735 | Train PPL: 1.3763947567417365\n",
      "\t Val. Loss: 0.30638036959701115 |  Val. PPL: 1.3584989399801788\n",
      "Train. Loss >  Val Loss, underfitting\n",
      "Train accuracy result: 0.8302369016022806\n",
      "Train AUROC result: 0.5\n",
      "(array([0.], dtype=float32), array([10173]))\n",
      "(array([0., 1.], dtype=float32), array([8446, 1727]))\n",
      "Validation accuracy result: 0.8408352668213457\n",
      "Validation AUROC result: 0.5\n",
      "(array([0.], dtype=float32), array([2155]))\n",
      "(array([0., 1.], dtype=float32), array([1812,  343]))\n"
     ]
    },
    {
     "name": "stderr",
     "output_type": "stream",
     "text": [
      "100%|██████████| 40/40 [00:10<00:00,  3.96it/s]\n",
      "100%|██████████| 9/9 [00:02<00:00,  4.26it/s]\n"
     ]
    },
    {
     "name": "stdout",
     "output_type": "stream",
     "text": [
      "BEST VALID LOSS\n",
      "UPDATED BEST MODEL\n",
      "Epoch: 05 | Time: 0m 12s\n",
      "\tTrain Loss: 0.3133062206208706 | Train PPL: 1.3679403584434133\n",
      "\t Val. Loss: 0.30606797834237415 |  Val. PPL: 1.3580746230717917\n",
      "Train. Loss >  Val Loss, underfitting\n",
      "Train accuracy result: 0.8375110586847537\n",
      "Train AUROC result: 0.542383535114802\n",
      "(array([0., 1.], dtype=float32), array([9917,  256]))\n",
      "(array([0., 1.], dtype=float32), array([8446, 1727]))\n",
      "Validation accuracy result: 0.859860788863109\n",
      "Validation AUROC result: 0.6046746986400994\n",
      "(array([0., 1.], dtype=float32), array([2038,  117]))\n",
      "(array([0., 1.], dtype=float32), array([1812,  343]))\n"
     ]
    },
    {
     "name": "stderr",
     "output_type": "stream",
     "text": [
      "100%|██████████| 40/40 [00:10<00:00,  3.87it/s]\n",
      "100%|██████████| 9/9 [00:02<00:00,  4.13it/s]\n"
     ]
    },
    {
     "name": "stdout",
     "output_type": "stream",
     "text": [
      "BEST VALID LOSS\n",
      "Epoch: 06 | Time: 0m 12s\n",
      "\tTrain Loss: 0.2957574646919966 | Train PPL: 1.344144114888404\n",
      "\t Val. Loss: 0.3008662346336577 |  Val. PPL: 1.351028608613612\n",
      "Val. Loss >  Train Loss, overfitting\n",
      "Train accuracy result: 0.8684753759952816\n",
      "Train AUROC result: 0.7091270321718232\n",
      "(array([0., 1.], dtype=float32), array([8946, 1227]))\n",
      "(array([0., 1.], dtype=float32), array([8446, 1727]))\n",
      "Validation accuracy result: 0.8603248259860788\n",
      "Validation AUROC result: 0.6002234857992393\n",
      "(array([0., 1.], dtype=float32), array([2047,  108]))\n",
      "(array([0., 1.], dtype=float32), array([1812,  343]))\n"
     ]
    },
    {
     "name": "stderr",
     "output_type": "stream",
     "text": [
      "100%|██████████| 40/40 [00:10<00:00,  3.85it/s]\n",
      "100%|██████████| 9/9 [00:02<00:00,  3.96it/s]\n"
     ]
    },
    {
     "name": "stdout",
     "output_type": "stream",
     "text": [
      "Epoch: 07 | Time: 0m 12s\n",
      "\tTrain Loss: 0.2837662797421217 | Train PPL: 1.3281224853457487\n",
      "\t Val. Loss: 0.3026479201184379 |  Val. PPL: 1.3534378623039378\n",
      "Val. Loss >  Train Loss, overfitting\n",
      "Train accuracy result: 0.8773223237982896\n",
      "Train AUROC result: 0.721134271596481\n",
      "(array([0., 1.], dtype=float32), array([8978, 1195]))\n",
      "(array([0., 1.], dtype=float32), array([8446, 1727]))\n",
      "Validation accuracy result: 0.8584686774941995\n",
      "Validation AUROC result: 0.5932107942514754\n",
      "(array([0., 1.], dtype=float32), array([2053,  102]))\n",
      "(array([0., 1.], dtype=float32), array([1812,  343]))\n"
     ]
    },
    {
     "name": "stderr",
     "output_type": "stream",
     "text": [
      "100%|██████████| 40/40 [00:10<00:00,  3.96it/s]\n",
      "100%|██████████| 9/9 [00:02<00:00,  4.17it/s]\n"
     ]
    },
    {
     "name": "stdout",
     "output_type": "stream",
     "text": [
      "UPDATED BEST MODEL\n",
      "Epoch: 08 | Time: 0m 12s\n",
      "\tTrain Loss: 0.27413673549890516 | Train PPL: 1.3153946510864567\n",
      "\t Val. Loss: 0.3021819591522217 |  Val. PPL: 1.3528073599960453\n",
      "Val. Loss >  Train Loss, overfitting\n",
      "Train accuracy result: 0.8852845768209967\n",
      "Train AUROC result: 0.738597028624645\n",
      "(array([0., 1.], dtype=float32), array([8949, 1224]))\n",
      "(array([0., 1.], dtype=float32), array([8446, 1727]))\n",
      "Validation accuracy result: 0.8705336426914153\n",
      "Validation AUROC result: 0.6441113342214841\n",
      "(array([0., 1.], dtype=float32), array([2005,  150]))\n",
      "(array([0., 1.], dtype=float32), array([1812,  343]))\n"
     ]
    },
    {
     "name": "stderr",
     "output_type": "stream",
     "text": [
      "100%|██████████| 40/40 [00:10<00:00,  3.73it/s]\n",
      "100%|██████████| 9/9 [00:02<00:00,  4.07it/s]\n"
     ]
    },
    {
     "name": "stdout",
     "output_type": "stream",
     "text": [
      "UPDATED BEST MODEL\n",
      "Epoch: 09 | Time: 0m 12s\n",
      "\tTrain Loss: 0.2600815251469612 | Train PPL: 1.297035823391728\n",
      "\t Val. Loss: 0.3105565839343601 |  Val. PPL: 1.3641841858703783\n",
      "Val. Loss >  Train Loss, overfitting\n",
      "Train accuracy result: 0.8936400275238376\n",
      "Train AUROC result: 0.758599781904071\n",
      "(array([0., 1.], dtype=float32), array([8904, 1269]))\n",
      "(array([0., 1.], dtype=float32), array([8446, 1727]))\n",
      "Validation accuracy result: 0.8696055684454757\n",
      "Validation AUROC result: 0.6494683966301752\n",
      "(array([0., 1.], dtype=float32), array([1993,  162]))\n",
      "(array([0., 1.], dtype=float32), array([1812,  343]))\n"
     ]
    },
    {
     "name": "stderr",
     "output_type": "stream",
     "text": [
      "100%|██████████| 40/40 [00:10<00:00,  3.97it/s]\n",
      "100%|██████████| 9/9 [00:02<00:00,  4.10it/s]\n"
     ]
    },
    {
     "name": "stdout",
     "output_type": "stream",
     "text": [
      "Epoch: 10 | Time: 0m 12s\n",
      "\tTrain Loss: 0.2401651494204998 | Train PPL: 1.2714591137190807\n",
      "\t Val. Loss: 0.31417405274179244 |  Val. PPL: 1.3691280162952535\n",
      "Val. Loss >  Train Loss, overfitting\n",
      "Train accuracy result: 0.9045512631475474\n",
      "Train AUROC result: 0.7753050100224582\n",
      "(array([0., 1.], dtype=float32), array([8927, 1246]))\n",
      "(array([0., 1.], dtype=float32), array([8446, 1727]))\n",
      "Validation accuracy result: 0.8677494199535963\n",
      "Validation AUROC result: 0.6211835254442363\n",
      "(array([0., 1.], dtype=float32), array([2035,  120]))\n",
      "(array([0., 1.], dtype=float32), array([1812,  343]))\n"
     ]
    },
    {
     "name": "stderr",
     "output_type": "stream",
     "text": [
      "100%|██████████| 40/40 [00:10<00:00,  3.99it/s]\n",
      "100%|██████████| 9/9 [00:02<00:00,  4.20it/s]\n"
     ]
    },
    {
     "name": "stdout",
     "output_type": "stream",
     "text": [
      "UPDATED BEST MODEL\n",
      "Epoch: 11 | Time: 0m 12s\n",
      "\tTrain Loss: 0.2220550611615181 | Train PPL: 1.2486401275472883\n",
      "\t Val. Loss: 0.3354810078938802 |  Val. PPL: 1.3986129673286163\n",
      "Val. Loss >  Train Loss, overfitting\n",
      "Train accuracy result: 0.9137914086306891\n",
      "Train AUROC result: 0.7969921587753721\n",
      "(array([0., 1.], dtype=float32), array([8881, 1292]))\n",
      "(array([0., 1.], dtype=float32), array([8446, 1727]))\n",
      "Validation accuracy result: 0.8784222737819025\n",
      "Validation AUROC result: 0.701982732544295\n",
      "(array([0., 1.], dtype=float32), array([1932,  223]))\n",
      "(array([0., 1.], dtype=float32), array([1812,  343]))\n"
     ]
    },
    {
     "name": "stderr",
     "output_type": "stream",
     "text": [
      "100%|██████████| 40/40 [00:10<00:00,  3.96it/s]\n",
      "100%|██████████| 9/9 [00:02<00:00,  4.25it/s]\n"
     ]
    },
    {
     "name": "stdout",
     "output_type": "stream",
     "text": [
      "Epoch: 12 | Time: 0m 12s\n",
      "\tTrain Loss: 0.201904309540987 | Train PPL: 1.2237309031367036\n",
      "\t Val. Loss: 0.36028892132971024 |  Val. PPL: 1.4337435938304395\n",
      "Val. Loss >  Train Loss, overfitting\n",
      "Train accuracy result: 0.9188046790523936\n",
      "Train AUROC result: 0.8080725316363186\n",
      "(array([0., 1.], dtype=float32), array([8862, 1311]))\n",
      "(array([0., 1.], dtype=float32), array([8446, 1727]))\n",
      "Validation accuracy result: 0.8709976798143851\n",
      "Validation AUROC result: 0.6609323010187991\n",
      "(array([0., 1.], dtype=float32), array([1978,  177]))\n",
      "(array([0., 1.], dtype=float32), array([1812,  343]))\n"
     ]
    },
    {
     "name": "stderr",
     "output_type": "stream",
     "text": [
      "100%|██████████| 40/40 [00:10<00:00,  3.96it/s]\n",
      "100%|██████████| 9/9 [00:02<00:00,  4.23it/s]\n"
     ]
    },
    {
     "name": "stdout",
     "output_type": "stream",
     "text": [
      "Epoch: 13 | Time: 0m 12s\n",
      "\tTrain Loss: 0.1762442324310541 | Train PPL: 1.192729326263666\n",
      "\t Val. Loss: 0.38535146249665153 |  Val. PPL: 1.4701309265380136\n",
      "Val. Loss >  Train Loss, overfitting\n",
      "Train accuracy result: 0.9337461908974737\n",
      "Train AUROC result: 0.8470124450149668\n",
      "(array([0., 1.], dtype=float32), array([8754, 1419]))\n",
      "(array([0., 1.], dtype=float32), array([8446, 1727]))\n",
      "Validation accuracy result: 0.8649651972157772\n",
      "Validation AUROC result: 0.6396182881856621\n",
      "(array([0., 1.], dtype=float32), array([1995,  160]))\n",
      "(array([0., 1.], dtype=float32), array([1812,  343]))\n"
     ]
    },
    {
     "name": "stderr",
     "output_type": "stream",
     "text": [
      "100%|██████████| 40/40 [00:10<00:00,  3.94it/s]\n",
      "100%|██████████| 9/9 [00:02<00:00,  4.28it/s]\n"
     ]
    },
    {
     "name": "stdout",
     "output_type": "stream",
     "text": [
      "Epoch: 14 | Time: 0m 12s\n",
      "\tTrain Loss: 0.15081932563334705 | Train PPL: 1.1627865533780404\n",
      "\t Val. Loss: 0.44439049230681527 |  Val. PPL: 1.5595393548550491\n",
      "Val. Loss >  Train Loss, overfitting\n",
      "Train accuracy result: 0.9423965398604148\n",
      "Train AUROC result: 0.8678837564877919\n",
      "(array([0., 1.], dtype=float32), array([8706, 1467]))\n",
      "(array([0., 1.], dtype=float32), array([8446, 1727]))\n",
      "Validation accuracy result: 0.8705336426914153\n",
      "Validation AUROC result: 0.640565970948455\n",
      "(array([0., 1.], dtype=float32), array([2011,  144]))\n",
      "(array([0., 1.], dtype=float32), array([1812,  343]))\n"
     ]
    },
    {
     "name": "stderr",
     "output_type": "stream",
     "text": [
      "100%|██████████| 40/40 [00:10<00:00,  3.91it/s]\n",
      "100%|██████████| 9/9 [00:02<00:00,  4.14it/s]\n"
     ]
    },
    {
     "name": "stdout",
     "output_type": "stream",
     "text": [
      "Epoch: 15 | Time: 0m 12s\n",
      "\tTrain Loss: 0.13037290889769793 | Train PPL: 1.1392531417548912\n",
      "\t Val. Loss: 0.5269968211650848 |  Val. PPL: 1.6938377648094334\n",
      "Val. Loss >  Train Loss, overfitting\n",
      "Train accuracy result: 0.9486877027425539\n",
      "Train AUROC result: 0.8822672419667793\n",
      "(array([0., 1.], dtype=float32), array([8678, 1495]))\n",
      "(array([0., 1.], dtype=float32), array([8446, 1727]))\n",
      "Validation accuracy result: 0.8700696055684455\n",
      "Validation AUROC result: 0.6450171837893152\n",
      "(array([0., 1.], dtype=float32), array([2002,  153]))\n",
      "(array([0., 1.], dtype=float32), array([1812,  343]))\n"
     ]
    },
    {
     "name": "stderr",
     "output_type": "stream",
     "text": [
      "100%|██████████| 40/40 [00:10<00:00,  3.90it/s]\n",
      "100%|██████████| 9/9 [00:02<00:00,  4.23it/s]\n"
     ]
    },
    {
     "name": "stdout",
     "output_type": "stream",
     "text": [
      "UPDATED BEST MODEL\n",
      "Epoch: 16 | Time: 0m 12s\n",
      "\tTrain Loss: 0.1268512697890401 | Train PPL: 1.1352481595263775\n",
      "\t Val. Loss: 0.4005091256565518 |  Val. PPL: 1.4925844172498788\n",
      "Val. Loss >  Train Loss, overfitting\n",
      "Train accuracy result: 0.9548805662046594\n",
      "Train AUROC result: 0.8945186498345497\n",
      "(array([0., 1.], dtype=float32), array([8667, 1506]))\n",
      "(array([0., 1.], dtype=float32), array([8446, 1727]))\n",
      "Validation accuracy result: 0.8658932714617169\n",
      "Validation AUROC result: 0.7536217893022866\n",
      "(array([0., 1.], dtype=float32), array([1805,  350]))\n",
      "(array([0., 1.], dtype=float32), array([1812,  343]))\n"
     ]
    },
    {
     "name": "stderr",
     "output_type": "stream",
     "text": [
      "100%|██████████| 40/40 [00:10<00:00,  3.94it/s]\n",
      "100%|██████████| 9/9 [00:02<00:00,  4.21it/s]\n"
     ]
    },
    {
     "name": "stdout",
     "output_type": "stream",
     "text": [
      "Epoch: 17 | Time: 0m 12s\n",
      "\tTrain Loss: 0.11481694262474776 | Train PPL: 1.1216680891609352\n",
      "\t Val. Loss: 0.5211798681153191 |  Val. PPL: 1.6840133917183375\n",
      "Val. Loss >  Train Loss, overfitting\n",
      "Train accuracy result: 0.958517644745896\n",
      "Train AUROC result: 0.9036186291163961\n",
      "(array([0., 1.], dtype=float32), array([8644, 1529]))\n",
      "(array([0., 1.], dtype=float32), array([8446, 1727]))\n",
      "Validation accuracy result: 0.8645011600928074\n",
      "Validation AUROC result: 0.706704252183371\n",
      "(array([0., 1.], dtype=float32), array([1880,  275]))\n",
      "(array([0., 1.], dtype=float32), array([1812,  343]))\n"
     ]
    },
    {
     "name": "stderr",
     "output_type": "stream",
     "text": [
      "100%|██████████| 40/40 [00:10<00:00,  3.91it/s]\n",
      "100%|██████████| 9/9 [00:02<00:00,  4.17it/s]\n"
     ]
    },
    {
     "name": "stdout",
     "output_type": "stream",
     "text": [
      "Epoch: 18 | Time: 0m 12s\n",
      "\tTrain Loss: 0.07066222904250026 | Train PPL: 1.0732186625448696\n",
      "\t Val. Loss: 0.5968801048066881 |  Val. PPL: 1.8164428395090924\n",
      "Val. Loss >  Train Loss, overfitting\n",
      "Train accuracy result: 0.9745404502113437\n",
      "Train AUROC result: 0.9390639823472009\n",
      "(array([0., 1.], dtype=float32), array([8583, 1590]))\n",
      "(array([0., 1.], dtype=float32), array([8446, 1727]))\n",
      "Validation accuracy result: 0.8556844547563806\n",
      "Validation AUROC result: 0.7357332715489223\n",
      "(array([0., 1.], dtype=float32), array([1803,  352]))\n",
      "(array([0., 1.], dtype=float32), array([1812,  343]))\n"
     ]
    },
    {
     "name": "stderr",
     "output_type": "stream",
     "text": [
      "100%|██████████| 40/40 [00:10<00:00,  3.97it/s]\n",
      "100%|██████████| 9/9 [00:02<00:00,  4.33it/s]\n"
     ]
    },
    {
     "name": "stdout",
     "output_type": "stream",
     "text": [
      "UPDATED BEST MODEL\n",
      "Epoch: 19 | Time: 0m 12s\n",
      "\tTrain Loss: 0.0724044436123222 | Train PPL: 1.0750900694581969\n",
      "\t Val. Loss: 0.5652838829490874 |  Val. PPL: 1.7599473308503826\n",
      "Val. Loss >  Train Loss, overfitting\n",
      "Train accuracy result: 0.9722795635505751\n",
      "Train AUROC result: 0.9383933503914167\n",
      "(array([0., 1.], dtype=float32), array([8554, 1619]))\n",
      "(array([0., 1.], dtype=float32), array([8446, 1727]))\n",
      "Validation accuracy result: 0.8487238979118329\n",
      "Validation AUROC result: 0.7682296191892083\n",
      "(array([0., 1.], dtype=float32), array([1726,  429]))\n",
      "(array([0., 1.], dtype=float32), array([1812,  343]))\n"
     ]
    },
    {
     "name": "stderr",
     "output_type": "stream",
     "text": [
      "100%|██████████| 40/40 [00:09<00:00,  4.03it/s]\n",
      "100%|██████████| 9/9 [00:02<00:00,  4.33it/s]\n"
     ]
    },
    {
     "name": "stdout",
     "output_type": "stream",
     "text": [
      "UPDATED BEST MODEL\n",
      "Epoch: 20 | Time: 0m 12s\n",
      "\tTrain Loss: 0.06927082454785705 | Train PPL: 1.0717264196715395\n",
      "\t Val. Loss: 0.7421329120794932 |  Val. PPL: 2.1004107315967793\n",
      "Val. Loss >  Train Loss, overfitting\n",
      "Train accuracy result: 0.9745404502113437\n",
      "Train AUROC result: 0.9434400581040683\n",
      "(array([0., 1.], dtype=float32), array([8545, 1628]))\n",
      "(array([0., 1.], dtype=float32), array([8446, 1727]))\n",
      "Validation accuracy result: 0.8320185614849188\n",
      "Validation AUROC result: 0.8091127179348561\n",
      "(array([0., 1.], dtype=float32), array([1604,  551]))\n",
      "(array([0., 1.], dtype=float32), array([1812,  343]))\n"
     ]
    },
    {
     "name": "stderr",
     "output_type": "stream",
     "text": [
      "100%|██████████| 40/40 [00:10<00:00,  3.69it/s]\n",
      "100%|██████████| 9/9 [00:02<00:00,  3.88it/s]\n"
     ]
    },
    {
     "name": "stdout",
     "output_type": "stream",
     "text": [
      "Epoch: 21 | Time: 0m 13s\n",
      "\tTrain Loss: 0.07818549936637283 | Train PPL: 1.0813232248401115\n",
      "\t Val. Loss: 0.7607039246294234 |  Val. PPL: 2.139781935685765\n",
      "Val. Loss >  Train Loss, overfitting\n",
      "Train accuracy result: 0.9714931681903077\n",
      "Train AUROC result: 0.9402229511892097\n",
      "(array([0., 1.], dtype=float32), array([8526, 1647]))\n",
      "(array([0., 1.], dtype=float32), array([8446, 1727]))\n",
      "Validation accuracy result: 0.8069605568445476\n",
      "Validation AUROC result: 0.8013027822292588\n",
      "(array([0., 1.], dtype=float32), array([1538,  617]))\n",
      "(array([0., 1.], dtype=float32), array([1812,  343]))\n"
     ]
    },
    {
     "name": "stderr",
     "output_type": "stream",
     "text": [
      "100%|██████████| 40/40 [00:10<00:00,  3.96it/s]\n",
      "100%|██████████| 9/9 [00:02<00:00,  4.29it/s]\n"
     ]
    },
    {
     "name": "stdout",
     "output_type": "stream",
     "text": [
      "Epoch: 22 | Time: 0m 12s\n",
      "\tTrain Loss: 0.08366850186139345 | Train PPL: 1.087268406608753\n",
      "\t Val. Loss: 0.567019436094496 |  Val. PPL: 1.7630044651183132\n",
      "Val. Loss >  Train Loss, overfitting\n",
      "Train accuracy result: 0.9690356826894722\n",
      "Train AUROC result: 0.9410461584279214\n",
      "(array([0., 1.], dtype=float32), array([8481, 1692]))\n",
      "(array([0., 1.], dtype=float32), array([8446, 1727]))\n",
      "Validation accuracy result: 0.8213457076566125\n",
      "Validation AUROC result: 0.7968572007800282\n",
      "(array([0., 1.], dtype=float32), array([1591,  564]))\n",
      "(array([0., 1.], dtype=float32), array([1812,  343]))\n"
     ]
    },
    {
     "name": "stderr",
     "output_type": "stream",
     "text": [
      "100%|██████████| 40/40 [00:10<00:00,  3.90it/s]\n",
      "100%|██████████| 9/9 [00:02<00:00,  4.04it/s]\n"
     ]
    },
    {
     "name": "stdout",
     "output_type": "stream",
     "text": [
      "Epoch: 23 | Time: 0m 12s\n",
      "\tTrain Loss: 0.09483608044683933 | Train PPL: 1.099478614310842\n",
      "\t Val. Loss: 0.6322577529483371 |  Val. PPL: 1.8818545492005394\n",
      "Val. Loss >  Train Loss, overfitting\n",
      "Train accuracy result: 0.9621547232871326\n",
      "Train AUROC result: 0.9318351498624525\n",
      "(array([0., 1.], dtype=float32), array([8455, 1718]))\n",
      "(array([0., 1.], dtype=float32), array([8446, 1727]))\n",
      "Validation accuracy result: 0.8719257540603248\n",
      "Validation AUROC result: 0.7040285366748402\n",
      "(array([0., 1.], dtype=float32), array([1908,  247]))\n",
      "(array([0., 1.], dtype=float32), array([1812,  343]))\n"
     ]
    },
    {
     "name": "stderr",
     "output_type": "stream",
     "text": [
      "100%|██████████| 40/40 [00:10<00:00,  3.92it/s]\n",
      "100%|██████████| 9/9 [00:02<00:00,  4.26it/s]\n"
     ]
    },
    {
     "name": "stdout",
     "output_type": "stream",
     "text": [
      "Epoch: 24 | Time: 0m 12s\n",
      "\tTrain Loss: 0.053178275609388946 | Train PPL: 1.0546176409639363\n",
      "\t Val. Loss: 0.7704706655608283 |  Val. PPL: 2.1607830206398115\n",
      "Val. Loss >  Train Loss, overfitting\n",
      "Train accuracy result: 0.9828959009141847\n",
      "Train AUROC result: 0.9634428113834943\n",
      "(array([0., 1.], dtype=float32), array([8500, 1673]))\n",
      "(array([0., 1.], dtype=float32), array([8446, 1727]))\n",
      "Validation accuracy result: 0.8561484918793504\n",
      "Validation AUROC result: 0.7289184831927095\n",
      "(array([0., 1.], dtype=float32), array([1816,  339]))\n",
      "(array([0., 1.], dtype=float32), array([1812,  343]))\n"
     ]
    },
    {
     "name": "stderr",
     "output_type": "stream",
     "text": [
      "100%|██████████| 40/40 [00:10<00:00,  3.88it/s]\n",
      "100%|██████████| 9/9 [00:02<00:00,  4.25it/s]\n"
     ]
    },
    {
     "name": "stdout",
     "output_type": "stream",
     "text": [
      "Epoch: 25 | Time: 0m 12s\n",
      "\tTrain Loss: 0.032066197134554386 | Train PPL: 1.0325858572676738\n",
      "\t Val. Loss: 0.9145276347796122 |  Val. PPL: 2.4955961406202687\n",
      "Val. Loss >  Train Loss, overfitting\n",
      "Train accuracy result: 0.9886955666961565\n",
      "Train AUROC result: 0.9731542230000023\n",
      "(array([0., 1.], dtype=float32), array([8505, 1668]))\n",
      "(array([0., 1.], dtype=float32), array([8446, 1727]))\n",
      "Validation accuracy result: 0.8440835266821346\n",
      "Validation AUROC result: 0.7548341474716661\n",
      "(array([0., 1.], dtype=float32), array([1734,  421]))\n",
      "(array([0., 1.], dtype=float32), array([1812,  343]))\n"
     ]
    },
    {
     "name": "stderr",
     "output_type": "stream",
     "text": [
      "100%|██████████| 40/40 [00:09<00:00,  4.00it/s]\n",
      "100%|██████████| 9/9 [00:02<00:00,  4.16it/s]\n"
     ]
    },
    {
     "name": "stdout",
     "output_type": "stream",
     "text": [
      "Epoch: 26 | Time: 0m 12s\n",
      "\tTrain Loss: 0.03137113088741898 | Train PPL: 1.0318683910631739\n",
      "\t Val. Loss: 0.9085709883107079 |  Val. PPL: 2.4807749428225327\n",
      "Val. Loss >  Train Loss, overfitting\n",
      "Train accuracy result: 0.9879091713358891\n",
      "Train AUROC result: 0.9708380678176052\n",
      "(array([0., 1.], dtype=float32), array([8513, 1660]))\n",
      "(array([0., 1.], dtype=float32), array([8446, 1727]))\n",
      "Validation accuracy result: 0.8487238979118329\n",
      "Validation AUROC result: 0.743412076278004\n",
      "(array([0., 1.], dtype=float32), array([1768,  387]))\n",
      "(array([0., 1.], dtype=float32), array([1812,  343]))\n"
     ]
    },
    {
     "name": "stderr",
     "output_type": "stream",
     "text": [
      "100%|██████████| 40/40 [00:10<00:00,  3.94it/s]\n",
      "100%|██████████| 9/9 [00:02<00:00,  4.18it/s]\n"
     ]
    },
    {
     "name": "stdout",
     "output_type": "stream",
     "text": [
      "Epoch: 27 | Time: 0m 12s\n",
      "\tTrain Loss: 0.026509793917648496 | Train PPL: 1.0268643042368655\n",
      "\t Val. Loss: 0.8931901388698154 |  Val. PPL: 2.442910457370691\n",
      "Val. Loss >  Train Loss, overfitting\n",
      "Train accuracy result: 0.9887938661161899\n",
      "Train AUROC result: 0.9720618237377386\n",
      "(array([0., 1.], dtype=float32), array([8516, 1657]))\n",
      "(array([0., 1.], dtype=float32), array([8446, 1727]))\n",
      "Validation accuracy result: 0.8552204176334107\n",
      "Validation AUROC result: 0.7531841497242227\n",
      "(array([0., 1.], dtype=float32), array([1772,  383]))\n",
      "(array([0., 1.], dtype=float32), array([1812,  343]))\n"
     ]
    },
    {
     "name": "stderr",
     "output_type": "stream",
     "text": [
      "100%|██████████| 40/40 [00:10<00:00,  3.89it/s]\n",
      "100%|██████████| 9/9 [00:02<00:00,  4.10it/s]\n"
     ]
    },
    {
     "name": "stdout",
     "output_type": "stream",
     "text": [
      "Epoch: 28 | Time: 0m 12s\n",
      "\tTrain Loss: 0.02029294865205884 | Train PPL: 1.0205002504147052\n",
      "\t Val. Loss: 1.3130475812488132 |  Val. PPL: 3.717485806227856\n",
      "Val. Loss >  Train Loss, overfitting\n",
      "Train accuracy result: 0.9913496510370589\n",
      "Train AUROC result: 0.977977089643789\n",
      "(array([0., 1.], dtype=float32), array([8504, 1669]))\n",
      "(array([0., 1.], dtype=float32), array([8446, 1727]))\n",
      "Validation accuracy result: 0.8468677494199536\n",
      "Validation AUROC result: 0.7458536867916514\n",
      "(array([0., 1.], dtype=float32), array([1758,  397]))\n",
      "(array([0., 1.], dtype=float32), array([1812,  343]))\n"
     ]
    },
    {
     "name": "stderr",
     "output_type": "stream",
     "text": [
      "100%|██████████| 40/40 [00:10<00:00,  3.97it/s]\n",
      "100%|██████████| 9/9 [00:02<00:00,  4.25it/s]\n"
     ]
    },
    {
     "name": "stdout",
     "output_type": "stream",
     "text": [
      "Epoch: 29 | Time: 0m 12s\n",
      "\tTrain Loss: 0.020541112625505776 | Train PPL: 1.0207535332382878\n",
      "\t Val. Loss: 1.4348478780852423 |  Val. PPL: 4.199006199337575\n",
      "Val. Loss >  Train Loss, overfitting\n",
      "Train accuracy result: 0.9902683574166913\n",
      "Train AUROC result: 0.9766349344814107\n",
      "(array([0., 1.], dtype=float32), array([8499, 1674]))\n",
      "(array([0., 1.], dtype=float32), array([8446, 1727]))\n",
      "Validation accuracy result: 0.8324825986078886\n",
      "Validation AUROC result: 0.7963889907902613\n",
      "(array([0., 1.], dtype=float32), array([1627,  528]))\n",
      "(array([0., 1.], dtype=float32), array([1812,  343]))\n"
     ]
    },
    {
     "name": "stderr",
     "output_type": "stream",
     "text": [
      "100%|██████████| 40/40 [00:10<00:00,  3.93it/s]\n",
      "100%|██████████| 9/9 [00:02<00:00,  4.18it/s]\n"
     ]
    },
    {
     "name": "stdout",
     "output_type": "stream",
     "text": [
      "Epoch: 30 | Time: 0m 12s\n",
      "\tTrain Loss: 0.026548745523905383 | Train PPL: 1.0269043030299267\n",
      "\t Val. Loss: 1.03383027182685 |  Val. PPL: 2.8118152517033934\n",
      "Val. Loss >  Train Loss, overfitting\n",
      "Train accuracy result: 0.991841148137226\n",
      "Train AUROC result: 0.9819582041762368\n",
      "(array([0., 1.], dtype=float32), array([8477, 1696]))\n",
      "(array([0., 1.], dtype=float32), array([8446, 1727]))\n",
      "Validation accuracy result: 0.8468677494199536\n",
      "Validation AUROC result: 0.7777619562489139\n",
      "(array([0., 1.], dtype=float32), array([1704,  451]))\n",
      "(array([0., 1.], dtype=float32), array([1812,  343]))\n"
     ]
    },
    {
     "name": "stderr",
     "output_type": "stream",
     "text": [
      "100%|██████████| 40/40 [00:10<00:00,  3.98it/s]\n",
      "100%|██████████| 9/9 [00:02<00:00,  4.28it/s]\n"
     ]
    },
    {
     "name": "stdout",
     "output_type": "stream",
     "text": [
      "Epoch: 31 | Time: 0m 12s\n",
      "\tTrain Loss: 0.02311135223135352 | Train PPL: 1.0233804889038052\n",
      "\t Val. Loss: 1.2893587483300104 |  Val. PPL: 3.6304577720552347\n",
      "Val. Loss >  Train Loss, overfitting\n",
      "Train accuracy result: 0.9912513516170255\n",
      "Train AUROC result: 0.9779178900226667\n",
      "(array([0., 1.], dtype=float32), array([8503, 1670]))\n",
      "(array([0., 1.], dtype=float32), array([8446, 1727]))\n",
      "Validation accuracy result: 0.8283062645011601\n",
      "Validation AUROC result: 0.7820876695048881\n",
      "(array([0., 1.], dtype=float32), array([1638,  517]))\n",
      "(array([0., 1.], dtype=float32), array([1812,  343]))\n"
     ]
    },
    {
     "name": "stderr",
     "output_type": "stream",
     "text": [
      "100%|██████████| 40/40 [00:10<00:00,  4.00it/s]\n",
      "100%|██████████| 9/9 [00:02<00:00,  4.28it/s]\n"
     ]
    },
    {
     "name": "stdout",
     "output_type": "stream",
     "text": [
      "Epoch: 32 | Time: 0m 12s\n",
      "\tTrain Loss: 0.01952013446716592 | Train PPL: 1.019711898009695\n",
      "\t Val. Loss: 1.1410939296086628 |  Val. PPL: 3.130190701236344\n",
      "Val. Loss >  Train Loss, overfitting\n",
      "Train accuracy result: 0.9903666568367246\n",
      "Train AUROC result: 0.9764638143258558\n",
      "(array([0., 1.], dtype=float32), array([8502, 1671]))\n",
      "(array([0., 1.], dtype=float32), array([8446, 1727]))\n",
      "Validation accuracy result: 0.8468677494199536\n",
      "Validation AUROC result: 0.7765801684912376\n",
      "(array([0., 1.], dtype=float32), array([1706,  449]))\n",
      "(array([0., 1.], dtype=float32), array([1812,  343]))\n"
     ]
    },
    {
     "name": "stderr",
     "output_type": "stream",
     "text": [
      "100%|██████████| 40/40 [00:10<00:00,  3.99it/s]\n",
      "100%|██████████| 9/9 [00:02<00:00,  4.22it/s]\n"
     ]
    },
    {
     "name": "stdout",
     "output_type": "stream",
     "text": [
      "Epoch: 33 | Time: 0m 12s\n",
      "\tTrain Loss: 0.017280648287851363 | Train PPL: 1.0174308224791382\n",
      "\t Val. Loss: 1.2638904319869146 |  Val. PPL: 3.5391636139588374\n",
      "Val. Loss >  Train Loss, overfitting\n",
      "Train accuracy result: 0.9928241423375602\n",
      "Train AUROC result: 0.982550200387461\n",
      "(array([0., 1.], dtype=float32), array([8487, 1686]))\n",
      "(array([0., 1.], dtype=float32), array([8446, 1727]))\n",
      "Validation accuracy result: 0.8445475638051044\n",
      "Validation AUROC result: 0.7763822652996866\n",
      "(array([0., 1.], dtype=float32), array([1699,  456]))\n",
      "(array([0., 1.], dtype=float32), array([1812,  343]))\n"
     ]
    },
    {
     "name": "stderr",
     "output_type": "stream",
     "text": [
      "100%|██████████| 40/40 [00:09<00:00,  4.03it/s]\n",
      "100%|██████████| 9/9 [00:02<00:00,  4.26it/s]\n"
     ]
    },
    {
     "name": "stdout",
     "output_type": "stream",
     "text": [
      "Epoch: 34 | Time: 0m 12s\n",
      "\tTrain Loss: 0.022625928797060622 | Train PPL: 1.0228838365853827\n",
      "\t Val. Loss: 1.038163787788815 |  Val. PPL: 2.8240267382042625\n",
      "Val. Loss >  Train Loss, overfitting\n",
      "Train accuracy result: 0.9912513516170255\n",
      "Train AUROC result: 0.9786088493526984\n",
      "(array([0., 1.], dtype=float32), array([8497, 1676]))\n",
      "(array([0., 1.], dtype=float32), array([8446, 1727]))\n",
      "Validation accuracy result: 0.8334106728538283\n",
      "Validation AUROC result: 0.7626690221973368\n",
      "(array([0., 1.], dtype=float32), array([1687,  468]))\n",
      "(array([0., 1.], dtype=float32), array([1812,  343]))\n"
     ]
    },
    {
     "name": "stderr",
     "output_type": "stream",
     "text": [
      "100%|██████████| 40/40 [00:10<00:00,  3.99it/s]\n",
      "100%|██████████| 9/9 [00:02<00:00,  4.26it/s]\n"
     ]
    },
    {
     "name": "stdout",
     "output_type": "stream",
     "text": [
      "Epoch: 35 | Time: 0m 12s\n",
      "\tTrain Loss: 0.018208598834462464 | Train PPL: 1.018375386153406\n",
      "\t Val. Loss: 1.1257813572883606 |  Val. PPL: 3.0826245393133886\n",
      "Val. Loss >  Train Loss, overfitting\n",
      "Train accuracy result: 0.9909564533569252\n",
      "Train AUROC result: 0.9777402911592994\n",
      "(array([0., 1.], dtype=float32), array([8500, 1673]))\n",
      "(array([0., 1.], dtype=float32), array([8446, 1727]))\n",
      "Validation accuracy result: 0.851508120649652\n",
      "Validation AUROC result: 0.7651580972975757\n",
      "(array([0., 1.], dtype=float32), array([1740,  415]))\n",
      "(array([0., 1.], dtype=float32), array([1812,  343]))\n"
     ]
    },
    {
     "name": "stderr",
     "output_type": "stream",
     "text": [
      "100%|██████████| 40/40 [00:10<00:00,  3.99it/s]\n",
      "100%|██████████| 9/9 [00:02<00:00,  4.36it/s]\n"
     ]
    },
    {
     "name": "stdout",
     "output_type": "stream",
     "text": [
      "Epoch: 36 | Time: 0m 12s\n",
      "\tTrain Loss: 0.024009483598638325 | Train PPL: 1.0243000318949473\n",
      "\t Val. Loss: 1.0395355489518907 |  Val. PPL: 2.8279032866486356\n",
      "Val. Loss >  Train Loss, overfitting\n",
      "Train accuracy result: 0.9897768603165241\n",
      "Train AUROC result: 0.9740357386090263\n",
      "(array([0., 1.], dtype=float32), array([8514, 1659]))\n",
      "(array([0., 1.], dtype=float32), array([8446, 1727]))\n",
      "Validation accuracy result: 0.8361948955916473\n",
      "Validation AUROC result: 0.7725971656401444\n",
      "(array([0., 1.], dtype=float32), array([1679,  476]))\n",
      "(array([0., 1.], dtype=float32), array([1812,  343]))\n"
     ]
    },
    {
     "name": "stderr",
     "output_type": "stream",
     "text": [
      "100%|██████████| 40/40 [00:09<00:00,  4.06it/s]\n",
      "100%|██████████| 9/9 [00:02<00:00,  4.36it/s]\n"
     ]
    },
    {
     "name": "stdout",
     "output_type": "stream",
     "text": [
      "Epoch: 37 | Time: 0m 11s\n",
      "\tTrain Loss: 0.01878467542119324 | Train PPL: 1.0189622173835087\n",
      "\t Val. Loss: 1.1040461593204074 |  Val. PPL: 3.016345982714205\n",
      "Val. Loss >  Train Loss, overfitting\n",
      "Train accuracy result: 0.991841148137226\n",
      "Train AUROC result: 0.97919436685611\n",
      "(array([0., 1.], dtype=float32), array([8501, 1672]))\n",
      "(array([0., 1.], dtype=float32), array([8446, 1727]))\n",
      "Validation accuracy result: 0.8529002320185615\n",
      "Validation AUROC result: 0.7648041241094358\n",
      "(array([0., 1.], dtype=float32), array([1745,  410]))\n",
      "(array([0., 1.], dtype=float32), array([1812,  343]))\n"
     ]
    },
    {
     "name": "stderr",
     "output_type": "stream",
     "text": [
      "100%|██████████| 40/40 [00:10<00:00,  3.92it/s]\n",
      "100%|██████████| 9/9 [00:02<00:00,  4.22it/s]\n"
     ]
    },
    {
     "name": "stdout",
     "output_type": "stream",
     "text": [
      "Epoch: 38 | Time: 0m 12s\n",
      "\tTrain Loss: 0.020327772066229953 | Train PPL: 1.0205357883363595\n",
      "\t Val. Loss: 1.2328297694524128 |  Val. PPL: 3.430924537961475\n",
      "Val. Loss >  Train Loss, overfitting\n",
      "Train accuracy result: 0.9928241423375602\n",
      "Train AUROC result: 0.9820895608341065\n",
      "(array([0., 1.], dtype=float32), array([8491, 1682]))\n",
      "(array([0., 1.], dtype=float32), array([8446, 1727]))\n",
      "Validation accuracy result: 0.8580046403712297\n",
      "Validation AUROC result: 0.7619305054093539\n",
      "(array([0., 1.], dtype=float32), array([1766,  389]))\n",
      "(array([0., 1.], dtype=float32), array([1812,  343]))\n"
     ]
    },
    {
     "name": "stderr",
     "output_type": "stream",
     "text": [
      "100%|██████████| 40/40 [00:10<00:00,  3.94it/s]\n",
      "100%|██████████| 9/9 [00:02<00:00,  4.24it/s]\n"
     ]
    },
    {
     "name": "stdout",
     "output_type": "stream",
     "text": [
      "Epoch: 39 | Time: 0m 12s\n",
      "\tTrain Loss: 0.02585130137158558 | Train PPL: 1.0261883443284132\n",
      "\t Val. Loss: 0.967122475306193 |  Val. PPL: 2.630364619849327\n",
      "Val. Loss >  Train Loss, overfitting\n",
      "Train accuracy result: 0.9908581539368918\n",
      "Train AUROC result: 0.975838533324759\n",
      "(array([0., 1.], dtype=float32), array([8515, 1658]))\n",
      "(array([0., 1.], dtype=float32), array([8446, 1727]))\n",
      "Validation accuracy result: 0.8575406032482599\n",
      "Validation AUROC result: 0.7581092039464792\n",
      "(array([0., 1.], dtype=float32), array([1771,  384]))\n",
      "(array([0., 1.], dtype=float32), array([1812,  343]))\n"
     ]
    },
    {
     "name": "stderr",
     "output_type": "stream",
     "text": [
      "100%|██████████| 40/40 [00:10<00:00,  3.96it/s]\n",
      "100%|██████████| 9/9 [00:02<00:00,  4.23it/s]\n"
     ]
    },
    {
     "name": "stdout",
     "output_type": "stream",
     "text": [
      "Epoch: 40 | Time: 0m 12s\n",
      "\tTrain Loss: 0.019813959230668844 | Train PPL: 1.0200115586386698\n",
      "\t Val. Loss: 1.1837063034375508 |  Val. PPL: 3.266458280982076\n",
      "Val. Loss >  Train Loss, overfitting\n",
      "Train accuracy result: 0.9904649562567581\n",
      "Train AUROC result: 0.9746804557335604\n",
      "(array([0., 1.], dtype=float32), array([8519, 1654]))\n",
      "(array([0., 1.], dtype=float32), array([8446, 1727]))\n",
      "Validation accuracy result: 0.8556844547563806\n",
      "Validation AUROC result: 0.7440057858526571\n",
      "(array([0., 1.], dtype=float32), array([1789,  366]))\n",
      "(array([0., 1.], dtype=float32), array([1812,  343]))\n"
     ]
    },
    {
     "name": "stderr",
     "output_type": "stream",
     "text": [
      "100%|██████████| 40/40 [00:10<00:00,  3.95it/s]\n",
      "100%|██████████| 9/9 [00:02<00:00,  4.32it/s]\n"
     ]
    },
    {
     "name": "stdout",
     "output_type": "stream",
     "text": [
      "Epoch: 41 | Time: 0m 12s\n",
      "\tTrain Loss: 0.021991676895413547 | Train PPL: 1.0222352762639146\n",
      "\t Val. Loss: 0.9272465970781114 |  Val. PPL: 2.527540251176612\n",
      "Val. Loss >  Train Loss, overfitting\n",
      "Train accuracy result: 0.9914479504570923\n",
      "Train AUROC result: 0.9773453299348798\n",
      "(array([0., 1.], dtype=float32), array([8511, 1662]))\n",
      "(array([0., 1.], dtype=float32), array([8446, 1727]))\n",
      "Validation accuracy result: 0.8589327146171694\n",
      "Validation AUROC result: 0.7423919899085462\n",
      "(array([0., 1.], dtype=float32), array([1802,  353]))\n",
      "(array([0., 1.], dtype=float32), array([1812,  343]))\n"
     ]
    },
    {
     "name": "stderr",
     "output_type": "stream",
     "text": [
      "100%|██████████| 40/40 [00:09<00:00,  4.07it/s]\n",
      "100%|██████████| 9/9 [00:02<00:00,  4.37it/s]\n"
     ]
    },
    {
     "name": "stdout",
     "output_type": "stream",
     "text": [
      "Epoch: 42 | Time: 0m 11s\n",
      "\tTrain Loss: 0.015930544771254062 | Train PPL: 1.016058112406675\n",
      "\t Val. Loss: 1.3366579744550917 |  Val. PPL: 3.8063014683806276\n",
      "Val. Loss >  Train Loss, overfitting\n",
      "Train accuracy result: 0.9912513516170255\n",
      "Train AUROC result: 0.9756146922558944\n",
      "(array([0., 1.], dtype=float32), array([8523, 1650]))\n",
      "(array([0., 1.], dtype=float32), array([8446, 1727]))\n",
      "Validation accuracy result: 0.8491879350348028\n",
      "Validation AUROC result: 0.7354155001641149\n",
      "(array([0., 1.], dtype=float32), array([1783,  372]))\n",
      "(array([0., 1.], dtype=float32), array([1812,  343]))\n"
     ]
    },
    {
     "name": "stderr",
     "output_type": "stream",
     "text": [
      "100%|██████████| 40/40 [00:09<00:00,  4.04it/s]\n",
      "100%|██████████| 9/9 [00:02<00:00,  4.28it/s]\n"
     ]
    },
    {
     "name": "stdout",
     "output_type": "stream",
     "text": [
      "Epoch: 43 | Time: 0m 12s\n",
      "\tTrain Loss: 0.011990216418053024 | Train PPL: 1.0120623872223402\n",
      "\t Val. Loss: 1.6109894514083862 |  Val. PPL: 5.007763716168091\n",
      "Val. Loss >  Train Loss, overfitting\n",
      "Train accuracy result: 0.9936105376978276\n",
      "Train AUROC result: 0.9834844369097948\n",
      "(array([0., 1.], dtype=float32), array([8491, 1682]))\n",
      "(array([0., 1.], dtype=float32), array([8446, 1727]))\n",
      "Validation accuracy result: 0.8603248259860788\n",
      "Validation AUROC result: 0.7337655024166715\n",
      "(array([0., 1.], dtype=float32), array([1821,  334]))\n",
      "(array([0., 1.], dtype=float32), array([1812,  343]))\n"
     ]
    },
    {
     "name": "stderr",
     "output_type": "stream",
     "text": [
      "100%|██████████| 40/40 [00:10<00:00,  3.99it/s]\n",
      "100%|██████████| 9/9 [00:02<00:00,  4.28it/s]\n"
     ]
    },
    {
     "name": "stdout",
     "output_type": "stream",
     "text": [
      "Epoch: 44 | Time: 0m 12s\n",
      "\tTrain Loss: 0.013545626282575541 | Train PPL: 1.0136377839191064\n",
      "\t Val. Loss: 1.4884244865841336 |  Val. PPL: 4.430110319568618\n",
      "Val. Loss >  Train Loss, overfitting\n",
      "Train accuracy result: 0.9929224417575936\n",
      "Train AUROC result: 0.9816881209018745\n",
      "(array([0., 1.], dtype=float32), array([8496, 1677]))\n",
      "(array([0., 1.], dtype=float32), array([8446, 1727]))\n",
      "Validation accuracy result: 0.8473317865429234\n",
      "Validation AUROC result: 0.7532203515275552\n",
      "(array([0., 1.], dtype=float32), array([1747,  408]))\n",
      "(array([0., 1.], dtype=float32), array([1812,  343]))\n"
     ]
    },
    {
     "name": "stderr",
     "output_type": "stream",
     "text": [
      "100%|██████████| 40/40 [00:10<00:00,  3.99it/s]\n",
      "100%|██████████| 9/9 [00:02<00:00,  4.28it/s]\n"
     ]
    },
    {
     "name": "stdout",
     "output_type": "stream",
     "text": [
      "Epoch: 45 | Time: 0m 12s\n",
      "\tTrain Loss: 0.022139836370479317 | Train PPL: 1.0223867413260546\n",
      "\t Val. Loss: 0.9019235173861185 |  Val. PPL: 2.4643387535893635\n",
      "Val. Loss >  Train Loss, overfitting\n",
      "Train accuracy result: 0.991153052196992\n",
      "Train AUROC result: 0.9776283706248668\n",
      "(array([0., 1.], dtype=float32), array([8504, 1669]))\n",
      "(array([0., 1.], dtype=float32), array([8446, 1727]))\n",
      "Validation accuracy result: 0.8547563805104408\n",
      "Validation AUROC result: 0.7351813951692313\n",
      "(array([0., 1.], dtype=float32), array([1801,  354]))\n",
      "(array([0., 1.], dtype=float32), array([1812,  343]))\n"
     ]
    },
    {
     "name": "stderr",
     "output_type": "stream",
     "text": [
      "100%|██████████| 40/40 [00:10<00:00,  3.94it/s]\n",
      "100%|██████████| 9/9 [00:02<00:00,  4.22it/s]\n"
     ]
    },
    {
     "name": "stdout",
     "output_type": "stream",
     "text": [
      "Epoch: 46 | Time: 0m 12s\n",
      "\tTrain Loss: 0.014409645192790777 | Train PPL: 1.0145139645963501\n",
      "\t Val. Loss: 1.2128683394855924 |  Val. PPL: 3.3631173933733445\n",
      "Val. Loss >  Train Loss, overfitting\n",
      "Train accuracy result: 0.9923326452373931\n",
      "Train AUROC result: 0.9787994056316905\n",
      "(array([0., 1.], dtype=float32), array([8512, 1661]))\n",
      "(array([0., 1.], dtype=float32), array([8446, 1727]))\n",
      "Validation accuracy result: 0.8626450116009281\n",
      "Validation AUROC result: 0.7315998300928697\n",
      "(array([0., 1.], dtype=float32), array([1832,  323]))\n",
      "(array([0., 1.], dtype=float32), array([1812,  343]))\n"
     ]
    },
    {
     "name": "stderr",
     "output_type": "stream",
     "text": [
      "100%|██████████| 40/40 [00:10<00:00,  3.97it/s]\n",
      "100%|██████████| 9/9 [00:02<00:00,  4.26it/s]\n"
     ]
    },
    {
     "name": "stdout",
     "output_type": "stream",
     "text": [
      "Epoch: 47 | Time: 0m 12s\n",
      "\tTrain Loss: 0.010758678650017828 | Train PPL: 1.0108167613439603\n",
      "\t Val. Loss: 1.5432693693372939 |  Val. PPL: 4.679865495961089\n",
      "Val. Loss >  Train Loss, overfitting\n",
      "Train accuracy result: 0.994396933058095\n",
      "Train AUROC result: 0.9855702723155149\n",
      "(array([0., 1.], dtype=float32), array([8485, 1688]))\n",
      "(array([0., 1.], dtype=float32), array([8446, 1727]))\n",
      "Validation accuracy result: 0.8593967517401392\n",
      "Validation AUROC result: 0.7568493811905084\n",
      "(array([0., 1.], dtype=float32), array([1779,  376]))\n",
      "(array([0., 1.], dtype=float32), array([1812,  343]))\n"
     ]
    },
    {
     "name": "stderr",
     "output_type": "stream",
     "text": [
      "100%|██████████| 40/40 [00:10<00:00,  3.98it/s]\n",
      "100%|██████████| 9/9 [00:02<00:00,  4.26it/s]\n"
     ]
    },
    {
     "name": "stdout",
     "output_type": "stream",
     "text": [
      "Epoch: 48 | Time: 0m 12s\n",
      "\tTrain Loss: 0.01793979328358546 | Train PPL: 1.0181016779855168\n",
      "\t Val. Loss: 1.370404130882687 |  Val. PPL: 3.9369414136282335\n",
      "Val. Loss >  Train Loss, overfitting\n",
      "Train accuracy result: 0.9917428487171925\n",
      "Train AUROC result: 0.9798261265650192\n",
      "(array([0., 1.], dtype=float32), array([8494, 1679]))\n",
      "(array([0., 1.], dtype=float32), array([8446, 1727]))\n",
      "Validation accuracy result: 0.8464037122969837\n",
      "Validation AUROC result: 0.7514866873901879\n",
      "(array([0., 1.], dtype=float32), array([1747,  408]))\n",
      "(array([0., 1.], dtype=float32), array([1812,  343]))\n"
     ]
    },
    {
     "name": "stderr",
     "output_type": "stream",
     "text": [
      "100%|██████████| 40/40 [00:09<00:00,  4.05it/s]\n",
      "100%|██████████| 9/9 [00:02<00:00,  4.36it/s]\n"
     ]
    },
    {
     "name": "stdout",
     "output_type": "stream",
     "text": [
      "Epoch: 49 | Time: 0m 11s\n",
      "\tTrain Loss: 0.013197490281891077 | Train PPL: 1.0132849615335207\n",
      "\t Val. Loss: 1.3357078631718953 |  Val. PPL: 3.802686775860265\n",
      "Val. Loss >  Train Loss, overfitting\n",
      "Train accuracy result: 0.9927258429175267\n",
      "Train AUROC result: 0.9818000414363068\n",
      "(array([0., 1.], dtype=float32), array([8492, 1681]))\n",
      "(array([0., 1.], dtype=float32), array([8446, 1727]))\n",
      "Validation accuracy result: 0.854292343387471\n",
      "Validation AUROC result: 0.7396326080100915\n",
      "(array([0., 1.], dtype=float32), array([1792,  363]))\n",
      "(array([0., 1.], dtype=float32), array([1812,  343]))\n"
     ]
    },
    {
     "name": "stderr",
     "output_type": "stream",
     "text": [
      "100%|██████████| 40/40 [00:09<00:00,  4.03it/s]\n",
      "100%|██████████| 9/9 [00:02<00:00,  4.23it/s]"
     ]
    },
    {
     "name": "stdout",
     "output_type": "stream",
     "text": [
      "Epoch: 50 | Time: 0m 12s\n",
      "\tTrain Loss: 0.013264013142907061 | Train PPL: 1.0133523703902765\n",
      "\t Val. Loss: 1.473354246881273 |  Val. PPL: 4.363848043410861\n",
      "Val. Loss >  Train Loss, overfitting\n",
      "Train accuracy result: 0.9930207411776271\n",
      "Train AUROC result: 0.981977640299674\n",
      "(array([0., 1.], dtype=float32), array([8495, 1678]))\n",
      "(array([0., 1.], dtype=float32), array([8446, 1727]))\n",
      "Validation accuracy result: 0.8519721577726218\n",
      "Validation AUROC result: 0.7488890068799515\n",
      "(array([0., 1.], dtype=float32), array([1769,  386]))\n",
      "(array([0., 1.], dtype=float32), array([1812,  343]))\n"
     ]
    },
    {
     "name": "stderr",
     "output_type": "stream",
     "text": [
      "\n"
     ]
    }
   ],
   "source": [
    "# Define epochs and clip\n",
    "N_EPOCHS = 50\n",
    "CLIP = 1\n",
    "\n",
    "# Run\n",
    "best_valid_loss = float('inf')\n",
    "best_valid_auroc = 0\n",
    "\n",
    "for epoch in range(N_EPOCHS):\n",
    "\n",
    "    start_time = time.time()\n",
    "\n",
    "    train_loss, train_accuracy, train_auroc, train_predictions, train_labels = train(model, train_dataloader, optimizer, criterion, CLIP)\n",
    "    valid_loss, valid_accuracy, valid_auroc, valid_predictions, valid_labels = evaluate(model, valid_dataloader, criterion)\n",
    "\n",
    "    end_time = time.time()\n",
    "\n",
    "    epoch_mins, epoch_secs = epoch_time(start_time, end_time)\n",
    "\n",
    "    if valid_loss < best_valid_loss:\n",
    "        best_valid_loss = valid_loss\n",
    "        print('BEST VALID LOSS')\n",
    "\n",
    "    if valid_auroc > best_valid_auroc:\n",
    "        best_valid_auroc = valid_auroc\n",
    "        print('UPDATED BEST MODEL')\n",
    "        torch.save(model.state_dict(), 'switch_model_all.pt')\n",
    "\n",
    "    print(f'Epoch: {epoch + 1:02} | Time: {epoch_mins}m {epoch_secs}s')\n",
    "    print(f'\\tTrain Loss: {train_loss} | Train PPL: {math.exp(train_loss)}')\n",
    "    print(f'\\t Val. Loss: {valid_loss} |  Val. PPL: {math.exp(valid_loss)}')\n",
    "    if valid_loss > train_loss:\n",
    "        print('Val. Loss >  Train Loss, overfitting')\n",
    "    elif train_loss > valid_loss:\n",
    "        print('Train. Loss >  Val Loss, underfitting')\n",
    "    else:\n",
    "        print('Train. Loss =  Val Loss')\n",
    "\n",
    "    print('Train accuracy result:', train_accuracy)\n",
    "    print('Train AUROC result:', train_auroc)\n",
    "    print(np.unique(train_predictions.round(), return_counts=True))\n",
    "    print(np.unique(train_labels.round(), return_counts=True))\n",
    "    print('Validation accuracy result:', valid_accuracy)\n",
    "    print('Validation AUROC result:', valid_auroc)\n",
    "    print(np.unique(valid_predictions.round(), return_counts=True))\n",
    "    print(np.unique(valid_labels.round(), return_counts=True))"
   ]
  },
  {
   "cell_type": "code",
   "execution_count": 13,
   "metadata": {},
   "outputs": [
    {
     "data": {
      "text/plain": [
       "<All keys matched successfully>"
      ]
     },
     "execution_count": 13,
     "metadata": {},
     "output_type": "execute_result"
    },
    {
     "name": "stderr",
     "output_type": "stream",
     "text": [
      "100%|██████████| 9/9 [00:02<00:00,  4.12it/s]"
     ]
    },
    {
     "name": "stdout",
     "output_type": "stream",
     "text": [
      "\n",
      "| Test Loss: 0.9326660301950243 | Test PPL: 2.5412752709118394 |\n",
      "Test accuracy result: 0.8038321167883211\n",
      "Test AUROC result: 0.7582185025068763\n",
      "(array([0., 1.], dtype=float32), array([1641,  551]))\n",
      "(array([0., 1.], dtype=float32), array([1881,  311]))\n",
      "test_predictions [0.0000000e+00 9.2310198e-28 1.3590901e-01 ... 6.4171553e-01 3.8969242e-15\n",
      " 1.9546336e-14]\n",
      "test_labels [0. 0. 0. ... 1. 0. 0.]\n"
     ]
    },
    {
     "name": "stderr",
     "output_type": "stream",
     "text": [
      "\n"
     ]
    }
   ],
   "source": [
    "# -----------------------------\n",
    "# Evaluate best model on test set\n",
    "# -----------------------------\n",
    "\n",
    "model.load_state_dict(torch.load('switch_model_all.pt'))\n",
    "\n",
    "test_loss, test_accuracy, test_auroc, test_predictions, test_labels = evaluate(model, test_dataloader, criterion)\n",
    "\n",
    "print(f'\\n| Test Loss: {test_loss} | Test PPL: {math.exp(test_loss)} |')\n",
    "print('Test accuracy result:', test_accuracy)\n",
    "print('Test AUROC result:', test_auroc)\n",
    "#torch.set_printoptions(edgeitems=10)\n",
    "print(np.unique(test_predictions.round(), return_counts=True))\n",
    "print(np.unique(test_labels.round(), return_counts=True))\n",
    "print('test_predictions', test_predictions)\n",
    "print('test_labels', test_labels)"
   ]
  },
  {
   "cell_type": "markdown",
   "metadata": {},
   "source": [
    "shap"
   ]
  },
  {
   "cell_type": "code",
   "execution_count": 14,
   "metadata": {},
   "outputs": [
    {
     "data": {
      "text/plain": [
       "<torch.autograd.grad_mode.set_grad_enabled at 0x7fc166a35610>"
      ]
     },
     "execution_count": 14,
     "metadata": {},
     "output_type": "execute_result"
    },
    {
     "data": {
      "text/plain": [
       "Model_simplex(\n",
       "  (layers): Sequential(\n",
       "    (0): BatchNorm1d(960, eps=1e-05, momentum=0.1, affine=True, track_running_stats=True)\n",
       "    (1): Linear(in_features=960, out_features=512, bias=True)\n",
       "    (2): ReLU()\n",
       "    (3): Dropout(p=0.3, inplace=False)\n",
       "    (4): Linear(in_features=512, out_features=512, bias=True)\n",
       "    (5): ReLU()\n",
       "    (6): Dropout(p=0.3, inplace=False)\n",
       "    (7): Linear(in_features=512, out_features=128, bias=True)\n",
       "    (8): ReLU()\n",
       "    (9): ReLU()\n",
       "    (10): Linear(in_features=128, out_features=128, bias=True)\n",
       "    (11): ReLU()\n",
       "    (12): Dropout(p=0.3, inplace=False)\n",
       "    (13): Linear(in_features=128, out_features=64, bias=True)\n",
       "    (14): ReLU()\n",
       "    (15): Dropout(p=0.3, inplace=False)\n",
       "    (16): Linear(in_features=64, out_features=64, bias=True)\n",
       "    (17): ReLU()\n",
       "    (18): Dropout(p=0.3, inplace=False)\n",
       "    (19): Linear(in_features=64, out_features=8, bias=True)\n",
       "    (20): ReLU()\n",
       "    (21): Dropout(p=0.3, inplace=False)\n",
       "  )\n",
       "  (layers2): Sequential(\n",
       "    (0): Linear(in_features=8, out_features=1, bias=True)\n",
       "  )\n",
       ")"
      ]
     },
     "execution_count": 14,
     "metadata": {},
     "output_type": "execute_result"
    },
    {
     "name": "stderr",
     "output_type": "stream",
     "text": [
      "Using a non-full backward hook when the forward contains multiple autograd Nodes is deprecated and will be removed in future versions. This hook will be missing some grad_input. Please use register_full_backward_hook to get the documented behavior.\n"
     ]
    },
    {
     "data": {
      "image/png": "[encoded data removed]",
      "text/plain": [
       "<Figure size 576x684 with 2 Axes>"
      ]
     },
     "metadata": {
      "needs_background": "light"
     },
     "output_type": "display_data"
    }
   ],
   "source": [
    "torch.set_grad_enabled(True)\n",
    "\n",
    "# Get features\n",
    "train_features = train_data.drop(columns=['stay_id', 'po_flag'])\n",
    "test_features = test_data.drop(columns=['stay_id', 'po_flag'])\n",
    "\n",
    "# Load and move model to cpu\n",
    "#model.load_state_dict(torch.load('fresh_switch_model_all.pt'))\n",
    "model.to('cpu')\n",
    "# Define DeepExplainer (train data)\n",
    "e = shap.DeepExplainer(model, torch.from_numpy(train_features.to_numpy(dtype=np.float32)))\n",
    "# Get the shap values from my test data (this explainer likes tensors)\n",
    "shap_values = e.shap_values(torch.from_numpy(test_features.to_numpy(dtype=np.float32)))\n",
    "# Define feature_names\n",
    "feature_names = test_features.columns\n",
    "# Plot\n",
    "shap.summary_plot(shap_values, test_features.to_numpy(dtype=np.float32), feature_names)"
   ]
  },
  {
   "cell_type": "code",
   "execution_count": 15,
   "metadata": {},
   "outputs": [
    {
     "data": {
      "text/html": [
       "<div>\n",
       "<style scoped>\n",
       "    .dataframe tbody tr th:only-of-type {\n",
       "        vertical-align: middle;\n",
       "    }\n",
       "\n",
       "    .dataframe tbody tr th {\n",
       "        vertical-align: top;\n",
       "    }\n",
       "\n",
       "    .dataframe thead th {\n",
       "        text-align: right;\n",
       "    }\n",
       "</style>\n",
       "<table border=\"1\" class=\"dataframe\">\n",
       "  <thead>\n",
       "    <tr style=\"text-align: right;\">\n",
       "      <th></th>\n",
       "      <th>col_name</th>\n",
       "      <th>feature_importance_vals</th>\n",
       "    </tr>\n",
       "  </thead>\n",
       "  <tbody>\n",
       "    <tr>\n",
       "      <th>137</th>\n",
       "      <td>blood pressure systolic17_current_stay</td>\n",
       "      <td>2.267795</td>\n",
       "    </tr>\n",
       "    <tr>\n",
       "      <th>305</th>\n",
       "      <td>heart rate17</td>\n",
       "      <td>2.052705</td>\n",
       "    </tr>\n",
       "    <tr>\n",
       "      <th>419</th>\n",
       "      <td>respiratory rate11_current_stay</td>\n",
       "      <td>1.657936</td>\n",
       "    </tr>\n",
       "    <tr>\n",
       "      <th>83</th>\n",
       "      <td>blood pressure mean11_current_stay</td>\n",
       "      <td>1.617050</td>\n",
       "    </tr>\n",
       "    <tr>\n",
       "      <th>363</th>\n",
       "      <td>o2 saturation pulseoxymetry3_current_stay</td>\n",
       "      <td>1.383182</td>\n",
       "    </tr>\n",
       "  </tbody>\n",
       "</table>\n",
       "</div>"
      ],
      "text/plain": [
       "                                      col_name  feature_importance_vals\n",
       "137     blood pressure systolic17_current_stay                 2.267795\n",
       "305                               heart rate17                 2.052705\n",
       "419            respiratory rate11_current_stay                 1.657936\n",
       "83          blood pressure mean11_current_stay                 1.617050\n",
       "363  o2 saturation pulseoxymetry3_current_stay                 1.383182"
      ]
     },
     "execution_count": 15,
     "metadata": {},
     "output_type": "execute_result"
    }
   ],
   "source": [
    "# get features with the highest shap values\n",
    "rf_resultX = pd.DataFrame(shap_values, columns=feature_names)\n",
    "\n",
    "vals = np.abs(rf_resultX.values).mean(0)\n",
    "\n",
    "shap_importance = pd.DataFrame(list(zip(feature_names, vals)),\n",
    "                                  columns=['col_name','feature_importance_vals'])\n",
    "shap_importance.sort_values(by=['feature_importance_vals'],\n",
    "                               ascending=False, inplace=True)\n",
    "shap_importance.head()"
   ]
  },
  {
   "cell_type": "code",
   "execution_count": 16,
   "metadata": {},
   "outputs": [],
   "source": [
    "shap_importance = shap_importance.reset_index(drop=True)"
   ]
  },
  {
   "cell_type": "code",
   "execution_count": 17,
   "metadata": {},
   "outputs": [
    {
     "data": {
      "text/html": [
       "<div>\n",
       "<style scoped>\n",
       "    .dataframe tbody tr th:only-of-type {\n",
       "        vertical-align: middle;\n",
       "    }\n",
       "\n",
       "    .dataframe tbody tr th {\n",
       "        vertical-align: top;\n",
       "    }\n",
       "\n",
       "    .dataframe thead th {\n",
       "        text-align: right;\n",
       "    }\n",
       "</style>\n",
       "<table border=\"1\" class=\"dataframe\">\n",
       "  <thead>\n",
       "    <tr style=\"text-align: right;\">\n",
       "      <th></th>\n",
       "      <th>col_name</th>\n",
       "      <th>feature_importance_vals</th>\n",
       "    </tr>\n",
       "  </thead>\n",
       "  <tbody>\n",
       "    <tr>\n",
       "      <th>0</th>\n",
       "      <td>blood pressure systolic17_current_stay</td>\n",
       "      <td>2.267795</td>\n",
       "    </tr>\n",
       "    <tr>\n",
       "      <th>1</th>\n",
       "      <td>heart rate17</td>\n",
       "      <td>2.052705</td>\n",
       "    </tr>\n",
       "    <tr>\n",
       "      <th>2</th>\n",
       "      <td>respiratory rate11_current_stay</td>\n",
       "      <td>1.657936</td>\n",
       "    </tr>\n",
       "    <tr>\n",
       "      <th>3</th>\n",
       "      <td>blood pressure mean11_current_stay</td>\n",
       "      <td>1.617050</td>\n",
       "    </tr>\n",
       "    <tr>\n",
       "      <th>4</th>\n",
       "      <td>o2 saturation pulseoxymetry3_current_stay</td>\n",
       "      <td>1.383182</td>\n",
       "    </tr>\n",
       "    <tr>\n",
       "      <th>...</th>\n",
       "      <td>...</td>\n",
       "      <td>...</td>\n",
       "    </tr>\n",
       "    <tr>\n",
       "      <th>955</th>\n",
       "      <td>heart rate18</td>\n",
       "      <td>0.000000</td>\n",
       "    </tr>\n",
       "    <tr>\n",
       "      <th>956</th>\n",
       "      <td>heart rate19</td>\n",
       "      <td>0.000000</td>\n",
       "    </tr>\n",
       "    <tr>\n",
       "      <th>957</th>\n",
       "      <td>heart rate19_difference</td>\n",
       "      <td>0.000000</td>\n",
       "    </tr>\n",
       "    <tr>\n",
       "      <th>958</th>\n",
       "      <td>temperature18_difference</td>\n",
       "      <td>0.000000</td>\n",
       "    </tr>\n",
       "    <tr>\n",
       "      <th>959</th>\n",
       "      <td>blood pressure systolic19</td>\n",
       "      <td>0.000000</td>\n",
       "    </tr>\n",
       "  </tbody>\n",
       "</table>\n",
       "<p>960 rows × 2 columns</p>\n",
       "</div>"
      ],
      "text/plain": [
       "                                      col_name  feature_importance_vals\n",
       "0       blood pressure systolic17_current_stay                 2.267795\n",
       "1                                 heart rate17                 2.052705\n",
       "2              respiratory rate11_current_stay                 1.657936\n",
       "3           blood pressure mean11_current_stay                 1.617050\n",
       "4    o2 saturation pulseoxymetry3_current_stay                 1.383182\n",
       "..                                         ...                      ...\n",
       "955                               heart rate18                 0.000000\n",
       "956                               heart rate19                 0.000000\n",
       "957                    heart rate19_difference                 0.000000\n",
       "958                   temperature18_difference                 0.000000\n",
       "959                  blood pressure systolic19                 0.000000\n",
       "\n",
       "[960 rows x 2 columns]"
      ]
     },
     "execution_count": 17,
     "metadata": {},
     "output_type": "execute_result"
    }
   ],
   "source": [
    "shap_importance"
   ]
  },
  {
   "cell_type": "code",
   "execution_count": 18,
   "metadata": {},
   "outputs": [],
   "source": [
    "# Save\n",
    "#shap_importance.to_csv('all_shap_importance.csv', index=False)"
   ]
  }
 ],
 "metadata": {
  "kernelspec": {
   "display_name": "Python 3.9.12 ('stop')",
   "language": "python",
   "name": "python3"
  },
  "language_info": {
   "codemirror_mode": {
    "name": "ipython",
    "version": 3
   },
   "file_extension": ".py",
   "mimetype": "text/x-python",
   "name": "python",
   "nbconvert_exporter": "python",
   "pygments_lexer": "ipython3",
   "version": "3.9.12"
  },
  "orig_nbformat": 4,
  "vscode": {
   "interpreter": {
    "hash": "b914b4141a72f865a99efb28f4ad9820e4d48c646b2422d69f515325602afc5d"
   }
  }
 },
 "nbformat": 4,
 "nbformat_minor": 2
}
