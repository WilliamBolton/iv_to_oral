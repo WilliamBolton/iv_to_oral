{
 "cells": [
  {
   "cell_type": "code",
   "execution_count": 24,
   "metadata": {},
   "outputs": [],
   "source": [
    "# Libraries\n",
    "import numpy as np\n",
    "import matplotlib\n",
    "import matplotlib.pyplot as plt\n",
    "import math\n",
    "import time\n",
    "import random\n",
    "import sklearn\n",
    "from torch.utils.data import Dataset, DataLoader\n",
    "import pandas as pd\n",
    "import torch\n",
    "from torch import nn\n",
    "from torch import optim\n",
    "from tqdm import tqdm\n",
    "import torch.nn.functional as F\n",
    "\n",
    "from IPython.core.interactiveshell import InteractiveShell\n",
    "InteractiveShell.ast_node_interactivity = \"all\"\n",
    "\n",
    "# Remove printing error\n",
    "pd.options.mode.chained_assignment = None"
   ]
  },
  {
   "attachments": {},
   "cell_type": "markdown",
   "metadata": {},
   "source": [
    "## Data"
   ]
  },
  {
   "cell_type": "code",
   "execution_count": 25,
   "metadata": {},
   "outputs": [],
   "source": [
    "# Data\n",
    "mimic_data = pd.read_csv('mimic_data.csv')\n",
    "\n",
    "\n",
    "# Split into 'preprocessing dataset' and a 'train/vaid/test dataset'\n",
    "stays = mimic_data['stay_id'].unique()\n",
    "\n",
    "random.Random(0).shuffle(stays)\n",
    "model_data2 = mimic_data.set_index(\"stay_id\").loc[stays].reset_index()\n",
    "n = round(0.5 * len(stays))\n",
    "preprocessing_stays = stays[:n]\n",
    "hold_out_stays = stays[n:]\n",
    "preprocessing_data = model_data2[model_data2['stay_id'].isin(preprocessing_stays)]\n",
    "hold_out_data = model_data2[model_data2['stay_id'].isin(hold_out_stays)]\n",
    "\n",
    "eicu_data = pd.read_csv('eicu_data.csv')"
   ]
  },
  {
   "cell_type": "code",
   "execution_count": 21,
   "metadata": {},
   "outputs": [],
   "source": [
    "preprocessing_data = preprocessing_data.iloc[:,:6]\n",
    "hold_out_data = hold_out_data.iloc[:,:6]\n",
    "eicu_data = eicu_data.iloc[:,:6]"
   ]
  },
  {
   "cell_type": "code",
   "execution_count": 26,
   "metadata": {},
   "outputs": [
    {
     "data": {
      "text/plain": [
       "4347"
      ]
     },
     "execution_count": 26,
     "metadata": {},
     "output_type": "execute_result"
    },
    {
     "data": {
      "text/plain": [
       "4347"
      ]
     },
     "execution_count": 26,
     "metadata": {},
     "output_type": "execute_result"
    },
    {
     "data": {
      "text/plain": [
       "1668"
      ]
     },
     "execution_count": 26,
     "metadata": {},
     "output_type": "execute_result"
    }
   ],
   "source": [
    "preprocessing_data.stay_id.nunique()\n",
    "hold_out_data.stay_id.nunique()\n",
    "eicu_data.stay_id.nunique()"
   ]
  },
  {
   "cell_type": "code",
   "execution_count": 10,
   "metadata": {},
   "outputs": [
    {
     "data": {
      "text/html": [
       "<div>\n",
       "<style scoped>\n",
       "    .dataframe tbody tr th:only-of-type {\n",
       "        vertical-align: middle;\n",
       "    }\n",
       "\n",
       "    .dataframe tbody tr th {\n",
       "        vertical-align: top;\n",
       "    }\n",
       "\n",
       "    .dataframe thead th {\n",
       "        text-align: right;\n",
       "    }\n",
       "</style>\n",
       "<table border=\"1\" class=\"dataframe\">\n",
       "  <thead>\n",
       "    <tr style=\"text-align: right;\">\n",
       "      <th></th>\n",
       "      <th>stay_id</th>\n",
       "      <th>date</th>\n",
       "      <th>iv_flag</th>\n",
       "      <th>first_po_flag</th>\n",
       "      <th>po_flag</th>\n",
       "      <th>iv_treatment_length</th>\n",
       "    </tr>\n",
       "  </thead>\n",
       "  <tbody>\n",
       "    <tr>\n",
       "      <th>0</th>\n",
       "      <td>39409066.0</td>\n",
       "      <td>2137-05-22</td>\n",
       "      <td>1.0</td>\n",
       "      <td>1.0</td>\n",
       "      <td>0</td>\n",
       "      <td>0</td>\n",
       "    </tr>\n",
       "    <tr>\n",
       "      <th>1</th>\n",
       "      <td>39409066.0</td>\n",
       "      <td>2137-05-23</td>\n",
       "      <td>1.0</td>\n",
       "      <td>1.0</td>\n",
       "      <td>0</td>\n",
       "      <td>1</td>\n",
       "    </tr>\n",
       "    <tr>\n",
       "      <th>2</th>\n",
       "      <td>30322661.0</td>\n",
       "      <td>2169-10-09</td>\n",
       "      <td>1.0</td>\n",
       "      <td>NaN</td>\n",
       "      <td>0</td>\n",
       "      <td>0</td>\n",
       "    </tr>\n",
       "    <tr>\n",
       "      <th>3</th>\n",
       "      <td>30322661.0</td>\n",
       "      <td>2169-10-10</td>\n",
       "      <td>1.0</td>\n",
       "      <td>1.0</td>\n",
       "      <td>0</td>\n",
       "      <td>1</td>\n",
       "    </tr>\n",
       "    <tr>\n",
       "      <th>4</th>\n",
       "      <td>30322661.0</td>\n",
       "      <td>2169-10-11</td>\n",
       "      <td>1.0</td>\n",
       "      <td>1.0</td>\n",
       "      <td>0</td>\n",
       "      <td>2</td>\n",
       "    </tr>\n",
       "    <tr>\n",
       "      <th>...</th>\n",
       "      <td>...</td>\n",
       "      <td>...</td>\n",
       "      <td>...</td>\n",
       "      <td>...</td>\n",
       "      <td>...</td>\n",
       "      <td>...</td>\n",
       "    </tr>\n",
       "    <tr>\n",
       "      <th>14515</th>\n",
       "      <td>37575956.0</td>\n",
       "      <td>2153-02-15</td>\n",
       "      <td>1.0</td>\n",
       "      <td>1.0</td>\n",
       "      <td>0</td>\n",
       "      <td>0</td>\n",
       "    </tr>\n",
       "    <tr>\n",
       "      <th>14516</th>\n",
       "      <td>37575956.0</td>\n",
       "      <td>2153-02-16</td>\n",
       "      <td>1.0</td>\n",
       "      <td>1.0</td>\n",
       "      <td>0</td>\n",
       "      <td>1</td>\n",
       "    </tr>\n",
       "    <tr>\n",
       "      <th>14517</th>\n",
       "      <td>37540542.0</td>\n",
       "      <td>2161-05-10</td>\n",
       "      <td>1.0</td>\n",
       "      <td>NaN</td>\n",
       "      <td>0</td>\n",
       "      <td>0</td>\n",
       "    </tr>\n",
       "    <tr>\n",
       "      <th>14518</th>\n",
       "      <td>37540542.0</td>\n",
       "      <td>2161-05-11</td>\n",
       "      <td>1.0</td>\n",
       "      <td>1.0</td>\n",
       "      <td>0</td>\n",
       "      <td>1</td>\n",
       "    </tr>\n",
       "    <tr>\n",
       "      <th>14519</th>\n",
       "      <td>37540542.0</td>\n",
       "      <td>2161-05-12</td>\n",
       "      <td>1.0</td>\n",
       "      <td>1.0</td>\n",
       "      <td>0</td>\n",
       "      <td>2</td>\n",
       "    </tr>\n",
       "  </tbody>\n",
       "</table>\n",
       "<p>14520 rows × 6 columns</p>\n",
       "</div>"
      ],
      "text/plain": [
       "          stay_id        date  iv_flag  first_po_flag  po_flag  \\\n",
       "0      39409066.0  2137-05-22      1.0            1.0        0   \n",
       "1      39409066.0  2137-05-23      1.0            1.0        0   \n",
       "2      30322661.0  2169-10-09      1.0            NaN        0   \n",
       "3      30322661.0  2169-10-10      1.0            1.0        0   \n",
       "4      30322661.0  2169-10-11      1.0            1.0        0   \n",
       "...           ...         ...      ...            ...      ...   \n",
       "14515  37575956.0  2153-02-15      1.0            1.0        0   \n",
       "14516  37575956.0  2153-02-16      1.0            1.0        0   \n",
       "14517  37540542.0  2161-05-10      1.0            NaN        0   \n",
       "14518  37540542.0  2161-05-11      1.0            1.0        0   \n",
       "14519  37540542.0  2161-05-12      1.0            1.0        0   \n",
       "\n",
       "       iv_treatment_length  \n",
       "0                        0  \n",
       "1                        1  \n",
       "2                        0  \n",
       "3                        1  \n",
       "4                        2  \n",
       "...                    ...  \n",
       "14515                    0  \n",
       "14516                    1  \n",
       "14517                    0  \n",
       "14518                    1  \n",
       "14519                    2  \n",
       "\n",
       "[14520 rows x 6 columns]"
      ]
     },
     "execution_count": 10,
     "metadata": {},
     "output_type": "execute_result"
    }
   ],
   "source": [
    "preprocessing_data"
   ]
  },
  {
   "cell_type": "code",
   "execution_count": 191,
   "metadata": {},
   "outputs": [
    {
     "data": {
      "text/html": [
       "<div>\n",
       "<style scoped>\n",
       "    .dataframe tbody tr th:only-of-type {\n",
       "        vertical-align: middle;\n",
       "    }\n",
       "\n",
       "    .dataframe tbody tr th {\n",
       "        vertical-align: top;\n",
       "    }\n",
       "\n",
       "    .dataframe thead th {\n",
       "        text-align: right;\n",
       "    }\n",
       "</style>\n",
       "<table border=\"1\" class=\"dataframe\">\n",
       "  <thead>\n",
       "    <tr style=\"text-align: right;\">\n",
       "      <th></th>\n",
       "      <th>stay_id</th>\n",
       "      <th>date</th>\n",
       "      <th>iv_flag</th>\n",
       "      <th>first_po_flag</th>\n",
       "      <th>po_flag</th>\n",
       "      <th>iv_treatment_length</th>\n",
       "    </tr>\n",
       "  </thead>\n",
       "  <tbody>\n",
       "    <tr>\n",
       "      <th>14520</th>\n",
       "      <td>31658148.0</td>\n",
       "      <td>2154-01-11</td>\n",
       "      <td>1.0</td>\n",
       "      <td>1.0</td>\n",
       "      <td>0</td>\n",
       "      <td>0</td>\n",
       "    </tr>\n",
       "    <tr>\n",
       "      <th>14521</th>\n",
       "      <td>31658148.0</td>\n",
       "      <td>2154-01-12</td>\n",
       "      <td>1.0</td>\n",
       "      <td>1.0</td>\n",
       "      <td>0</td>\n",
       "      <td>1</td>\n",
       "    </tr>\n",
       "    <tr>\n",
       "      <th>14522</th>\n",
       "      <td>31658148.0</td>\n",
       "      <td>2154-01-13</td>\n",
       "      <td>1.0</td>\n",
       "      <td>1.0</td>\n",
       "      <td>0</td>\n",
       "      <td>2</td>\n",
       "    </tr>\n",
       "    <tr>\n",
       "      <th>14523</th>\n",
       "      <td>33816676.0</td>\n",
       "      <td>2117-08-21</td>\n",
       "      <td>1.0</td>\n",
       "      <td>1.0</td>\n",
       "      <td>0</td>\n",
       "      <td>0</td>\n",
       "    </tr>\n",
       "    <tr>\n",
       "      <th>14524</th>\n",
       "      <td>33816676.0</td>\n",
       "      <td>2117-08-22</td>\n",
       "      <td>1.0</td>\n",
       "      <td>1.0</td>\n",
       "      <td>0</td>\n",
       "      <td>1</td>\n",
       "    </tr>\n",
       "    <tr>\n",
       "      <th>...</th>\n",
       "      <td>...</td>\n",
       "      <td>...</td>\n",
       "      <td>...</td>\n",
       "      <td>...</td>\n",
       "      <td>...</td>\n",
       "      <td>...</td>\n",
       "    </tr>\n",
       "    <tr>\n",
       "      <th>28818</th>\n",
       "      <td>37914144.0</td>\n",
       "      <td>2136-05-23</td>\n",
       "      <td>1.0</td>\n",
       "      <td>1.0</td>\n",
       "      <td>0</td>\n",
       "      <td>1</td>\n",
       "    </tr>\n",
       "    <tr>\n",
       "      <th>28819</th>\n",
       "      <td>37246494.0</td>\n",
       "      <td>2127-07-17</td>\n",
       "      <td>1.0</td>\n",
       "      <td>1.0</td>\n",
       "      <td>0</td>\n",
       "      <td>0</td>\n",
       "    </tr>\n",
       "    <tr>\n",
       "      <th>28820</th>\n",
       "      <td>37246494.0</td>\n",
       "      <td>2127-07-18</td>\n",
       "      <td>1.0</td>\n",
       "      <td>1.0</td>\n",
       "      <td>0</td>\n",
       "      <td>1</td>\n",
       "    </tr>\n",
       "    <tr>\n",
       "      <th>28821</th>\n",
       "      <td>37246494.0</td>\n",
       "      <td>2127-07-19</td>\n",
       "      <td>1.0</td>\n",
       "      <td>1.0</td>\n",
       "      <td>0</td>\n",
       "      <td>2</td>\n",
       "    </tr>\n",
       "    <tr>\n",
       "      <th>28822</th>\n",
       "      <td>37246494.0</td>\n",
       "      <td>2127-07-20</td>\n",
       "      <td>1.0</td>\n",
       "      <td>1.0</td>\n",
       "      <td>0</td>\n",
       "      <td>3</td>\n",
       "    </tr>\n",
       "  </tbody>\n",
       "</table>\n",
       "<p>14303 rows × 6 columns</p>\n",
       "</div>"
      ],
      "text/plain": [
       "          stay_id        date  iv_flag  first_po_flag  po_flag  \\\n",
       "14520  31658148.0  2154-01-11      1.0            1.0        0   \n",
       "14521  31658148.0  2154-01-12      1.0            1.0        0   \n",
       "14522  31658148.0  2154-01-13      1.0            1.0        0   \n",
       "14523  33816676.0  2117-08-21      1.0            1.0        0   \n",
       "14524  33816676.0  2117-08-22      1.0            1.0        0   \n",
       "...           ...         ...      ...            ...      ...   \n",
       "28818  37914144.0  2136-05-23      1.0            1.0        0   \n",
       "28819  37246494.0  2127-07-17      1.0            1.0        0   \n",
       "28820  37246494.0  2127-07-18      1.0            1.0        0   \n",
       "28821  37246494.0  2127-07-19      1.0            1.0        0   \n",
       "28822  37246494.0  2127-07-20      1.0            1.0        0   \n",
       "\n",
       "       iv_treatment_length  \n",
       "14520                    0  \n",
       "14521                    1  \n",
       "14522                    2  \n",
       "14523                    0  \n",
       "14524                    1  \n",
       "...                    ...  \n",
       "28818                    1  \n",
       "28819                    0  \n",
       "28820                    1  \n",
       "28821                    2  \n",
       "28822                    3  \n",
       "\n",
       "[14303 rows x 6 columns]"
      ]
     },
     "execution_count": 191,
     "metadata": {},
     "output_type": "execute_result"
    }
   ],
   "source": [
    "hold_out_data"
   ]
  },
  {
   "cell_type": "code",
   "execution_count": 12,
   "metadata": {},
   "outputs": [
    {
     "data": {
      "text/html": [
       "<div>\n",
       "<style scoped>\n",
       "    .dataframe tbody tr th:only-of-type {\n",
       "        vertical-align: middle;\n",
       "    }\n",
       "\n",
       "    .dataframe tbody tr th {\n",
       "        vertical-align: top;\n",
       "    }\n",
       "\n",
       "    .dataframe thead th {\n",
       "        text-align: right;\n",
       "    }\n",
       "</style>\n",
       "<table border=\"1\" class=\"dataframe\">\n",
       "  <thead>\n",
       "    <tr style=\"text-align: right;\">\n",
       "      <th></th>\n",
       "      <th>stay_id</th>\n",
       "      <th>date</th>\n",
       "      <th>iv_flag</th>\n",
       "      <th>first_po_flag</th>\n",
       "      <th>po_flag</th>\n",
       "      <th>iv_treatment_length</th>\n",
       "    </tr>\n",
       "  </thead>\n",
       "  <tbody>\n",
       "    <tr>\n",
       "      <th>0</th>\n",
       "      <td>141196</td>\n",
       "      <td>2022-09-03</td>\n",
       "      <td>1.0</td>\n",
       "      <td>NaN</td>\n",
       "      <td>0</td>\n",
       "      <td>0</td>\n",
       "    </tr>\n",
       "    <tr>\n",
       "      <th>1</th>\n",
       "      <td>141392</td>\n",
       "      <td>2022-09-02</td>\n",
       "      <td>1.0</td>\n",
       "      <td>NaN</td>\n",
       "      <td>0</td>\n",
       "      <td>0</td>\n",
       "    </tr>\n",
       "    <tr>\n",
       "      <th>2</th>\n",
       "      <td>141470</td>\n",
       "      <td>2022-09-02</td>\n",
       "      <td>1.0</td>\n",
       "      <td>NaN</td>\n",
       "      <td>0</td>\n",
       "      <td>0</td>\n",
       "    </tr>\n",
       "    <tr>\n",
       "      <th>3</th>\n",
       "      <td>142405</td>\n",
       "      <td>2022-09-02</td>\n",
       "      <td>1.0</td>\n",
       "      <td>NaN</td>\n",
       "      <td>0</td>\n",
       "      <td>0</td>\n",
       "    </tr>\n",
       "    <tr>\n",
       "      <th>4</th>\n",
       "      <td>143068</td>\n",
       "      <td>2022-09-02</td>\n",
       "      <td>1.0</td>\n",
       "      <td>NaN</td>\n",
       "      <td>0</td>\n",
       "      <td>0</td>\n",
       "    </tr>\n",
       "    <tr>\n",
       "      <th>...</th>\n",
       "      <td>...</td>\n",
       "      <td>...</td>\n",
       "      <td>...</td>\n",
       "      <td>...</td>\n",
       "      <td>...</td>\n",
       "      <td>...</td>\n",
       "    </tr>\n",
       "    <tr>\n",
       "      <th>4942</th>\n",
       "      <td>3335807</td>\n",
       "      <td>2022-09-02</td>\n",
       "      <td>1.0</td>\n",
       "      <td>NaN</td>\n",
       "      <td>0</td>\n",
       "      <td>0</td>\n",
       "    </tr>\n",
       "    <tr>\n",
       "      <th>4943</th>\n",
       "      <td>3340875</td>\n",
       "      <td>2022-09-04</td>\n",
       "      <td>1.0</td>\n",
       "      <td>NaN</td>\n",
       "      <td>0</td>\n",
       "      <td>0</td>\n",
       "    </tr>\n",
       "    <tr>\n",
       "      <th>4944</th>\n",
       "      <td>3341168</td>\n",
       "      <td>2022-09-03</td>\n",
       "      <td>1.0</td>\n",
       "      <td>NaN</td>\n",
       "      <td>0</td>\n",
       "      <td>0</td>\n",
       "    </tr>\n",
       "    <tr>\n",
       "      <th>4945</th>\n",
       "      <td>3341168</td>\n",
       "      <td>2022-09-04</td>\n",
       "      <td>1.0</td>\n",
       "      <td>NaN</td>\n",
       "      <td>0</td>\n",
       "      <td>1</td>\n",
       "    </tr>\n",
       "    <tr>\n",
       "      <th>4946</th>\n",
       "      <td>3346897</td>\n",
       "      <td>2022-09-02</td>\n",
       "      <td>1.0</td>\n",
       "      <td>NaN</td>\n",
       "      <td>0</td>\n",
       "      <td>0</td>\n",
       "    </tr>\n",
       "  </tbody>\n",
       "</table>\n",
       "<p>4947 rows × 6 columns</p>\n",
       "</div>"
      ],
      "text/plain": [
       "      stay_id        date  iv_flag  first_po_flag  po_flag  \\\n",
       "0      141196  2022-09-03      1.0            NaN        0   \n",
       "1      141392  2022-09-02      1.0            NaN        0   \n",
       "2      141470  2022-09-02      1.0            NaN        0   \n",
       "3      142405  2022-09-02      1.0            NaN        0   \n",
       "4      143068  2022-09-02      1.0            NaN        0   \n",
       "...       ...         ...      ...            ...      ...   \n",
       "4942  3335807  2022-09-02      1.0            NaN        0   \n",
       "4943  3340875  2022-09-04      1.0            NaN        0   \n",
       "4944  3341168  2022-09-03      1.0            NaN        0   \n",
       "4945  3341168  2022-09-04      1.0            NaN        0   \n",
       "4946  3346897  2022-09-02      1.0            NaN        0   \n",
       "\n",
       "      iv_treatment_length  \n",
       "0                       0  \n",
       "1                       0  \n",
       "2                       0  \n",
       "3                       0  \n",
       "4                       0  \n",
       "...                   ...  \n",
       "4942                    0  \n",
       "4943                    0  \n",
       "4944                    0  \n",
       "4945                    1  \n",
       "4946                    0  \n",
       "\n",
       "[4947 rows x 6 columns]"
      ]
     },
     "execution_count": 12,
     "metadata": {},
     "output_type": "execute_result"
    }
   ],
   "source": [
    "eicu_data"
   ]
  },
  {
   "cell_type": "code",
   "execution_count": 29,
   "metadata": {},
   "outputs": [],
   "source": [
    "# Import\n",
    "admissions = pd.read_csv(r\"mimic-iv-2.0/hosp/admissions.csv\")\n",
    "patients = pd.read_csv(r\"mimic-iv-2.0/hosp/patients.csv\")\n",
    "icustays = pd.read_csv(r\"mimic-iv-2.0/icu/icustays.csv\")"
   ]
  },
  {
   "cell_type": "code",
   "execution_count": 16,
   "metadata": {},
   "outputs": [
    {
     "data": {
      "text/html": [
       "<div>\n",
       "<style scoped>\n",
       "    .dataframe tbody tr th:only-of-type {\n",
       "        vertical-align: middle;\n",
       "    }\n",
       "\n",
       "    .dataframe tbody tr th {\n",
       "        vertical-align: top;\n",
       "    }\n",
       "\n",
       "    .dataframe thead th {\n",
       "        text-align: right;\n",
       "    }\n",
       "</style>\n",
       "<table border=\"1\" class=\"dataframe\">\n",
       "  <thead>\n",
       "    <tr style=\"text-align: right;\">\n",
       "      <th></th>\n",
       "      <th>subject_id</th>\n",
       "      <th>hadm_id</th>\n",
       "      <th>admittime</th>\n",
       "      <th>dischtime</th>\n",
       "      <th>deathtime</th>\n",
       "      <th>admission_type</th>\n",
       "      <th>admission_location</th>\n",
       "      <th>discharge_location</th>\n",
       "      <th>insurance</th>\n",
       "      <th>language</th>\n",
       "      <th>marital_status</th>\n",
       "      <th>race</th>\n",
       "      <th>edregtime</th>\n",
       "      <th>edouttime</th>\n",
       "      <th>hospital_expire_flag</th>\n",
       "    </tr>\n",
       "  </thead>\n",
       "  <tbody>\n",
       "    <tr>\n",
       "      <th>0</th>\n",
       "      <td>10000032</td>\n",
       "      <td>22595853</td>\n",
       "      <td>2180-05-06 22:23:00</td>\n",
       "      <td>2180-05-07 17:15:00</td>\n",
       "      <td>NaN</td>\n",
       "      <td>URGENT</td>\n",
       "      <td>TRANSFER FROM HOSPITAL</td>\n",
       "      <td>HOME</td>\n",
       "      <td>Other</td>\n",
       "      <td>ENGLISH</td>\n",
       "      <td>WIDOWED</td>\n",
       "      <td>WHITE</td>\n",
       "      <td>2180-05-06 19:17:00</td>\n",
       "      <td>2180-05-06 23:30:00</td>\n",
       "      <td>0</td>\n",
       "    </tr>\n",
       "    <tr>\n",
       "      <th>1</th>\n",
       "      <td>10000032</td>\n",
       "      <td>22841357</td>\n",
       "      <td>2180-06-26 18:27:00</td>\n",
       "      <td>2180-06-27 18:49:00</td>\n",
       "      <td>NaN</td>\n",
       "      <td>EW EMER.</td>\n",
       "      <td>EMERGENCY ROOM</td>\n",
       "      <td>HOME</td>\n",
       "      <td>Medicaid</td>\n",
       "      <td>ENGLISH</td>\n",
       "      <td>WIDOWED</td>\n",
       "      <td>WHITE</td>\n",
       "      <td>2180-06-26 15:54:00</td>\n",
       "      <td>2180-06-26 21:31:00</td>\n",
       "      <td>0</td>\n",
       "    </tr>\n",
       "    <tr>\n",
       "      <th>2</th>\n",
       "      <td>10000032</td>\n",
       "      <td>25742920</td>\n",
       "      <td>2180-08-05 23:44:00</td>\n",
       "      <td>2180-08-07 17:50:00</td>\n",
       "      <td>NaN</td>\n",
       "      <td>EW EMER.</td>\n",
       "      <td>EMERGENCY ROOM</td>\n",
       "      <td>HOSPICE</td>\n",
       "      <td>Medicaid</td>\n",
       "      <td>ENGLISH</td>\n",
       "      <td>WIDOWED</td>\n",
       "      <td>WHITE</td>\n",
       "      <td>2180-08-05 20:58:00</td>\n",
       "      <td>2180-08-06 01:44:00</td>\n",
       "      <td>0</td>\n",
       "    </tr>\n",
       "    <tr>\n",
       "      <th>3</th>\n",
       "      <td>10000032</td>\n",
       "      <td>29079034</td>\n",
       "      <td>2180-07-23 12:35:00</td>\n",
       "      <td>2180-07-25 17:55:00</td>\n",
       "      <td>NaN</td>\n",
       "      <td>EW EMER.</td>\n",
       "      <td>EMERGENCY ROOM</td>\n",
       "      <td>HOME</td>\n",
       "      <td>Medicaid</td>\n",
       "      <td>ENGLISH</td>\n",
       "      <td>WIDOWED</td>\n",
       "      <td>WHITE</td>\n",
       "      <td>2180-07-23 05:54:00</td>\n",
       "      <td>2180-07-23 14:00:00</td>\n",
       "      <td>0</td>\n",
       "    </tr>\n",
       "    <tr>\n",
       "      <th>4</th>\n",
       "      <td>10000068</td>\n",
       "      <td>25022803</td>\n",
       "      <td>2160-03-03 23:16:00</td>\n",
       "      <td>2160-03-04 06:26:00</td>\n",
       "      <td>NaN</td>\n",
       "      <td>EU OBSERVATION</td>\n",
       "      <td>EMERGENCY ROOM</td>\n",
       "      <td>NaN</td>\n",
       "      <td>Other</td>\n",
       "      <td>ENGLISH</td>\n",
       "      <td>SINGLE</td>\n",
       "      <td>WHITE</td>\n",
       "      <td>2160-03-03 21:55:00</td>\n",
       "      <td>2160-03-04 06:26:00</td>\n",
       "      <td>0</td>\n",
       "    </tr>\n",
       "    <tr>\n",
       "      <th>...</th>\n",
       "      <td>...</td>\n",
       "      <td>...</td>\n",
       "      <td>...</td>\n",
       "      <td>...</td>\n",
       "      <td>...</td>\n",
       "      <td>...</td>\n",
       "      <td>...</td>\n",
       "      <td>...</td>\n",
       "      <td>...</td>\n",
       "      <td>...</td>\n",
       "      <td>...</td>\n",
       "      <td>...</td>\n",
       "      <td>...</td>\n",
       "      <td>...</td>\n",
       "      <td>...</td>\n",
       "    </tr>\n",
       "    <tr>\n",
       "      <th>454319</th>\n",
       "      <td>19999828</td>\n",
       "      <td>25744818</td>\n",
       "      <td>2149-01-08 16:44:00</td>\n",
       "      <td>2149-01-18 17:00:00</td>\n",
       "      <td>NaN</td>\n",
       "      <td>EW EMER.</td>\n",
       "      <td>TRANSFER FROM HOSPITAL</td>\n",
       "      <td>HOME HEALTH CARE</td>\n",
       "      <td>Other</td>\n",
       "      <td>ENGLISH</td>\n",
       "      <td>SINGLE</td>\n",
       "      <td>WHITE</td>\n",
       "      <td>2149-01-08 09:11:00</td>\n",
       "      <td>2149-01-08 18:12:00</td>\n",
       "      <td>0</td>\n",
       "    </tr>\n",
       "    <tr>\n",
       "      <th>454320</th>\n",
       "      <td>19999828</td>\n",
       "      <td>29734428</td>\n",
       "      <td>2147-07-18 16:23:00</td>\n",
       "      <td>2147-08-04 18:10:00</td>\n",
       "      <td>NaN</td>\n",
       "      <td>EW EMER.</td>\n",
       "      <td>PHYSICIAN REFERRAL</td>\n",
       "      <td>HOME HEALTH CARE</td>\n",
       "      <td>Other</td>\n",
       "      <td>ENGLISH</td>\n",
       "      <td>SINGLE</td>\n",
       "      <td>WHITE</td>\n",
       "      <td>2147-07-17 17:18:00</td>\n",
       "      <td>2147-07-18 17:34:00</td>\n",
       "      <td>0</td>\n",
       "    </tr>\n",
       "    <tr>\n",
       "      <th>454321</th>\n",
       "      <td>19999840</td>\n",
       "      <td>21033226</td>\n",
       "      <td>2164-09-10 13:47:00</td>\n",
       "      <td>2164-09-17 13:42:00</td>\n",
       "      <td>2164-09-17 13:42:00</td>\n",
       "      <td>EW EMER.</td>\n",
       "      <td>EMERGENCY ROOM</td>\n",
       "      <td>DIED</td>\n",
       "      <td>Other</td>\n",
       "      <td>ENGLISH</td>\n",
       "      <td>WIDOWED</td>\n",
       "      <td>WHITE</td>\n",
       "      <td>2164-09-10 11:09:00</td>\n",
       "      <td>2164-09-10 14:46:00</td>\n",
       "      <td>1</td>\n",
       "    </tr>\n",
       "    <tr>\n",
       "      <th>454322</th>\n",
       "      <td>19999840</td>\n",
       "      <td>26071774</td>\n",
       "      <td>2164-07-25 00:27:00</td>\n",
       "      <td>2164-07-28 12:15:00</td>\n",
       "      <td>NaN</td>\n",
       "      <td>EW EMER.</td>\n",
       "      <td>EMERGENCY ROOM</td>\n",
       "      <td>HOME</td>\n",
       "      <td>Other</td>\n",
       "      <td>ENGLISH</td>\n",
       "      <td>WIDOWED</td>\n",
       "      <td>WHITE</td>\n",
       "      <td>2164-07-24 21:16:00</td>\n",
       "      <td>2164-07-25 01:20:00</td>\n",
       "      <td>0</td>\n",
       "    </tr>\n",
       "    <tr>\n",
       "      <th>454323</th>\n",
       "      <td>19999987</td>\n",
       "      <td>23865745</td>\n",
       "      <td>2145-11-02 21:38:00</td>\n",
       "      <td>2145-11-11 12:57:00</td>\n",
       "      <td>NaN</td>\n",
       "      <td>EW EMER.</td>\n",
       "      <td>EMERGENCY ROOM</td>\n",
       "      <td>REHAB</td>\n",
       "      <td>Other</td>\n",
       "      <td>ENGLISH</td>\n",
       "      <td>NaN</td>\n",
       "      <td>UNKNOWN</td>\n",
       "      <td>2145-11-02 19:28:00</td>\n",
       "      <td>2145-11-02 22:59:00</td>\n",
       "      <td>0</td>\n",
       "    </tr>\n",
       "  </tbody>\n",
       "</table>\n",
       "<p>454324 rows × 15 columns</p>\n",
       "</div>"
      ],
      "text/plain": [
       "        subject_id   hadm_id            admittime            dischtime  \\\n",
       "0         10000032  22595853  2180-05-06 22:23:00  2180-05-07 17:15:00   \n",
       "1         10000032  22841357  2180-06-26 18:27:00  2180-06-27 18:49:00   \n",
       "2         10000032  25742920  2180-08-05 23:44:00  2180-08-07 17:50:00   \n",
       "3         10000032  29079034  2180-07-23 12:35:00  2180-07-25 17:55:00   \n",
       "4         10000068  25022803  2160-03-03 23:16:00  2160-03-04 06:26:00   \n",
       "...            ...       ...                  ...                  ...   \n",
       "454319    19999828  25744818  2149-01-08 16:44:00  2149-01-18 17:00:00   \n",
       "454320    19999828  29734428  2147-07-18 16:23:00  2147-08-04 18:10:00   \n",
       "454321    19999840  21033226  2164-09-10 13:47:00  2164-09-17 13:42:00   \n",
       "454322    19999840  26071774  2164-07-25 00:27:00  2164-07-28 12:15:00   \n",
       "454323    19999987  23865745  2145-11-02 21:38:00  2145-11-11 12:57:00   \n",
       "\n",
       "                  deathtime  admission_type      admission_location  \\\n",
       "0                       NaN          URGENT  TRANSFER FROM HOSPITAL   \n",
       "1                       NaN        EW EMER.          EMERGENCY ROOM   \n",
       "2                       NaN        EW EMER.          EMERGENCY ROOM   \n",
       "3                       NaN        EW EMER.          EMERGENCY ROOM   \n",
       "4                       NaN  EU OBSERVATION          EMERGENCY ROOM   \n",
       "...                     ...             ...                     ...   \n",
       "454319                  NaN        EW EMER.  TRANSFER FROM HOSPITAL   \n",
       "454320                  NaN        EW EMER.      PHYSICIAN REFERRAL   \n",
       "454321  2164-09-17 13:42:00        EW EMER.          EMERGENCY ROOM   \n",
       "454322                  NaN        EW EMER.          EMERGENCY ROOM   \n",
       "454323                  NaN        EW EMER.          EMERGENCY ROOM   \n",
       "\n",
       "       discharge_location insurance language marital_status     race  \\\n",
       "0                    HOME     Other  ENGLISH        WIDOWED    WHITE   \n",
       "1                    HOME  Medicaid  ENGLISH        WIDOWED    WHITE   \n",
       "2                 HOSPICE  Medicaid  ENGLISH        WIDOWED    WHITE   \n",
       "3                    HOME  Medicaid  ENGLISH        WIDOWED    WHITE   \n",
       "4                     NaN     Other  ENGLISH         SINGLE    WHITE   \n",
       "...                   ...       ...      ...            ...      ...   \n",
       "454319   HOME HEALTH CARE     Other  ENGLISH         SINGLE    WHITE   \n",
       "454320   HOME HEALTH CARE     Other  ENGLISH         SINGLE    WHITE   \n",
       "454321               DIED     Other  ENGLISH        WIDOWED    WHITE   \n",
       "454322               HOME     Other  ENGLISH        WIDOWED    WHITE   \n",
       "454323              REHAB     Other  ENGLISH            NaN  UNKNOWN   \n",
       "\n",
       "                  edregtime            edouttime  hospital_expire_flag  \n",
       "0       2180-05-06 19:17:00  2180-05-06 23:30:00                     0  \n",
       "1       2180-06-26 15:54:00  2180-06-26 21:31:00                     0  \n",
       "2       2180-08-05 20:58:00  2180-08-06 01:44:00                     0  \n",
       "3       2180-07-23 05:54:00  2180-07-23 14:00:00                     0  \n",
       "4       2160-03-03 21:55:00  2160-03-04 06:26:00                     0  \n",
       "...                     ...                  ...                   ...  \n",
       "454319  2149-01-08 09:11:00  2149-01-08 18:12:00                     0  \n",
       "454320  2147-07-17 17:18:00  2147-07-18 17:34:00                     0  \n",
       "454321  2164-09-10 11:09:00  2164-09-10 14:46:00                     1  \n",
       "454322  2164-07-24 21:16:00  2164-07-25 01:20:00                     0  \n",
       "454323  2145-11-02 19:28:00  2145-11-02 22:59:00                     0  \n",
       "\n",
       "[454324 rows x 15 columns]"
      ]
     },
     "execution_count": 16,
     "metadata": {},
     "output_type": "execute_result"
    }
   ],
   "source": [
    "admissions"
   ]
  },
  {
   "cell_type": "code",
   "execution_count": 23,
   "metadata": {},
   "outputs": [
    {
     "data": {
      "text/html": [
       "<div>\n",
       "<style scoped>\n",
       "    .dataframe tbody tr th:only-of-type {\n",
       "        vertical-align: middle;\n",
       "    }\n",
       "\n",
       "    .dataframe tbody tr th {\n",
       "        vertical-align: top;\n",
       "    }\n",
       "\n",
       "    .dataframe thead th {\n",
       "        text-align: right;\n",
       "    }\n",
       "</style>\n",
       "<table border=\"1\" class=\"dataframe\">\n",
       "  <thead>\n",
       "    <tr style=\"text-align: right;\">\n",
       "      <th></th>\n",
       "      <th>subject_id</th>\n",
       "      <th>gender</th>\n",
       "      <th>anchor_age</th>\n",
       "      <th>anchor_year</th>\n",
       "      <th>anchor_year_group</th>\n",
       "      <th>dod</th>\n",
       "    </tr>\n",
       "  </thead>\n",
       "  <tbody>\n",
       "    <tr>\n",
       "      <th>0</th>\n",
       "      <td>10000032</td>\n",
       "      <td>F</td>\n",
       "      <td>52</td>\n",
       "      <td>2180</td>\n",
       "      <td>2014 - 2016</td>\n",
       "      <td>2180-09-09</td>\n",
       "    </tr>\n",
       "    <tr>\n",
       "      <th>1</th>\n",
       "      <td>10000048</td>\n",
       "      <td>F</td>\n",
       "      <td>23</td>\n",
       "      <td>2126</td>\n",
       "      <td>2008 - 2010</td>\n",
       "      <td>NaN</td>\n",
       "    </tr>\n",
       "    <tr>\n",
       "      <th>2</th>\n",
       "      <td>10000068</td>\n",
       "      <td>F</td>\n",
       "      <td>19</td>\n",
       "      <td>2160</td>\n",
       "      <td>2008 - 2010</td>\n",
       "      <td>NaN</td>\n",
       "    </tr>\n",
       "    <tr>\n",
       "      <th>3</th>\n",
       "      <td>10000084</td>\n",
       "      <td>M</td>\n",
       "      <td>72</td>\n",
       "      <td>2160</td>\n",
       "      <td>2017 - 2019</td>\n",
       "      <td>2161-02-13</td>\n",
       "    </tr>\n",
       "    <tr>\n",
       "      <th>4</th>\n",
       "      <td>10000102</td>\n",
       "      <td>F</td>\n",
       "      <td>27</td>\n",
       "      <td>2136</td>\n",
       "      <td>2008 - 2010</td>\n",
       "      <td>NaN</td>\n",
       "    </tr>\n",
       "    <tr>\n",
       "      <th>...</th>\n",
       "      <td>...</td>\n",
       "      <td>...</td>\n",
       "      <td>...</td>\n",
       "      <td>...</td>\n",
       "      <td>...</td>\n",
       "      <td>...</td>\n",
       "    </tr>\n",
       "    <tr>\n",
       "      <th>315455</th>\n",
       "      <td>19999828</td>\n",
       "      <td>F</td>\n",
       "      <td>46</td>\n",
       "      <td>2147</td>\n",
       "      <td>2017 - 2019</td>\n",
       "      <td>NaN</td>\n",
       "    </tr>\n",
       "    <tr>\n",
       "      <th>315456</th>\n",
       "      <td>19999829</td>\n",
       "      <td>F</td>\n",
       "      <td>28</td>\n",
       "      <td>2186</td>\n",
       "      <td>2008 - 2010</td>\n",
       "      <td>NaN</td>\n",
       "    </tr>\n",
       "    <tr>\n",
       "      <th>315457</th>\n",
       "      <td>19999840</td>\n",
       "      <td>M</td>\n",
       "      <td>58</td>\n",
       "      <td>2164</td>\n",
       "      <td>2008 - 2010</td>\n",
       "      <td>2164-09-17</td>\n",
       "    </tr>\n",
       "    <tr>\n",
       "      <th>315458</th>\n",
       "      <td>19999914</td>\n",
       "      <td>F</td>\n",
       "      <td>49</td>\n",
       "      <td>2158</td>\n",
       "      <td>2017 - 2019</td>\n",
       "      <td>NaN</td>\n",
       "    </tr>\n",
       "    <tr>\n",
       "      <th>315459</th>\n",
       "      <td>19999987</td>\n",
       "      <td>F</td>\n",
       "      <td>57</td>\n",
       "      <td>2145</td>\n",
       "      <td>2011 - 2013</td>\n",
       "      <td>NaN</td>\n",
       "    </tr>\n",
       "  </tbody>\n",
       "</table>\n",
       "<p>315460 rows × 6 columns</p>\n",
       "</div>"
      ],
      "text/plain": [
       "        subject_id gender  anchor_age  anchor_year anchor_year_group  \\\n",
       "0         10000032      F          52         2180       2014 - 2016   \n",
       "1         10000048      F          23         2126       2008 - 2010   \n",
       "2         10000068      F          19         2160       2008 - 2010   \n",
       "3         10000084      M          72         2160       2017 - 2019   \n",
       "4         10000102      F          27         2136       2008 - 2010   \n",
       "...            ...    ...         ...          ...               ...   \n",
       "315455    19999828      F          46         2147       2017 - 2019   \n",
       "315456    19999829      F          28         2186       2008 - 2010   \n",
       "315457    19999840      M          58         2164       2008 - 2010   \n",
       "315458    19999914      F          49         2158       2017 - 2019   \n",
       "315459    19999987      F          57         2145       2011 - 2013   \n",
       "\n",
       "               dod  \n",
       "0       2180-09-09  \n",
       "1              NaN  \n",
       "2              NaN  \n",
       "3       2161-02-13  \n",
       "4              NaN  \n",
       "...            ...  \n",
       "315455         NaN  \n",
       "315456         NaN  \n",
       "315457  2164-09-17  \n",
       "315458         NaN  \n",
       "315459         NaN  \n",
       "\n",
       "[315460 rows x 6 columns]"
      ]
     },
     "execution_count": 23,
     "metadata": {},
     "output_type": "execute_result"
    }
   ],
   "source": [
    "patients"
   ]
  },
  {
   "cell_type": "code",
   "execution_count": 17,
   "metadata": {},
   "outputs": [
    {
     "data": {
      "text/html": [
       "<div>\n",
       "<style scoped>\n",
       "    .dataframe tbody tr th:only-of-type {\n",
       "        vertical-align: middle;\n",
       "    }\n",
       "\n",
       "    .dataframe tbody tr th {\n",
       "        vertical-align: top;\n",
       "    }\n",
       "\n",
       "    .dataframe thead th {\n",
       "        text-align: right;\n",
       "    }\n",
       "</style>\n",
       "<table border=\"1\" class=\"dataframe\">\n",
       "  <thead>\n",
       "    <tr style=\"text-align: right;\">\n",
       "      <th></th>\n",
       "      <th>subject_id</th>\n",
       "      <th>hadm_id</th>\n",
       "      <th>stay_id</th>\n",
       "      <th>first_careunit</th>\n",
       "      <th>last_careunit</th>\n",
       "      <th>intime</th>\n",
       "      <th>outtime</th>\n",
       "      <th>los</th>\n",
       "    </tr>\n",
       "  </thead>\n",
       "  <tbody>\n",
       "    <tr>\n",
       "      <th>0</th>\n",
       "      <td>10000032</td>\n",
       "      <td>29079034</td>\n",
       "      <td>39553978</td>\n",
       "      <td>Medical Intensive Care Unit (MICU)</td>\n",
       "      <td>Medical Intensive Care Unit (MICU)</td>\n",
       "      <td>2180-07-23 14:00:00</td>\n",
       "      <td>2180-07-23 23:50:47</td>\n",
       "      <td>0.410266</td>\n",
       "    </tr>\n",
       "    <tr>\n",
       "      <th>1</th>\n",
       "      <td>10000980</td>\n",
       "      <td>26913865</td>\n",
       "      <td>39765666</td>\n",
       "      <td>Medical Intensive Care Unit (MICU)</td>\n",
       "      <td>Medical Intensive Care Unit (MICU)</td>\n",
       "      <td>2189-06-27 08:42:00</td>\n",
       "      <td>2189-06-27 20:38:27</td>\n",
       "      <td>0.497535</td>\n",
       "    </tr>\n",
       "    <tr>\n",
       "      <th>2</th>\n",
       "      <td>10001217</td>\n",
       "      <td>24597018</td>\n",
       "      <td>37067082</td>\n",
       "      <td>Surgical Intensive Care Unit (SICU)</td>\n",
       "      <td>Surgical Intensive Care Unit (SICU)</td>\n",
       "      <td>2157-11-20 19:18:02</td>\n",
       "      <td>2157-11-21 22:08:00</td>\n",
       "      <td>1.118032</td>\n",
       "    </tr>\n",
       "    <tr>\n",
       "      <th>3</th>\n",
       "      <td>10001217</td>\n",
       "      <td>27703517</td>\n",
       "      <td>34592300</td>\n",
       "      <td>Surgical Intensive Care Unit (SICU)</td>\n",
       "      <td>Surgical Intensive Care Unit (SICU)</td>\n",
       "      <td>2157-12-19 15:42:24</td>\n",
       "      <td>2157-12-20 14:27:41</td>\n",
       "      <td>0.948113</td>\n",
       "    </tr>\n",
       "    <tr>\n",
       "      <th>4</th>\n",
       "      <td>10001725</td>\n",
       "      <td>25563031</td>\n",
       "      <td>31205490</td>\n",
       "      <td>Medical/Surgical Intensive Care Unit (MICU/SICU)</td>\n",
       "      <td>Medical/Surgical Intensive Care Unit (MICU/SICU)</td>\n",
       "      <td>2110-04-11 15:52:22</td>\n",
       "      <td>2110-04-12 23:59:56</td>\n",
       "      <td>1.338588</td>\n",
       "    </tr>\n",
       "    <tr>\n",
       "      <th>...</th>\n",
       "      <td>...</td>\n",
       "      <td>...</td>\n",
       "      <td>...</td>\n",
       "      <td>...</td>\n",
       "      <td>...</td>\n",
       "      <td>...</td>\n",
       "      <td>...</td>\n",
       "      <td>...</td>\n",
       "    </tr>\n",
       "    <tr>\n",
       "      <th>76938</th>\n",
       "      <td>19999442</td>\n",
       "      <td>26785317</td>\n",
       "      <td>32336619</td>\n",
       "      <td>Surgical Intensive Care Unit (SICU)</td>\n",
       "      <td>Surgical Intensive Care Unit (SICU)</td>\n",
       "      <td>2148-11-19 14:23:43</td>\n",
       "      <td>2148-11-26 13:12:15</td>\n",
       "      <td>6.950370</td>\n",
       "    </tr>\n",
       "    <tr>\n",
       "      <th>76939</th>\n",
       "      <td>19999625</td>\n",
       "      <td>25304202</td>\n",
       "      <td>31070865</td>\n",
       "      <td>Medical/Surgical Intensive Care Unit (MICU/SICU)</td>\n",
       "      <td>Medical/Surgical Intensive Care Unit (MICU/SICU)</td>\n",
       "      <td>2139-10-10 19:18:00</td>\n",
       "      <td>2139-10-11 18:21:28</td>\n",
       "      <td>0.960741</td>\n",
       "    </tr>\n",
       "    <tr>\n",
       "      <th>76940</th>\n",
       "      <td>19999828</td>\n",
       "      <td>25744818</td>\n",
       "      <td>36075953</td>\n",
       "      <td>Medical Intensive Care Unit (MICU)</td>\n",
       "      <td>Medical Intensive Care Unit (MICU)</td>\n",
       "      <td>2149-01-08 18:12:00</td>\n",
       "      <td>2149-01-10 13:11:02</td>\n",
       "      <td>1.790995</td>\n",
       "    </tr>\n",
       "    <tr>\n",
       "      <th>76941</th>\n",
       "      <td>19999840</td>\n",
       "      <td>21033226</td>\n",
       "      <td>38978960</td>\n",
       "      <td>Trauma SICU (TSICU)</td>\n",
       "      <td>Surgical Intensive Care Unit (SICU)</td>\n",
       "      <td>2164-09-12 09:26:28</td>\n",
       "      <td>2164-09-17 16:35:15</td>\n",
       "      <td>5.297766</td>\n",
       "    </tr>\n",
       "    <tr>\n",
       "      <th>76942</th>\n",
       "      <td>19999987</td>\n",
       "      <td>23865745</td>\n",
       "      <td>36195440</td>\n",
       "      <td>Trauma SICU (TSICU)</td>\n",
       "      <td>Trauma SICU (TSICU)</td>\n",
       "      <td>2145-11-02 22:59:00</td>\n",
       "      <td>2145-11-04 21:29:30</td>\n",
       "      <td>1.937847</td>\n",
       "    </tr>\n",
       "  </tbody>\n",
       "</table>\n",
       "<p>76943 rows × 8 columns</p>\n",
       "</div>"
      ],
      "text/plain": [
       "       subject_id   hadm_id   stay_id  \\\n",
       "0        10000032  29079034  39553978   \n",
       "1        10000980  26913865  39765666   \n",
       "2        10001217  24597018  37067082   \n",
       "3        10001217  27703517  34592300   \n",
       "4        10001725  25563031  31205490   \n",
       "...           ...       ...       ...   \n",
       "76938    19999442  26785317  32336619   \n",
       "76939    19999625  25304202  31070865   \n",
       "76940    19999828  25744818  36075953   \n",
       "76941    19999840  21033226  38978960   \n",
       "76942    19999987  23865745  36195440   \n",
       "\n",
       "                                         first_careunit  \\\n",
       "0                    Medical Intensive Care Unit (MICU)   \n",
       "1                    Medical Intensive Care Unit (MICU)   \n",
       "2                   Surgical Intensive Care Unit (SICU)   \n",
       "3                   Surgical Intensive Care Unit (SICU)   \n",
       "4      Medical/Surgical Intensive Care Unit (MICU/SICU)   \n",
       "...                                                 ...   \n",
       "76938               Surgical Intensive Care Unit (SICU)   \n",
       "76939  Medical/Surgical Intensive Care Unit (MICU/SICU)   \n",
       "76940                Medical Intensive Care Unit (MICU)   \n",
       "76941                               Trauma SICU (TSICU)   \n",
       "76942                               Trauma SICU (TSICU)   \n",
       "\n",
       "                                          last_careunit               intime  \\\n",
       "0                    Medical Intensive Care Unit (MICU)  2180-07-23 14:00:00   \n",
       "1                    Medical Intensive Care Unit (MICU)  2189-06-27 08:42:00   \n",
       "2                   Surgical Intensive Care Unit (SICU)  2157-11-20 19:18:02   \n",
       "3                   Surgical Intensive Care Unit (SICU)  2157-12-19 15:42:24   \n",
       "4      Medical/Surgical Intensive Care Unit (MICU/SICU)  2110-04-11 15:52:22   \n",
       "...                                                 ...                  ...   \n",
       "76938               Surgical Intensive Care Unit (SICU)  2148-11-19 14:23:43   \n",
       "76939  Medical/Surgical Intensive Care Unit (MICU/SICU)  2139-10-10 19:18:00   \n",
       "76940                Medical Intensive Care Unit (MICU)  2149-01-08 18:12:00   \n",
       "76941               Surgical Intensive Care Unit (SICU)  2164-09-12 09:26:28   \n",
       "76942                               Trauma SICU (TSICU)  2145-11-02 22:59:00   \n",
       "\n",
       "                   outtime       los  \n",
       "0      2180-07-23 23:50:47  0.410266  \n",
       "1      2189-06-27 20:38:27  0.497535  \n",
       "2      2157-11-21 22:08:00  1.118032  \n",
       "3      2157-12-20 14:27:41  0.948113  \n",
       "4      2110-04-12 23:59:56  1.338588  \n",
       "...                    ...       ...  \n",
       "76938  2148-11-26 13:12:15  6.950370  \n",
       "76939  2139-10-11 18:21:28  0.960741  \n",
       "76940  2149-01-10 13:11:02  1.790995  \n",
       "76941  2164-09-17 16:35:15  5.297766  \n",
       "76942  2145-11-04 21:29:30  1.937847  \n",
       "\n",
       "[76943 rows x 8 columns]"
      ]
     },
     "execution_count": 17,
     "metadata": {},
     "output_type": "execute_result"
    }
   ],
   "source": [
    "icustays"
   ]
  },
  {
   "attachments": {},
   "cell_type": "markdown",
   "metadata": {},
   "source": [
    "## LOS"
   ]
  },
  {
   "cell_type": "code",
   "execution_count": 20,
   "metadata": {},
   "outputs": [],
   "source": [
    "# get list \n",
    "preprocessing_data_list = preprocessing_data.stay_id.unique().tolist()\n",
    "hold_out_data_list = hold_out_data.stay_id.unique().tolist()"
   ]
  },
  {
   "cell_type": "code",
   "execution_count": 37,
   "metadata": {},
   "outputs": [
    {
     "data": {
      "text/plain": [
       "3.142316867635401"
      ]
     },
     "execution_count": 37,
     "metadata": {},
     "output_type": "execute_result"
    },
    {
     "data": {
      "text/plain": [
       "2.7796220164694145"
      ]
     },
     "execution_count": 37,
     "metadata": {},
     "output_type": "execute_result"
    },
    {
     "data": {
      "text/plain": [
       "0.3034953703703704"
      ]
     },
     "execution_count": 37,
     "metadata": {},
     "output_type": "execute_result"
    },
    {
     "data": {
      "text/plain": [
       "38.99027777777778"
      ]
     },
     "execution_count": 37,
     "metadata": {},
     "output_type": "execute_result"
    }
   ],
   "source": [
    "# preprocessing_data\n",
    "icustays[icustays['stay_id'].isin(preprocessing_data_list)]['los'].mean()\n",
    "icustays[icustays['stay_id'].isin(preprocessing_data_list)]['los'].std()\n",
    "icustays[icustays['stay_id'].isin(preprocessing_data_list)]['los'].min()\n",
    "icustays[icustays['stay_id'].isin(preprocessing_data_list)]['los'].max()"
   ]
  },
  {
   "cell_type": "code",
   "execution_count": 36,
   "metadata": {},
   "outputs": [
    {
     "data": {
      "text/plain": [
       "3.1171784553416955"
      ]
     },
     "execution_count": 36,
     "metadata": {},
     "output_type": "execute_result"
    },
    {
     "data": {
      "text/plain": [
       "2.707265130140487"
      ]
     },
     "execution_count": 36,
     "metadata": {},
     "output_type": "execute_result"
    },
    {
     "data": {
      "text/plain": [
       "0.1560069444444444"
      ]
     },
     "execution_count": 36,
     "metadata": {},
     "output_type": "execute_result"
    },
    {
     "data": {
      "text/plain": [
       "28.41572916666667"
      ]
     },
     "execution_count": 36,
     "metadata": {},
     "output_type": "execute_result"
    }
   ],
   "source": [
    "# hold_out_data\n",
    "icustays[icustays['stay_id'].isin(hold_out_data_list)]['los'].mean()\n",
    "icustays[icustays['stay_id'].isin(hold_out_data_list)]['los'].std()\n",
    "icustays[icustays['stay_id'].isin(hold_out_data_list)]['los'].min()\n",
    "icustays[icustays['stay_id'].isin(hold_out_data_list)]['los'].max()"
   ]
  },
  {
   "attachments": {},
   "cell_type": "markdown",
   "metadata": {},
   "source": [
    "## Age"
   ]
  },
  {
   "cell_type": "code",
   "execution_count": 31,
   "metadata": {},
   "outputs": [],
   "source": [
    "# get list \n",
    "preprocessing_data_list = preprocessing_data.stay_id.unique().tolist()\n",
    "hold_out_data_list = hold_out_data.stay_id.unique().tolist()"
   ]
  },
  {
   "cell_type": "code",
   "execution_count": 32,
   "metadata": {},
   "outputs": [],
   "source": [
    "# Get subject_id from stay_id\n",
    "preprocessing_data_icustays = icustays[icustays['stay_id'].isin(preprocessing_data_list)]\n",
    "hold_out_data_icustays = icustays[icustays['stay_id'].isin(hold_out_data_list)]"
   ]
  },
  {
   "cell_type": "code",
   "execution_count": 45,
   "metadata": {},
   "outputs": [],
   "source": [
    "# get list \n",
    "preprocessing_data_subject_id_list = preprocessing_data_icustays.subject_id.unique().tolist()\n",
    "hold_out_data_subject_id_list = hold_out_data_icustays.subject_id.unique().tolist()"
   ]
  },
  {
   "cell_type": "code",
   "execution_count": 35,
   "metadata": {},
   "outputs": [
    {
     "data": {
      "text/plain": [
       "65.3012077294686"
      ]
     },
     "execution_count": 35,
     "metadata": {},
     "output_type": "execute_result"
    },
    {
     "data": {
      "text/plain": [
       "15.156439549309528"
      ]
     },
     "execution_count": 35,
     "metadata": {},
     "output_type": "execute_result"
    },
    {
     "data": {
      "text/plain": [
       "18"
      ]
     },
     "execution_count": 35,
     "metadata": {},
     "output_type": "execute_result"
    },
    {
     "data": {
      "text/plain": [
       "91"
      ]
     },
     "execution_count": 35,
     "metadata": {},
     "output_type": "execute_result"
    }
   ],
   "source": [
    "# preprocessing_data\n",
    "patients[patients['subject_id'].isin(preprocessing_data_subject_id_list)]['anchor_age'].mean()\n",
    "patients[patients['subject_id'].isin(preprocessing_data_subject_id_list)]['anchor_age'].std()\n",
    "patients[patients['subject_id'].isin(preprocessing_data_subject_id_list)]['anchor_age'].min()\n",
    "patients[patients['subject_id'].isin(preprocessing_data_subject_id_list)]['anchor_age'].max()"
   ]
  },
  {
   "cell_type": "code",
   "execution_count": 34,
   "metadata": {},
   "outputs": [
    {
     "data": {
      "text/plain": [
       "65.44000973472865"
      ]
     },
     "execution_count": 34,
     "metadata": {},
     "output_type": "execute_result"
    },
    {
     "data": {
      "text/plain": [
       "15.231965427633112"
      ]
     },
     "execution_count": 34,
     "metadata": {},
     "output_type": "execute_result"
    },
    {
     "data": {
      "text/plain": [
       "18"
      ]
     },
     "execution_count": 34,
     "metadata": {},
     "output_type": "execute_result"
    },
    {
     "data": {
      "text/plain": [
       "91"
      ]
     },
     "execution_count": 34,
     "metadata": {},
     "output_type": "execute_result"
    }
   ],
   "source": [
    "# hold_out_data\n",
    "patients[patients['subject_id'].isin(hold_out_data_subject_id_list)]['anchor_age'].mean()\n",
    "patients[patients['subject_id'].isin(hold_out_data_subject_id_list)]['anchor_age'].std()\n",
    "patients[patients['subject_id'].isin(hold_out_data_subject_id_list)]['anchor_age'].min()\n",
    "patients[patients['subject_id'].isin(hold_out_data_subject_id_list)]['anchor_age'].max()"
   ]
  },
  {
   "attachments": {},
   "cell_type": "markdown",
   "metadata": {},
   "source": [
    "## Gender"
   ]
  },
  {
   "cell_type": "code",
   "execution_count": 40,
   "metadata": {},
   "outputs": [
    {
     "data": {
      "text/plain": [
       "M    2435\n",
       "F    1705\n",
       "Name: gender, dtype: int64"
      ]
     },
     "execution_count": 40,
     "metadata": {},
     "output_type": "execute_result"
    },
    {
     "data": {
      "text/plain": [
       "4140"
      ]
     },
     "execution_count": 40,
     "metadata": {},
     "output_type": "execute_result"
    },
    {
     "data": {
      "text/plain": [
       "0.5881642512077294"
      ]
     },
     "execution_count": 40,
     "metadata": {},
     "output_type": "execute_result"
    },
    {
     "data": {
      "text/plain": [
       "0.41183574879227053"
      ]
     },
     "execution_count": 40,
     "metadata": {},
     "output_type": "execute_result"
    }
   ],
   "source": [
    "# preprocessing_data\n",
    "patients[patients['subject_id'].isin(preprocessing_data_subject_id_list)]['gender'].value_counts()\n",
    "2435 + 1705\n",
    "2435 / (2435 + 1705)\n",
    "1705 / (2435 + 1705)"
   ]
  },
  {
   "cell_type": "code",
   "execution_count": 41,
   "metadata": {},
   "outputs": [
    {
     "data": {
      "text/plain": [
       "M    2421\n",
       "F    1688\n",
       "Name: gender, dtype: int64"
      ]
     },
     "execution_count": 41,
     "metadata": {},
     "output_type": "execute_result"
    },
    {
     "data": {
      "text/plain": [
       "4109"
      ]
     },
     "execution_count": 41,
     "metadata": {},
     "output_type": "execute_result"
    },
    {
     "data": {
      "text/plain": [
       "0.5891944512046726"
      ]
     },
     "execution_count": 41,
     "metadata": {},
     "output_type": "execute_result"
    },
    {
     "data": {
      "text/plain": [
       "0.4108055487953273"
      ]
     },
     "execution_count": 41,
     "metadata": {},
     "output_type": "execute_result"
    }
   ],
   "source": [
    "# hold_out_data\n",
    "patients[patients['subject_id'].isin(hold_out_data_subject_id_list)]['gender'].value_counts()\n",
    "2421 + 1688\n",
    "2421 / (2421 + 1688)\n",
    "1688 / (2421 + 1688)"
   ]
  },
  {
   "attachments": {},
   "cell_type": "markdown",
   "metadata": {},
   "source": [
    "## Race"
   ]
  },
  {
   "cell_type": "code",
   "execution_count": 52,
   "metadata": {},
   "outputs": [],
   "source": [
    "# Group race\n",
    "admissions['race'] = admissions['race'].str.replace('SOUTH AMERICAN', 'HISPANIC')\n",
    "admissions['race'] = admissions['race'].str.replace('MULTIPLE RACE/ETHNICITY', 'OTHER')\n",
    "admissions['race'] = admissions['race'].str.replace('PORTUGUESE', 'OTHISPANICHER')\n",
    "admissions['race'] = admissions['race'].str.replace('UNABLE TO OBTAIN', 'UNKNOWN')\n",
    "admissions['race'] = admissions['race'].str.replace('OTHISPANICHER', 'OTHER')\n",
    "admissions['race'] = admissions['race'].str.replace('PATIENT DECLINED TO ANSWER', 'UNKNOWN')"
   ]
  },
  {
   "cell_type": "code",
   "execution_count": 54,
   "metadata": {},
   "outputs": [],
   "source": [
    "x = 0\n",
    "string_list = ['NATIVE', 'ASIAN', 'HISPANIC', 'BLACK', 'WHITE', 'OTHER', 'UNKNOWN']\n",
    "for string in string_list:\n",
    "    x += 1\n",
    "    sub_df = admissions[admissions['race'].str.contains(string, case=False, na=False)]\n",
    "    sub_df['grouped_race'] = string # use filter string as final_label \n",
    "    if x == 1:\n",
    "        new_admissions = sub_df\n",
    "    else:\n",
    "        new_admissions = pd.concat([new_admissions, sub_df])\n",
    "new_admissions.drop(columns=['race'], inplace=True)"
   ]
  },
  {
   "cell_type": "code",
   "execution_count": 60,
   "metadata": {},
   "outputs": [
    {
     "data": {
      "text/plain": [
       "WHITE       0.679739\n",
       "UNKNOWN     0.102772\n",
       "BLACK       0.095560\n",
       "OTHER       0.062204\n",
       "HISPANIC    0.032680\n",
       "ASIAN       0.023439\n",
       "NATIVE      0.003606\n",
       "Name: grouped_race, dtype: float64"
      ]
     },
     "execution_count": 60,
     "metadata": {},
     "output_type": "execute_result"
    }
   ],
   "source": [
    "# preprocessing_data\n",
    "new_admissions[new_admissions['hadm_id'].isin(preprocessing_data_hadm_id_list)]['grouped_race'].value_counts(normalize=True)"
   ]
  },
  {
   "cell_type": "code",
   "execution_count": 59,
   "metadata": {},
   "outputs": [
    {
     "data": {
      "text/plain": [
       "WHITE       0.680933\n",
       "BLACK       0.099185\n",
       "UNKNOWN     0.093524\n",
       "OTHER       0.054801\n",
       "HISPANIC    0.039402\n",
       "ASIAN       0.029438\n",
       "NATIVE      0.002717\n",
       "Name: grouped_race, dtype: float64"
      ]
     },
     "execution_count": 59,
     "metadata": {},
     "output_type": "execute_result"
    }
   ],
   "source": [
    "# hold_out_data\n",
    "new_admissions[new_admissions['hadm_id'].isin(hold_out_data_hadm_id_list)]['grouped_race'].value_counts(normalize=True)"
   ]
  },
  {
   "attachments": {},
   "cell_type": "markdown",
   "metadata": {},
   "source": [
    "## Marital_status"
   ]
  },
  {
   "cell_type": "code",
   "execution_count": 61,
   "metadata": {},
   "outputs": [
    {
     "data": {
      "text/plain": [
       "MARRIED     0.512883\n",
       "SINGLE      0.267239\n",
       "WIDOWED     0.143313\n",
       "DIVORCED    0.076564\n",
       "Name: marital_status, dtype: float64"
      ]
     },
     "execution_count": 61,
     "metadata": {},
     "output_type": "execute_result"
    }
   ],
   "source": [
    "# preprocessing_data\n",
    "admissions[admissions['hadm_id'].isin(preprocessing_data_hadm_id_list)]['marital_status'].value_counts(normalize=True)"
   ]
  },
  {
   "cell_type": "code",
   "execution_count": 62,
   "metadata": {},
   "outputs": [
    {
     "data": {
      "text/plain": [
       "MARRIED     0.501349\n",
       "SINGLE      0.280844\n",
       "WIDOWED     0.139563\n",
       "DIVORCED    0.078244\n",
       "Name: marital_status, dtype: float64"
      ]
     },
     "execution_count": 62,
     "metadata": {},
     "output_type": "execute_result"
    }
   ],
   "source": [
    "# hold_out_data\n",
    "admissions[admissions['hadm_id'].isin(hold_out_data_hadm_id_list)]['marital_status'].value_counts(normalize=True)"
   ]
  },
  {
   "attachments": {},
   "cell_type": "markdown",
   "metadata": {},
   "source": [
    "## Language"
   ]
  },
  {
   "cell_type": "code",
   "execution_count": 63,
   "metadata": {},
   "outputs": [
    {
     "data": {
      "text/plain": [
       "ENGLISH    0.907493\n",
       "?          0.092507\n",
       "Name: language, dtype: float64"
      ]
     },
     "execution_count": 63,
     "metadata": {},
     "output_type": "execute_result"
    }
   ],
   "source": [
    "# preprocessing_data\n",
    "admissions[admissions['hadm_id'].isin(preprocessing_data_hadm_id_list)]['language'].value_counts(normalize=True)"
   ]
  },
  {
   "cell_type": "code",
   "execution_count": 64,
   "metadata": {},
   "outputs": [
    {
     "data": {
      "text/plain": [
       "ENGLISH    0.894542\n",
       "?          0.105458\n",
       "Name: language, dtype: float64"
      ]
     },
     "execution_count": 64,
     "metadata": {},
     "output_type": "execute_result"
    }
   ],
   "source": [
    "# hold_out_data\n",
    "admissions[admissions['hadm_id'].isin(hold_out_data_hadm_id_list)]['language'].value_counts(normalize=True)"
   ]
  },
  {
   "cell_type": "markdown",
   "metadata": {},
   "source": [
    "## Insurance"
   ]
  },
  {
   "cell_type": "code",
   "execution_count": 65,
   "metadata": {},
   "outputs": [
    {
     "data": {
      "text/plain": [
       "Medicare    0.489130\n",
       "Other       0.449121\n",
       "Medicaid    0.061748\n",
       "Name: insurance, dtype: float64"
      ]
     },
     "execution_count": 65,
     "metadata": {},
     "output_type": "execute_result"
    }
   ],
   "source": [
    "# preprocessing_data\n",
    "admissions[admissions['hadm_id'].isin(preprocessing_data_hadm_id_list)]['insurance'].value_counts(normalize=True)"
   ]
  },
  {
   "cell_type": "code",
   "execution_count": 66,
   "metadata": {},
   "outputs": [
    {
     "data": {
      "text/plain": [
       "Medicare    0.494681\n",
       "Other       0.433164\n",
       "Medicaid    0.072155\n",
       "Name: insurance, dtype: float64"
      ]
     },
     "execution_count": 66,
     "metadata": {},
     "output_type": "execute_result"
    }
   ],
   "source": [
    "# hold_out_data\n",
    "admissions[admissions['hadm_id'].isin(hold_out_data_hadm_id_list)]['insurance'].value_counts(normalize=True)"
   ]
  },
  {
   "attachments": {},
   "cell_type": "markdown",
   "metadata": {},
   "source": [
    "## Antimicrobial treatment length"
   ]
  },
  {
   "cell_type": "code",
   "execution_count": 215,
   "metadata": {},
   "outputs": [
    {
     "data": {
      "text/plain": [
       "3.3402346445824707"
      ]
     },
     "execution_count": 215,
     "metadata": {},
     "output_type": "execute_result"
    },
    {
     "data": {
      "text/plain": [
       "2.1649528700974052"
      ]
     },
     "execution_count": 215,
     "metadata": {},
     "output_type": "execute_result"
    },
    {
     "data": {
      "text/plain": [
       "1"
      ]
     },
     "execution_count": 215,
     "metadata": {},
     "output_type": "execute_result"
    },
    {
     "data": {
      "text/plain": [
       "40"
      ]
     },
     "execution_count": 215,
     "metadata": {},
     "output_type": "execute_result"
    }
   ],
   "source": [
    "# preprocessing_data\n",
    "preprocessing_data.groupby('stay_id').size().mean()\n",
    "preprocessing_data.groupby('stay_id').size().std()\n",
    "preprocessing_data.groupby('stay_id').size().min()\n",
    "preprocessing_data.groupby('stay_id').size().max()"
   ]
  },
  {
   "cell_type": "code",
   "execution_count": 216,
   "metadata": {},
   "outputs": [
    {
     "data": {
      "text/plain": [
       "3.2903151598803775"
      ]
     },
     "execution_count": 216,
     "metadata": {},
     "output_type": "execute_result"
    },
    {
     "data": {
      "text/plain": [
       "2.0139654082164844"
      ]
     },
     "execution_count": 216,
     "metadata": {},
     "output_type": "execute_result"
    },
    {
     "data": {
      "text/plain": [
       "1"
      ]
     },
     "execution_count": 216,
     "metadata": {},
     "output_type": "execute_result"
    },
    {
     "data": {
      "text/plain": [
       "24"
      ]
     },
     "execution_count": 216,
     "metadata": {},
     "output_type": "execute_result"
    }
   ],
   "source": [
    "# hold_out_data\n",
    "hold_out_data.groupby('stay_id').size().mean()\n",
    "hold_out_data.groupby('stay_id').size().std()\n",
    "hold_out_data.groupby('stay_id').size().min()\n",
    "hold_out_data.groupby('stay_id').size().max()"
   ]
  },
  {
   "attachments": {},
   "cell_type": "markdown",
   "metadata": {},
   "source": [
    "## IV & PO days"
   ]
  },
  {
   "cell_type": "code",
   "execution_count": 200,
   "metadata": {},
   "outputs": [],
   "source": [
    "# Create new iv_only_flag\n",
    "preprocessing_data['iv_only_flag'] = 0\n",
    "pos = -1\n",
    "for x in range(len(preprocessing_data)):\n",
    "    pos += 1\n",
    "    if preprocessing_data.iloc[x]['iv_flag'] == 1:\n",
    "        if preprocessing_data.iloc[x]['first_po_flag'] != preprocessing_data.iloc[x]['first_po_flag']: # check if NaN \n",
    "            preprocessing_data.loc[x,'iv_only_flag'] = 1"
   ]
  },
  {
   "cell_type": "code",
   "execution_count": 193,
   "metadata": {},
   "outputs": [
    {
     "data": {
      "text/html": [
       "<div>\n",
       "<style scoped>\n",
       "    .dataframe tbody tr th:only-of-type {\n",
       "        vertical-align: middle;\n",
       "    }\n",
       "\n",
       "    .dataframe tbody tr th {\n",
       "        vertical-align: top;\n",
       "    }\n",
       "\n",
       "    .dataframe thead th {\n",
       "        text-align: right;\n",
       "    }\n",
       "</style>\n",
       "<table border=\"1\" class=\"dataframe\">\n",
       "  <thead>\n",
       "    <tr style=\"text-align: right;\">\n",
       "      <th></th>\n",
       "      <th>stay_id</th>\n",
       "      <th>date</th>\n",
       "      <th>iv_flag</th>\n",
       "      <th>first_po_flag</th>\n",
       "      <th>po_flag</th>\n",
       "      <th>iv_treatment_length</th>\n",
       "      <th>iv_only_flag</th>\n",
       "    </tr>\n",
       "  </thead>\n",
       "  <tbody>\n",
       "    <tr>\n",
       "      <th>0</th>\n",
       "      <td>39409066.0</td>\n",
       "      <td>2137-05-22</td>\n",
       "      <td>1.0</td>\n",
       "      <td>1.0</td>\n",
       "      <td>0</td>\n",
       "      <td>0</td>\n",
       "      <td>0</td>\n",
       "    </tr>\n",
       "    <tr>\n",
       "      <th>1</th>\n",
       "      <td>39409066.0</td>\n",
       "      <td>2137-05-23</td>\n",
       "      <td>1.0</td>\n",
       "      <td>1.0</td>\n",
       "      <td>0</td>\n",
       "      <td>1</td>\n",
       "      <td>0</td>\n",
       "    </tr>\n",
       "    <tr>\n",
       "      <th>2</th>\n",
       "      <td>30322661.0</td>\n",
       "      <td>2169-10-09</td>\n",
       "      <td>1.0</td>\n",
       "      <td>NaN</td>\n",
       "      <td>0</td>\n",
       "      <td>0</td>\n",
       "      <td>1</td>\n",
       "    </tr>\n",
       "    <tr>\n",
       "      <th>3</th>\n",
       "      <td>30322661.0</td>\n",
       "      <td>2169-10-10</td>\n",
       "      <td>1.0</td>\n",
       "      <td>1.0</td>\n",
       "      <td>0</td>\n",
       "      <td>1</td>\n",
       "      <td>0</td>\n",
       "    </tr>\n",
       "    <tr>\n",
       "      <th>4</th>\n",
       "      <td>30322661.0</td>\n",
       "      <td>2169-10-11</td>\n",
       "      <td>1.0</td>\n",
       "      <td>1.0</td>\n",
       "      <td>0</td>\n",
       "      <td>2</td>\n",
       "      <td>0</td>\n",
       "    </tr>\n",
       "    <tr>\n",
       "      <th>...</th>\n",
       "      <td>...</td>\n",
       "      <td>...</td>\n",
       "      <td>...</td>\n",
       "      <td>...</td>\n",
       "      <td>...</td>\n",
       "      <td>...</td>\n",
       "      <td>...</td>\n",
       "    </tr>\n",
       "    <tr>\n",
       "      <th>14515</th>\n",
       "      <td>37575956.0</td>\n",
       "      <td>2153-02-15</td>\n",
       "      <td>1.0</td>\n",
       "      <td>1.0</td>\n",
       "      <td>0</td>\n",
       "      <td>0</td>\n",
       "      <td>0</td>\n",
       "    </tr>\n",
       "    <tr>\n",
       "      <th>14516</th>\n",
       "      <td>37575956.0</td>\n",
       "      <td>2153-02-16</td>\n",
       "      <td>1.0</td>\n",
       "      <td>1.0</td>\n",
       "      <td>0</td>\n",
       "      <td>1</td>\n",
       "      <td>0</td>\n",
       "    </tr>\n",
       "    <tr>\n",
       "      <th>14517</th>\n",
       "      <td>37540542.0</td>\n",
       "      <td>2161-05-10</td>\n",
       "      <td>1.0</td>\n",
       "      <td>NaN</td>\n",
       "      <td>0</td>\n",
       "      <td>0</td>\n",
       "      <td>1</td>\n",
       "    </tr>\n",
       "    <tr>\n",
       "      <th>14518</th>\n",
       "      <td>37540542.0</td>\n",
       "      <td>2161-05-11</td>\n",
       "      <td>1.0</td>\n",
       "      <td>1.0</td>\n",
       "      <td>0</td>\n",
       "      <td>1</td>\n",
       "      <td>0</td>\n",
       "    </tr>\n",
       "    <tr>\n",
       "      <th>14519</th>\n",
       "      <td>37540542.0</td>\n",
       "      <td>2161-05-12</td>\n",
       "      <td>1.0</td>\n",
       "      <td>1.0</td>\n",
       "      <td>0</td>\n",
       "      <td>2</td>\n",
       "      <td>0</td>\n",
       "    </tr>\n",
       "  </tbody>\n",
       "</table>\n",
       "<p>14520 rows × 7 columns</p>\n",
       "</div>"
      ],
      "text/plain": [
       "          stay_id        date  iv_flag  first_po_flag  po_flag  \\\n",
       "0      39409066.0  2137-05-22      1.0            1.0        0   \n",
       "1      39409066.0  2137-05-23      1.0            1.0        0   \n",
       "2      30322661.0  2169-10-09      1.0            NaN        0   \n",
       "3      30322661.0  2169-10-10      1.0            1.0        0   \n",
       "4      30322661.0  2169-10-11      1.0            1.0        0   \n",
       "...           ...         ...      ...            ...      ...   \n",
       "14515  37575956.0  2153-02-15      1.0            1.0        0   \n",
       "14516  37575956.0  2153-02-16      1.0            1.0        0   \n",
       "14517  37540542.0  2161-05-10      1.0            NaN        0   \n",
       "14518  37540542.0  2161-05-11      1.0            1.0        0   \n",
       "14519  37540542.0  2161-05-12      1.0            1.0        0   \n",
       "\n",
       "       iv_treatment_length  iv_only_flag  \n",
       "0                        0             0  \n",
       "1                        1             0  \n",
       "2                        0             1  \n",
       "3                        1             0  \n",
       "4                        2             0  \n",
       "...                    ...           ...  \n",
       "14515                    0             0  \n",
       "14516                    1             0  \n",
       "14517                    0             1  \n",
       "14518                    1             0  \n",
       "14519                    2             0  \n",
       "\n",
       "[14520 rows x 7 columns]"
      ]
     },
     "execution_count": 193,
     "metadata": {},
     "output_type": "execute_result"
    }
   ],
   "source": [
    "preprocessing_data"
   ]
  },
  {
   "cell_type": "code",
   "execution_count": 84,
   "metadata": {},
   "outputs": [
    {
     "data": {
      "text/plain": [
       "2.792500575109271"
      ]
     },
     "execution_count": 84,
     "metadata": {},
     "output_type": "execute_result"
    },
    {
     "data": {
      "text/plain": [
       "1.4698093454278869"
      ]
     },
     "execution_count": 84,
     "metadata": {},
     "output_type": "execute_result"
    }
   ],
   "source": [
    "# Number of iv treatment days\n",
    "preprocessing_data.groupby('stay_id')['iv_flag'].sum().mean()\n",
    "preprocessing_data.groupby('stay_id')['iv_flag'].sum().std()"
   ]
  },
  {
   "cell_type": "code",
   "execution_count": 83,
   "metadata": {},
   "outputs": [
    {
     "data": {
      "text/plain": [
       "2.7561536691971473"
      ]
     },
     "execution_count": 83,
     "metadata": {},
     "output_type": "execute_result"
    },
    {
     "data": {
      "text/plain": [
       "1.9093300898312386"
      ]
     },
     "execution_count": 83,
     "metadata": {},
     "output_type": "execute_result"
    }
   ],
   "source": [
    "# Number of po treatment days\n",
    "preprocessing_data.groupby('stay_id')['first_po_flag'].sum().mean()\n",
    "preprocessing_data.groupby('stay_id')['first_po_flag'].sum().std()"
   ]
  },
  {
   "cell_type": "code",
   "execution_count": 82,
   "metadata": {},
   "outputs": [
    {
     "data": {
      "text/plain": [
       "0.5840809753853232"
      ]
     },
     "execution_count": 82,
     "metadata": {},
     "output_type": "execute_result"
    },
    {
     "data": {
      "text/plain": [
       "1.194019689817728"
      ]
     },
     "execution_count": 82,
     "metadata": {},
     "output_type": "execute_result"
    }
   ],
   "source": [
    "# Number of only IV treatment days\n",
    "preprocessing_data.groupby('stay_id')['iv_only_flag'].sum().mean()\n",
    "preprocessing_data.groupby('stay_id')['iv_only_flag'].sum().std()"
   ]
  },
  {
   "cell_type": "code",
   "execution_count": 81,
   "metadata": {},
   "outputs": [
    {
     "data": {
      "text/plain": [
       "0.5477340694731999"
      ]
     },
     "execution_count": 81,
     "metadata": {},
     "output_type": "execute_result"
    },
    {
     "data": {
      "text/plain": [
       "1.391649309420526"
      ]
     },
     "execution_count": 81,
     "metadata": {},
     "output_type": "execute_result"
    }
   ],
   "source": [
    "# Number of only po treatment days\n",
    "preprocessing_data.groupby('stay_id')['po_flag'].sum().mean()\n",
    "preprocessing_data.groupby('stay_id')['po_flag'].sum().std()"
   ]
  },
  {
   "cell_type": "code",
   "execution_count": 205,
   "metadata": {},
   "outputs": [],
   "source": [
    "# Create new iv_only_flag\n",
    "hold_out_data.reset_index(inplace=True, drop=True)\n",
    "hold_out_data['iv_only_flag'] = 0\n",
    "pos = -1\n",
    "for x in range(len(hold_out_data)):\n",
    "    pos += 1\n",
    "    if hold_out_data.iloc[x]['iv_flag'] == 1:\n",
    "        if hold_out_data.iloc[x]['first_po_flag'] != hold_out_data.iloc[x]['first_po_flag']: # check if NaN \n",
    "            hold_out_data.loc[x,'iv_only_flag'] = 1"
   ]
  },
  {
   "cell_type": "code",
   "execution_count": 207,
   "metadata": {},
   "outputs": [
    {
     "data": {
      "text/plain": [
       "2.746031746031746"
      ]
     },
     "execution_count": 207,
     "metadata": {},
     "output_type": "execute_result"
    },
    {
     "data": {
      "text/plain": [
       "1.4598176013710564"
      ]
     },
     "execution_count": 207,
     "metadata": {},
     "output_type": "execute_result"
    }
   ],
   "source": [
    "# Number of iv treatment days\n",
    "hold_out_data.groupby('stay_id')['iv_flag'].sum().mean()\n",
    "hold_out_data.groupby('stay_id')['iv_flag'].sum().std()"
   ]
  },
  {
   "cell_type": "code",
   "execution_count": 208,
   "metadata": {},
   "outputs": [
    {
     "data": {
      "text/plain": [
       "2.6919714745801704"
      ]
     },
     "execution_count": 208,
     "metadata": {},
     "output_type": "execute_result"
    },
    {
     "data": {
      "text/plain": [
       "1.8072404999558938"
      ]
     },
     "execution_count": 208,
     "metadata": {},
     "output_type": "execute_result"
    }
   ],
   "source": [
    "# Number of po treatment days\n",
    "hold_out_data.groupby('stay_id')['first_po_flag'].sum().mean()\n",
    "hold_out_data.groupby('stay_id')['first_po_flag'].sum().std()"
   ]
  },
  {
   "cell_type": "code",
   "execution_count": 209,
   "metadata": {},
   "outputs": [
    {
     "data": {
      "text/plain": [
       "0.598343685300207"
      ]
     },
     "execution_count": 209,
     "metadata": {},
     "output_type": "execute_result"
    },
    {
     "data": {
      "text/plain": [
       "1.1744625107948052"
      ]
     },
     "execution_count": 209,
     "metadata": {},
     "output_type": "execute_result"
    }
   ],
   "source": [
    "# Number of only IV treatment days\n",
    "hold_out_data.groupby('stay_id')['iv_only_flag'].sum().mean()\n",
    "hold_out_data.groupby('stay_id')['iv_only_flag'].sum().std()"
   ]
  },
  {
   "cell_type": "code",
   "execution_count": 210,
   "metadata": {},
   "outputs": [
    {
     "data": {
      "text/plain": [
       "0.5442834138486312"
      ]
     },
     "execution_count": 210,
     "metadata": {},
     "output_type": "execute_result"
    },
    {
     "data": {
      "text/plain": [
       "1.2272996712028428"
      ]
     },
     "execution_count": 210,
     "metadata": {},
     "output_type": "execute_result"
    }
   ],
   "source": [
    "# Number of only po treatment days\n",
    "hold_out_data.groupby('stay_id')['po_flag'].sum().mean()\n",
    "hold_out_data.groupby('stay_id')['po_flag'].sum().std()"
   ]
  },
  {
   "attachments": {},
   "cell_type": "markdown",
   "metadata": {},
   "source": [
    "## Antibiotics"
   ]
  },
  {
   "cell_type": "code",
   "execution_count": 85,
   "metadata": {},
   "outputs": [],
   "source": [
    "antibiotics = pd.read_csv(r\"mimic-iv-2.0/antibiotic.csv\")"
   ]
  },
  {
   "cell_type": "code",
   "execution_count": 86,
   "metadata": {},
   "outputs": [
    {
     "data": {
      "text/html": [
       "<div>\n",
       "<style scoped>\n",
       "    .dataframe tbody tr th:only-of-type {\n",
       "        vertical-align: middle;\n",
       "    }\n",
       "\n",
       "    .dataframe tbody tr th {\n",
       "        vertical-align: top;\n",
       "    }\n",
       "\n",
       "    .dataframe thead th {\n",
       "        text-align: right;\n",
       "    }\n",
       "</style>\n",
       "<table border=\"1\" class=\"dataframe\">\n",
       "  <thead>\n",
       "    <tr style=\"text-align: right;\">\n",
       "      <th></th>\n",
       "      <th>subject_id</th>\n",
       "      <th>hadm_id</th>\n",
       "      <th>stay_id</th>\n",
       "      <th>antibiotic</th>\n",
       "      <th>route</th>\n",
       "      <th>starttime</th>\n",
       "      <th>stoptime</th>\n",
       "    </tr>\n",
       "  </thead>\n",
       "  <tbody>\n",
       "    <tr>\n",
       "      <th>0</th>\n",
       "      <td>18480379</td>\n",
       "      <td>22159705</td>\n",
       "      <td>NaN</td>\n",
       "      <td>Cipro</td>\n",
       "      <td>ORAL</td>\n",
       "      <td>2124-05-03 20:00:00</td>\n",
       "      <td>2124-05-04 16:00:00</td>\n",
       "    </tr>\n",
       "    <tr>\n",
       "      <th>1</th>\n",
       "      <td>18480379</td>\n",
       "      <td>22159705</td>\n",
       "      <td>NaN</td>\n",
       "      <td>Cipro</td>\n",
       "      <td>ORAL</td>\n",
       "      <td>2124-05-03 20:00:00</td>\n",
       "      <td>2124-05-03 18:00:00</td>\n",
       "    </tr>\n",
       "    <tr>\n",
       "      <th>2</th>\n",
       "      <td>17068038</td>\n",
       "      <td>23263906</td>\n",
       "      <td>NaN</td>\n",
       "      <td>Cipro</td>\n",
       "      <td>ORAL</td>\n",
       "      <td>2189-04-23 20:00:00</td>\n",
       "      <td>2189-04-24 20:00:00</td>\n",
       "    </tr>\n",
       "    <tr>\n",
       "      <th>3</th>\n",
       "      <td>18480379</td>\n",
       "      <td>22159705</td>\n",
       "      <td>NaN</td>\n",
       "      <td>Cipro</td>\n",
       "      <td>ORAL</td>\n",
       "      <td>2124-05-03 20:00:00</td>\n",
       "      <td>2124-05-03 19:00:00</td>\n",
       "    </tr>\n",
       "    <tr>\n",
       "      <th>4</th>\n",
       "      <td>10167765</td>\n",
       "      <td>23327987</td>\n",
       "      <td>NaN</td>\n",
       "      <td>AveLOX</td>\n",
       "      <td>ORAL</td>\n",
       "      <td>2174-07-22 21:00:00</td>\n",
       "      <td>2174-07-24 20:00:00</td>\n",
       "    </tr>\n",
       "    <tr>\n",
       "      <th>...</th>\n",
       "      <td>...</td>\n",
       "      <td>...</td>\n",
       "      <td>...</td>\n",
       "      <td>...</td>\n",
       "      <td>...</td>\n",
       "      <td>...</td>\n",
       "      <td>...</td>\n",
       "    </tr>\n",
       "    <tr>\n",
       "      <th>773626</th>\n",
       "      <td>13019601</td>\n",
       "      <td>25893500</td>\n",
       "      <td>31850495.0</td>\n",
       "      <td>Piperacillin-Tazobactam</td>\n",
       "      <td>IV</td>\n",
       "      <td>2194-08-12 12:00:00</td>\n",
       "      <td>2194-08-12 11:00:00</td>\n",
       "    </tr>\n",
       "    <tr>\n",
       "      <th>773627</th>\n",
       "      <td>13019601</td>\n",
       "      <td>25893500</td>\n",
       "      <td>31850495.0</td>\n",
       "      <td>Piperacillin-Tazobactam</td>\n",
       "      <td>IV</td>\n",
       "      <td>2194-08-09 10:00:00</td>\n",
       "      <td>2194-08-12 11:00:00</td>\n",
       "    </tr>\n",
       "    <tr>\n",
       "      <th>773628</th>\n",
       "      <td>13019601</td>\n",
       "      <td>25893500</td>\n",
       "      <td>31850495.0</td>\n",
       "      <td>Piperacillin-Tazobactam</td>\n",
       "      <td>IV</td>\n",
       "      <td>2194-08-12 12:00:00</td>\n",
       "      <td>2194-08-16 06:00:00</td>\n",
       "    </tr>\n",
       "    <tr>\n",
       "      <th>773629</th>\n",
       "      <td>13019601</td>\n",
       "      <td>25893500</td>\n",
       "      <td>31850495.0</td>\n",
       "      <td>Piperacillin-Tazobactam</td>\n",
       "      <td>IV</td>\n",
       "      <td>2194-08-09 01:00:00</td>\n",
       "      <td>2194-08-10 00:00:00</td>\n",
       "    </tr>\n",
       "    <tr>\n",
       "      <th>773630</th>\n",
       "      <td>13019601</td>\n",
       "      <td>25893500</td>\n",
       "      <td>31850495.0</td>\n",
       "      <td>Piperacillin-Tazobactam</td>\n",
       "      <td>IV</td>\n",
       "      <td>2194-08-09 01:00:00</td>\n",
       "      <td>2194-08-09 02:00:00</td>\n",
       "    </tr>\n",
       "  </tbody>\n",
       "</table>\n",
       "<p>773631 rows × 7 columns</p>\n",
       "</div>"
      ],
      "text/plain": [
       "        subject_id   hadm_id     stay_id               antibiotic route  \\\n",
       "0         18480379  22159705         NaN                    Cipro  ORAL   \n",
       "1         18480379  22159705         NaN                    Cipro  ORAL   \n",
       "2         17068038  23263906         NaN                    Cipro  ORAL   \n",
       "3         18480379  22159705         NaN                    Cipro  ORAL   \n",
       "4         10167765  23327987         NaN                   AveLOX  ORAL   \n",
       "...            ...       ...         ...                      ...   ...   \n",
       "773626    13019601  25893500  31850495.0  Piperacillin-Tazobactam    IV   \n",
       "773627    13019601  25893500  31850495.0  Piperacillin-Tazobactam    IV   \n",
       "773628    13019601  25893500  31850495.0  Piperacillin-Tazobactam    IV   \n",
       "773629    13019601  25893500  31850495.0  Piperacillin-Tazobactam    IV   \n",
       "773630    13019601  25893500  31850495.0  Piperacillin-Tazobactam    IV   \n",
       "\n",
       "                  starttime             stoptime  \n",
       "0       2124-05-03 20:00:00  2124-05-04 16:00:00  \n",
       "1       2124-05-03 20:00:00  2124-05-03 18:00:00  \n",
       "2       2189-04-23 20:00:00  2189-04-24 20:00:00  \n",
       "3       2124-05-03 20:00:00  2124-05-03 19:00:00  \n",
       "4       2174-07-22 21:00:00  2174-07-24 20:00:00  \n",
       "...                     ...                  ...  \n",
       "773626  2194-08-12 12:00:00  2194-08-12 11:00:00  \n",
       "773627  2194-08-09 10:00:00  2194-08-12 11:00:00  \n",
       "773628  2194-08-12 12:00:00  2194-08-16 06:00:00  \n",
       "773629  2194-08-09 01:00:00  2194-08-10 00:00:00  \n",
       "773630  2194-08-09 01:00:00  2194-08-09 02:00:00  \n",
       "\n",
       "[773631 rows x 7 columns]"
      ]
     },
     "execution_count": 86,
     "metadata": {},
     "output_type": "execute_result"
    }
   ],
   "source": [
    "antibiotics"
   ]
  },
  {
   "cell_type": "code",
   "execution_count": 98,
   "metadata": {},
   "outputs": [],
   "source": [
    "# Filter for relevant delivery methods\n",
    "route_list = ['IV', 'PO/NG', 'PO', 'NU', 'ORAL']\n",
    "antibiotics['flag'] = np.where(antibiotics.route.str.contains('|'.join(route_list), na=False, case=False),1,0)\n",
    "antibiotics = antibiotics[antibiotics['flag'] == 1]\n",
    "antibiotics.drop(columns=['flag'], inplace=True)\n",
    "# Need to remove some others that got through the filter \n",
    "antibiotics = antibiotics.groupby('route').filter(lambda x: len(x) > 100)\n",
    "antibiotics['route'] = antibiotics['route'].replace({'PO/NG':'PO', 'NU':'PO', 'ORAL':'PO'})\n",
    "\n",
    "antibiotics['starttime'] = pd.to_datetime(antibiotics['starttime'])\n",
    "antibiotics['stoptime'] = pd.to_datetime(antibiotics['stoptime'])\n",
    "#antibiotics.stay_id.nunique()\n",
    "\n",
    "## Filter so only ICU stays given data we are using ##\n",
    "antibiotics = antibiotics[~antibiotics['stay_id'].isna()]\n",
    "\n",
    "# Filter out Mupirocin\n",
    "antibiotics = antibiotics[~antibiotics['antibiotic'].str.contains('Mupirocin', case=False)]"
   ]
  },
  {
   "cell_type": "code",
   "execution_count": 100,
   "metadata": {},
   "outputs": [
    {
     "data": {
      "text/plain": [
       "4347"
      ]
     },
     "execution_count": 100,
     "metadata": {},
     "output_type": "execute_result"
    },
    {
     "data": {
      "text/plain": [
       "4347"
      ]
     },
     "execution_count": 100,
     "metadata": {},
     "output_type": "execute_result"
    },
    {
     "data": {
      "text/plain": [
       "Vancomycin                    0.259636\n",
       "CefePIME                      0.088680\n",
       "Azithromycin                  0.063832\n",
       "Piperacillin-Tazobactam       0.061237\n",
       "Levofloxacin                  0.047985\n",
       "                                ...   \n",
       "Ciprofloxacin                 0.000055\n",
       "bactrim                       0.000055\n",
       "Meropenem Graded Challenge    0.000055\n",
       "Vancomycin Ora                0.000055\n",
       "Cefepime Graded Challenge     0.000055\n",
       "Name: antibiotic, Length: 70, dtype: float64"
      ]
     },
     "execution_count": 100,
     "metadata": {},
     "output_type": "execute_result"
    }
   ],
   "source": [
    "# preprocessing_data all\n",
    "len(preprocessing_data_list)\n",
    "antibiotics[antibiotics['stay_id'].isin(preprocessing_data_list)].stay_id.nunique()\n",
    "antibiotics[antibiotics['stay_id'].isin(preprocessing_data_list)]['antibiotic'].value_counts(normalize=True)"
   ]
  },
  {
   "cell_type": "code",
   "execution_count": 5,
   "metadata": {},
   "outputs": [
    {
     "data": {
      "text/plain": [
       "0.124666"
      ]
     },
     "execution_count": 5,
     "metadata": {},
     "output_type": "execute_result"
    }
   ],
   "source": [
    "0.063098 + 0.061568"
   ]
  },
  {
   "cell_type": "code",
   "execution_count": 6,
   "metadata": {},
   "outputs": [
    {
     "data": {
      "text/plain": [
       "0.078164"
      ]
     },
     "execution_count": 6,
     "metadata": {},
     "output_type": "execute_result"
    }
   ],
   "source": [
    "0.042065 + 0.036099"
   ]
  },
  {
   "cell_type": "code",
   "execution_count": 7,
   "metadata": {},
   "outputs": [
    {
     "data": {
      "text/plain": [
       "0.045813"
      ]
     },
     "execution_count": 7,
     "metadata": {},
     "output_type": "execute_result"
    }
   ],
   "source": [
    "0.031128 + 0.014685"
   ]
  },
  {
   "cell_type": "code",
   "execution_count": 8,
   "metadata": {},
   "outputs": [
    {
     "data": {
      "text/plain": [
       "0.09346"
      ]
     },
     "execution_count": 8,
     "metadata": {},
     "output_type": "execute_result"
    }
   ],
   "source": [
    "0.008642 + 0.084818"
   ]
  },
  {
   "cell_type": "code",
   "execution_count": 101,
   "metadata": {},
   "outputs": [
    {
     "data": {
      "text/plain": [
       "Vancomycin                       0.359618\n",
       "CefePIME                         0.122830\n",
       "Piperacillin-Tazobactam          0.084818\n",
       "CeFAZolin                        0.063098\n",
       "CefazoLIN                        0.061568\n",
       "CeftriaXONE                      0.042065\n",
       "CefTRIAXone                      0.036099\n",
       "MetRONIDAZOLE (FLagyl)           0.031128\n",
       "Ciprofloxacin IV                 0.031128\n",
       "Meropenem                        0.028834\n",
       "Azithromycin                     0.022027\n",
       "Levofloxacin                     0.017591\n",
       "CefTAZidime                      0.016597\n",
       "MetroNIDAZOLE                    0.014685\n",
       "Ampicillin-Sulbactam             0.011472\n",
       "Piperacillin-Tazobactam Na       0.008642\n",
       "Linezolid                        0.008107\n",
       "Aztreonam                        0.007572\n",
       "Clindamycin                      0.007036\n",
       "Ampicillin Sodium                0.003901\n",
       "Tobramycin Sulfate               0.003059\n",
       "Sulfamethoxazole-Trimethoprim    0.002753\n",
       "Gentamicin Sulfate               0.002677\n",
       "Doxycycline Hyclate              0.002447\n",
       "Gentamicin                       0.002371\n",
       "Nafcillin                        0.001912\n",
       "Sulfameth/Trimethoprim           0.001147\n",
       "Rifampin                         0.000918\n",
       "Erythromycin                     0.000841\n",
       "Ceftaroline                      0.000765\n",
       "Amikacin                         0.000688\n",
       "CeftazIDIME                      0.000612\n",
       "vancomycin                       0.000153\n",
       "LevoFLOXacin                     0.000153\n",
       "Penicillin G Potassium           0.000153\n",
       "Amikacin Inhalation              0.000153\n",
       "Ampicillin                       0.000076\n",
       "ceFAZolin                        0.000076\n",
       "Ciprofloxacin                    0.000076\n",
       "Meropenem Graded Challenge       0.000076\n",
       "Cefepime Graded Challenge        0.000076\n",
       "Name: antibiotic, dtype: float64"
      ]
     },
     "execution_count": 101,
     "metadata": {},
     "output_type": "execute_result"
    }
   ],
   "source": [
    "# preprocessing_data IV\n",
    "antibiotics[(antibiotics['stay_id'].isin(preprocessing_data_list)) & (antibiotics['route'] == 'IV')]['antibiotic'].value_counts(normalize=True)"
   ]
  },
  {
   "cell_type": "code",
   "execution_count": 14,
   "metadata": {},
   "outputs": [
    {
     "data": {
      "text/plain": [
       "0.118173"
      ]
     },
     "execution_count": 14,
     "metadata": {},
     "output_type": "execute_result"
    }
   ],
   "source": [
    "0.061768 + 0.056405"
   ]
  },
  {
   "cell_type": "code",
   "execution_count": 15,
   "metadata": {},
   "outputs": [
    {
     "data": {
      "text/plain": [
       "0.079047"
      ]
     },
     "execution_count": 15,
     "metadata": {},
     "output_type": "execute_result"
    }
   ],
   "source": [
    "0.036743 + 0.042304"
   ]
  },
  {
   "cell_type": "code",
   "execution_count": 102,
   "metadata": {},
   "outputs": [
    {
     "data": {
      "text/plain": [
       "Azithromycin                              0.229593\n",
       "Vancomycin Oral Liquid                    0.134459\n",
       "Ciprofloxacin HCl                         0.127706\n",
       "Levofloxacin                              0.126912\n",
       "Sulfameth/Trimethoprim SS                 0.061768\n",
       "Sulfameth/Trimethoprim DS                 0.056405\n",
       "MetRONIDAZOLE (FLagyl)                    0.042304\n",
       "MetroNIDAZOLE                             0.036743\n",
       "Doxycycline Hyclate                       0.027011\n",
       "Amoxicillin-Clavulanic Acid               0.026415\n",
       "Sulfameth/Trimethoprim Suspension         0.025621\n",
       "Linezolid                                 0.017478\n",
       "Cephalexin                                0.015690\n",
       "Cefpodoxime Proxetil                      0.013307\n",
       "Clindamycin                               0.011321\n",
       "Amoxicillin                               0.007944\n",
       "Rifampin                                  0.006753\n",
       "Clarithromycin                            0.005164\n",
       "Nitrofurantoin Monohyd (MacroBID)         0.004965\n",
       "Ampicillin                                0.004171\n",
       "Erythromycin                              0.003178\n",
       "Nitrofurantoin (Macrodantin)              0.002185\n",
       "Penicillin V Potassium                    0.001787\n",
       "Amoxicillin-Clavulanate Susp.             0.001787\n",
       "LevoFLOXacin                              0.001390\n",
       "Moxifloxacin                              0.001192\n",
       "SulfADIAzine                              0.000794\n",
       "DiCLOXacillin                             0.000794\n",
       "Erythromycin Ethylsuccinate Suspension    0.000794\n",
       "Amphotericin B Oral Suspension            0.000596\n",
       "Minocycline                               0.000596\n",
       "Tetracycline                              0.000596\n",
       "Trimethoprim                              0.000596\n",
       "Vancocin                                  0.000397\n",
       "AMOXicillin Oral Susp.                    0.000397\n",
       "Sulfameth/Trimethoprim                    0.000397\n",
       "Vancomycin Ora                            0.000199\n",
       "Augmentin Suspension                      0.000199\n",
       "Neomycin Sulfate                          0.000199\n",
       "bactrim                                   0.000199\n",
       "Name: antibiotic, dtype: float64"
      ]
     },
     "execution_count": 102,
     "metadata": {},
     "output_type": "execute_result"
    }
   ],
   "source": [
    "# preprocessing_data PO\n",
    "antibiotics[(antibiotics['stay_id'].isin(preprocessing_data_list)) & (antibiotics['route'] == 'PO')]['antibiotic'].value_counts(normalize=True)"
   ]
  },
  {
   "cell_type": "code",
   "execution_count": 104,
   "metadata": {},
   "outputs": [
    {
     "data": {
      "text/plain": [
       "4347"
      ]
     },
     "execution_count": 104,
     "metadata": {},
     "output_type": "execute_result"
    },
    {
     "data": {
      "text/plain": [
       "4347"
      ]
     },
     "execution_count": 104,
     "metadata": {},
     "output_type": "execute_result"
    },
    {
     "data": {
      "text/plain": [
       "Vancomycin                   0.259180\n",
       "CefePIME                     0.102254\n",
       "Azithromycin                 0.062858\n",
       "Piperacillin-Tazobactam      0.055656\n",
       "Levofloxacin                 0.048071\n",
       "                               ...   \n",
       "Neomycin Sulfate             0.000055\n",
       "Tetracycline                 0.000055\n",
       "RifAMPin                     0.000055\n",
       "Moxifloxacin                 0.000055\n",
       "Cefepime Graded Challenge    0.000055\n",
       "Name: antibiotic, Length: 66, dtype: float64"
      ]
     },
     "execution_count": 104,
     "metadata": {},
     "output_type": "execute_result"
    }
   ],
   "source": [
    "# hold_out_data\n",
    "len(hold_out_data_list)\n",
    "antibiotics[antibiotics['stay_id'].isin(hold_out_data_list)].stay_id.nunique()\n",
    "antibiotics[antibiotics['stay_id'].isin(hold_out_data_list)]['antibiotic'].value_counts(normalize=True)"
   ]
  },
  {
   "cell_type": "code",
   "execution_count": 9,
   "metadata": {},
   "outputs": [
    {
     "data": {
      "text/plain": [
       "0.120827"
      ]
     },
     "execution_count": 9,
     "metadata": {},
     "output_type": "execute_result"
    }
   ],
   "source": [
    "0.061761 + 0.059066"
   ]
  },
  {
   "cell_type": "code",
   "execution_count": 10,
   "metadata": {},
   "outputs": [
    {
     "data": {
      "text/plain": [
       "0.084219"
      ]
     },
     "execution_count": 10,
     "metadata": {},
     "output_type": "execute_result"
    }
   ],
   "source": [
    "0.007860 + 0.076359"
   ]
  },
  {
   "cell_type": "code",
   "execution_count": 11,
   "metadata": {},
   "outputs": [
    {
     "data": {
      "text/plain": [
       "0.080401"
      ]
     },
     "execution_count": 11,
     "metadata": {},
     "output_type": "execute_result"
    }
   ],
   "source": [
    "0.043569 + 0.036832"
   ]
  },
  {
   "cell_type": "code",
   "execution_count": 12,
   "metadata": {},
   "outputs": [
    {
     "data": {
      "text/plain": [
       "0.047986"
      ]
     },
     "execution_count": 12,
     "metadata": {},
     "output_type": "execute_result"
    }
   ],
   "source": [
    "0.031816 + 0.016170"
   ]
  },
  {
   "cell_type": "code",
   "execution_count": 105,
   "metadata": {},
   "outputs": [
    {
     "data": {
      "text/plain": [
       "Vancomycin                       0.355592\n",
       "CefePIME                         0.140290\n",
       "Piperacillin-Tazobactam          0.076359\n",
       "CeFAZolin                        0.061761\n",
       "CefazoLIN                        0.059066\n",
       "CeftriaXONE                      0.043569\n",
       "CefTRIAXone                      0.036832\n",
       "MetRONIDAZOLE (FLagyl)           0.031816\n",
       "Meropenem                        0.031666\n",
       "Ciprofloxacin IV                 0.030768\n",
       "Levofloxacin                     0.019913\n",
       "Azithromycin                     0.019539\n",
       "MetroNIDAZOLE                    0.016170\n",
       "CefTAZidime                      0.014823\n",
       "Ampicillin-Sulbactam             0.010181\n",
       "Piperacillin-Tazobactam Na       0.007860\n",
       "Linezolid                        0.007711\n",
       "Clindamycin                      0.005315\n",
       "Aztreonam                        0.005315\n",
       "Ampicillin Sodium                0.004941\n",
       "Sulfamethoxazole-Trimethoprim    0.003593\n",
       "Doxycycline Hyclate              0.003069\n",
       "Gentamicin                       0.002770\n",
       "Tobramycin Sulfate               0.002021\n",
       "CeftazIDIME                      0.001872\n",
       "Nafcillin                        0.001722\n",
       "Gentamicin Sulfate               0.001198\n",
       "Erythromycin                     0.001048\n",
       "Amikacin                         0.000898\n",
       "Sulfameth/Trimethoprim           0.000599\n",
       "Ceftaroline                      0.000374\n",
       "Ceftolozane-Tazobactam           0.000374\n",
       "Penicillin G Potassium           0.000299\n",
       "ceFAZolin                        0.000299\n",
       "LevoFLOXacin                     0.000150\n",
       "Rifampin                         0.000150\n",
       "Cefepime Graded Challenge        0.000075\n",
       "Name: antibiotic, dtype: float64"
      ]
     },
     "execution_count": 105,
     "metadata": {},
     "output_type": "execute_result"
    }
   ],
   "source": [
    "# hold_out_data IV\n",
    "antibiotics[(antibiotics['stay_id'].isin(hold_out_data_list)) & (antibiotics['route'] == 'IV')]['antibiotic'].value_counts(normalize=True)"
   ]
  },
  {
   "cell_type": "code",
   "execution_count": 16,
   "metadata": {},
   "outputs": [
    {
     "data": {
      "text/plain": [
       "0.10042300000000001"
      ]
     },
     "execution_count": 16,
     "metadata": {},
     "output_type": "execute_result"
    }
   ],
   "source": [
    "0.052526 + 0.047897"
   ]
  },
  {
   "cell_type": "code",
   "execution_count": 17,
   "metadata": {},
   "outputs": [
    {
     "data": {
      "text/plain": [
       "0.09317700000000001"
      ]
     },
     "execution_count": 17,
     "metadata": {},
     "output_type": "execute_result"
    }
   ],
   "source": [
    "0.053934 + 0.039243"
   ]
  },
  {
   "cell_type": "code",
   "execution_count": 106,
   "metadata": {},
   "outputs": [
    {
     "data": {
      "text/plain": [
       "Azithromycin                         0.231837\n",
       "Vancomycin Oral Liquid               0.142282\n",
       "Levofloxacin                         0.123767\n",
       "Ciprofloxacin HCl                    0.121352\n",
       "MetRONIDAZOLE (FLagyl)               0.053934\n",
       "Sulfameth/Trimethoprim SS            0.052526\n",
       "Sulfameth/Trimethoprim DS            0.047897\n",
       "MetroNIDAZOLE                        0.039243\n",
       "Doxycycline Hyclate                  0.031797\n",
       "Sulfameth/Trimethoprim Suspension    0.026363\n",
       "Amoxicillin-Clavulanic Acid          0.024753\n",
       "Cephalexin                           0.018112\n",
       "Linezolid                            0.016905\n",
       "Cefpodoxime Proxetil                 0.012679\n",
       "Clindamycin                          0.010062\n",
       "Amoxicillin                          0.008855\n",
       "Nitrofurantoin Monohyd (MacroBID)    0.006037\n",
       "Clarithromycin                       0.006037\n",
       "Rifampin                             0.003622\n",
       "Ampicillin                           0.003421\n",
       "Minocycline                          0.002616\n",
       "Amoxicillin-Clavulanate Susp.        0.002616\n",
       "Nitrofurantoin (Macrodantin)         0.002214\n",
       "LevoFLOXacin                         0.002012\n",
       "Erythromycin                         0.002012\n",
       "DiCLOXacillin                        0.001610\n",
       "vancomycin                           0.001006\n",
       "SulfADIAzine                         0.000805\n",
       "Penicillin V Potassium               0.000604\n",
       "Sulfameth/Trimethoprim               0.000604\n",
       "AMOXicillin Oral Susp.               0.000402\n",
       "Sulfameth/Trimethoprim               0.000402\n",
       "Trimethoprim                         0.000402\n",
       "Moxifloxacin                         0.000201\n",
       "Neomycin Sulfate                     0.000201\n",
       "RifAMPin                             0.000201\n",
       "Tetracycline                         0.000201\n",
       "Tetracycline HCl                     0.000201\n",
       "moxifloxacin                         0.000201\n",
       "Name: antibiotic, dtype: float64"
      ]
     },
     "execution_count": 106,
     "metadata": {},
     "output_type": "execute_result"
    }
   ],
   "source": [
    "# hold_out_data PO\n",
    "antibiotics[(antibiotics['stay_id'].isin(hold_out_data_list)) & (antibiotics['route'] == 'PO')]['antibiotic'].value_counts(normalize=True)"
   ]
  },
  {
   "cell_type": "markdown",
   "metadata": {},
   "source": [
    "## Diagnosis"
   ]
  },
  {
   "cell_type": "code",
   "execution_count": 39,
   "metadata": {},
   "outputs": [],
   "source": [
    "# Import diagnosis\n",
    "diagnoses_icd = pd.read_csv(r\"mimic-iv-2.0/hosp/diagnoses_icd.csv\")\n",
    "d_icd_diagnoses = pd.read_csv(r\"mimic-iv-2.0/hosp/d_icd_diagnoses.csv\")"
   ]
  },
  {
   "cell_type": "code",
   "execution_count": 40,
   "metadata": {},
   "outputs": [],
   "source": [
    "diagnoses_icd = pd.merge(diagnoses_icd, d_icd_diagnoses)\n",
    "diagnoses_icd.drop_duplicates(inplace=True)"
   ]
  },
  {
   "cell_type": "code",
   "execution_count": 35,
   "metadata": {},
   "outputs": [
    {
     "data": {
      "text/plain": [
       "4324"
      ]
     },
     "execution_count": 35,
     "metadata": {},
     "output_type": "execute_result"
    }
   ],
   "source": [
    "len(preprocessing_data_hadm_id_list)"
   ]
  },
  {
   "cell_type": "code",
   "execution_count": 307,
   "metadata": {},
   "outputs": [
    {
     "data": {
      "text/plain": [
       "4324"
      ]
     },
     "execution_count": 307,
     "metadata": {},
     "output_type": "execute_result"
    },
    {
     "data": {
      "text/plain": [
       "4324"
      ]
     },
     "execution_count": 307,
     "metadata": {},
     "output_type": "execute_result"
    }
   ],
   "source": [
    "len(preprocessing_data_hadm_id_list)\n",
    "diagnoses_icd[diagnoses_icd['hadm_id'].isin(preprocessing_data_hadm_id_list)]['hadm_id'].nunique()"
   ]
  },
  {
   "cell_type": "code",
   "execution_count": 42,
   "metadata": {},
   "outputs": [],
   "source": [
    "# preprocessing_data\n",
    "values = diagnoses_icd[diagnoses_icd['hadm_id'].isin(preprocessing_data_hadm_id_list)]['long_title'].value_counts()"
   ]
  },
  {
   "cell_type": "code",
   "execution_count": 43,
   "metadata": {},
   "outputs": [
    {
     "data": {
      "text/plain": [
       "Acute kidney failure, unspecified                                                                                1077\n",
       "Hyperlipidemia, unspecified                                                                                      1003\n",
       "Unspecified essential hypertension                                                                                993\n",
       "Acute posthemorrhagic anemia                                                                                      974\n",
       "Other and unspecified hyperlipidemia                                                                              891\n",
       "                                                                                                                 ... \n",
       "Coarctation of aorta                                                                                                1\n",
       "Malignant neoplasm of cerebrum, except lobes and ventricles                                                         1\n",
       "Acute sialoadenitis                                                                                                 1\n",
       "Other complications of obstetrical surgery and procedures, delivered, with mention of postpartum complication       1\n",
       "Follicular lymphoma grade IIIa, extranodal and solid organ sites                                                    1\n",
       "Name: long_title, Length: 5526, dtype: int64"
      ]
     },
     "execution_count": 43,
     "metadata": {},
     "output_type": "execute_result"
    }
   ],
   "source": [
    "values"
   ]
  },
  {
   "cell_type": "code",
   "execution_count": 325,
   "metadata": {},
   "outputs": [
    {
     "data": {
      "text/plain": [
       "787"
      ]
     },
     "execution_count": 325,
     "metadata": {},
     "output_type": "execute_result"
    },
    {
     "data": {
      "text/plain": [
       "0.18200740055504164"
      ]
     },
     "execution_count": 325,
     "metadata": {},
     "output_type": "execute_result"
    }
   ],
   "source": [
    "# Sepsis\n",
    "diagnoses_icd[diagnoses_icd['hadm_id'].isin(preprocessing_data_hadm_id_list)&(diagnoses_icd['long_title'].str.contains('sepsis', case=False))]['hadm_id'].nunique()\n",
    "diagnoses_icd[diagnoses_icd['hadm_id'].isin(preprocessing_data_hadm_id_list)&(diagnoses_icd['long_title'].str.contains('sepsis', case=False))]['hadm_id'].nunique()/ diagnoses_icd[diagnoses_icd['hadm_id'].isin(preprocessing_data_hadm_id_list)]['hadm_id'].nunique()"
   ]
  },
  {
   "cell_type": "code",
   "execution_count": 326,
   "metadata": {},
   "outputs": [
    {
     "data": {
      "text/plain": [
       "1137"
      ]
     },
     "execution_count": 326,
     "metadata": {},
     "output_type": "execute_result"
    },
    {
     "data": {
      "text/plain": [
       "0.2629509713228492"
      ]
     },
     "execution_count": 326,
     "metadata": {},
     "output_type": "execute_result"
    }
   ],
   "source": [
    "# Pneumonia\n",
    "diagnoses_icd[diagnoses_icd['hadm_id'].isin(preprocessing_data_hadm_id_list)&(diagnoses_icd['long_title'].str.contains('pneumonia', case=False))]['hadm_id'].nunique()\n",
    "diagnoses_icd[diagnoses_icd['hadm_id'].isin(preprocessing_data_hadm_id_list)&(diagnoses_icd['long_title'].str.contains('pneumonia', case=False))]['hadm_id'].nunique()/ diagnoses_icd[diagnoses_icd['hadm_id'].isin(preprocessing_data_hadm_id_list)]['hadm_id'].nunique()"
   ]
  },
  {
   "cell_type": "code",
   "execution_count": 328,
   "metadata": {},
   "outputs": [
    {
     "data": {
      "text/plain": [
       "2815"
      ]
     },
     "execution_count": 328,
     "metadata": {},
     "output_type": "execute_result"
    },
    {
     "data": {
      "text/plain": [
       "0.6510175763182239"
      ]
     },
     "execution_count": 328,
     "metadata": {},
     "output_type": "execute_result"
    }
   ],
   "source": [
    "# UTI\n",
    "diagnoses_icd[diagnoses_icd['hadm_id'].isin(preprocessing_data_hadm_id_list)&(diagnoses_icd['long_title'].str.contains(\"urinary tract infection\", case=False))| \\\n",
    "                                  (diagnoses_icd['long_title'].str.contains(\"pyelonephritis\", case=False))]['hadm_id'].nunique()\n",
    "diagnoses_icd[diagnoses_icd['hadm_id'].isin(preprocessing_data_hadm_id_list)&(diagnoses_icd['long_title'].str.contains(\"urinary tract infection\", case=False))| \\\n",
    "                                  (diagnoses_icd['long_title'].str.contains(\"pyelonephritis\", case=False))]['hadm_id'].nunique()/ diagnoses_icd[diagnoses_icd['hadm_id'].isin(preprocessing_data_hadm_id_list)]['hadm_id'].nunique()"
   ]
  },
  {
   "cell_type": "code",
   "execution_count": 117,
   "metadata": {},
   "outputs": [
    {
     "data": {
      "text/plain": [
       "Acute kidney failure, unspecified                                             0.014697\n",
       "Hyperlipidemia, unspecified                                                   0.012647\n",
       "Unspecified essential hypertension                                            0.012310\n",
       "Acute posthemorrhagic anemia                                                  0.011223\n",
       "Other and unspecified hyperlipidemia                                          0.010773\n",
       "                                                                                ...   \n",
       "Abnormality in fetal heart rate and rhythm complicating labor and delivery    0.000012\n",
       "Inflammatory disease of uterus, unspecified                                   0.000012\n",
       "Other diseases of pharynx                                                     0.000012\n",
       "Displacement of nephrostomy catheter, initial encounter                       0.000012\n",
       "Foreign body granuloma of muscle                                              0.000012\n",
       "Name: long_title, Length: 5486, dtype: float64"
      ]
     },
     "execution_count": 117,
     "metadata": {},
     "output_type": "execute_result"
    }
   ],
   "source": [
    "# hold_out_data\n",
    "diagnoses_icd[diagnoses_icd['hadm_id'].isin(hold_out_data_hadm_id_list)]['long_title'].value_counts(normalize=True)"
   ]
  },
  {
   "cell_type": "code",
   "execution_count": 324,
   "metadata": {},
   "outputs": [
    {
     "data": {
      "text/plain": [
       "849"
      ]
     },
     "execution_count": 324,
     "metadata": {},
     "output_type": "execute_result"
    },
    {
     "data": {
      "text/plain": [
       "0.1963459759481961"
      ]
     },
     "execution_count": 324,
     "metadata": {},
     "output_type": "execute_result"
    }
   ],
   "source": [
    "# Sepsis\n",
    "diagnoses_icd[diagnoses_icd['hadm_id'].isin(hold_out_data_hadm_id_list)&(diagnoses_icd['long_title'].str.contains('sepsis', case=False))]['hadm_id'].nunique()\n",
    "diagnoses_icd[diagnoses_icd['hadm_id'].isin(hold_out_data_hadm_id_list)&(diagnoses_icd['long_title'].str.contains('sepsis', case=False))]['hadm_id'].nunique()/ len(hold_out_data_hadm_id_list)"
   ]
  },
  {
   "cell_type": "code",
   "execution_count": 323,
   "metadata": {},
   "outputs": [
    {
     "data": {
      "text/plain": [
       "1151"
      ]
     },
     "execution_count": 323,
     "metadata": {},
     "output_type": "execute_result"
    },
    {
     "data": {
      "text/plain": [
       "0.2661887141535615"
      ]
     },
     "execution_count": 323,
     "metadata": {},
     "output_type": "execute_result"
    }
   ],
   "source": [
    "# Pneumonia\n",
    "diagnoses_icd[diagnoses_icd['hadm_id'].isin(hold_out_data_hadm_id_list)&(diagnoses_icd['long_title'].str.contains('pneumonia', case=False))]['hadm_id'].nunique()\n",
    "diagnoses_icd[diagnoses_icd['hadm_id'].isin(hold_out_data_hadm_id_list)&(diagnoses_icd['long_title'].str.contains('pneumonia', case=False))]['hadm_id'].nunique()/ len(hold_out_data_hadm_id_list)"
   ]
  },
  {
   "cell_type": "code",
   "execution_count": 327,
   "metadata": {},
   "outputs": [
    {
     "data": {
      "text/plain": [
       "2797"
      ]
     },
     "execution_count": 327,
     "metadata": {},
     "output_type": "execute_result"
    },
    {
     "data": {
      "text/plain": [
       "0.646854764107308"
      ]
     },
     "execution_count": 327,
     "metadata": {},
     "output_type": "execute_result"
    }
   ],
   "source": [
    "# UTI\n",
    "diagnoses_icd[(diagnoses_icd['hadm_id'].isin(hold_out_data_hadm_id_list))&(diagnoses_icd['long_title'].str.contains(\"urinary tract infection\", case=False))| \\\n",
    "                                  (diagnoses_icd['long_title'].str.contains(\"pyelonephritis\", case=False))]['hadm_id'].nunique()\n",
    "diagnoses_icd[(diagnoses_icd['hadm_id'].isin(hold_out_data_hadm_id_list))&(diagnoses_icd['long_title'].str.contains(\"urinary tract infection\", case=False))| \\\n",
    "                                  (diagnoses_icd['long_title'].str.contains(\"pyelonephritis\", case=False))]['hadm_id'].nunique()/ len(hold_out_data_hadm_id_list)"
   ]
  },
  {
   "attachments": {},
   "cell_type": "markdown",
   "metadata": {},
   "source": [
    "## Organism"
   ]
  },
  {
   "cell_type": "code",
   "execution_count": null,
   "metadata": {},
   "outputs": [],
   "source": [
    "# Import microbiologyevents\n",
    "microbiologyevents = pd.read_csv(r\"mimic-iv-2.0/hosp/microbiologyevents.csv\")"
   ]
  },
  {
   "cell_type": "code",
   "execution_count": 119,
   "metadata": {},
   "outputs": [
    {
     "data": {
      "text/html": [
       "<div>\n",
       "<style scoped>\n",
       "    .dataframe tbody tr th:only-of-type {\n",
       "        vertical-align: middle;\n",
       "    }\n",
       "\n",
       "    .dataframe tbody tr th {\n",
       "        vertical-align: top;\n",
       "    }\n",
       "\n",
       "    .dataframe thead th {\n",
       "        text-align: right;\n",
       "    }\n",
       "</style>\n",
       "<table border=\"1\" class=\"dataframe\">\n",
       "  <thead>\n",
       "    <tr style=\"text-align: right;\">\n",
       "      <th></th>\n",
       "      <th>microevent_id</th>\n",
       "      <th>subject_id</th>\n",
       "      <th>hadm_id</th>\n",
       "      <th>micro_specimen_id</th>\n",
       "      <th>chartdate</th>\n",
       "      <th>charttime</th>\n",
       "      <th>spec_itemid</th>\n",
       "      <th>spec_type_desc</th>\n",
       "      <th>test_seq</th>\n",
       "      <th>storedate</th>\n",
       "      <th>...</th>\n",
       "      <th>org_name</th>\n",
       "      <th>isolate_num</th>\n",
       "      <th>quantity</th>\n",
       "      <th>ab_itemid</th>\n",
       "      <th>ab_name</th>\n",
       "      <th>dilution_text</th>\n",
       "      <th>dilution_comparison</th>\n",
       "      <th>dilution_value</th>\n",
       "      <th>interpretation</th>\n",
       "      <th>comments</th>\n",
       "    </tr>\n",
       "  </thead>\n",
       "  <tbody>\n",
       "    <tr>\n",
       "      <th>0</th>\n",
       "      <td>1</td>\n",
       "      <td>10000032</td>\n",
       "      <td>NaN</td>\n",
       "      <td>636109</td>\n",
       "      <td>2180-03-23 00:00:00</td>\n",
       "      <td>2180-03-23 11:51:00</td>\n",
       "      <td>70093</td>\n",
       "      <td>Blood (Toxo)</td>\n",
       "      <td>1</td>\n",
       "      <td>2180-03-26 00:00:00</td>\n",
       "      <td>...</td>\n",
       "      <td>NaN</td>\n",
       "      <td>NaN</td>\n",
       "      <td>NaN</td>\n",
       "      <td>NaN</td>\n",
       "      <td>NaN</td>\n",
       "      <td>NaN</td>\n",
       "      <td>NaN</td>\n",
       "      <td>NaN</td>\n",
       "      <td>NaN</td>\n",
       "      <td>NEGATIVE FOR TOXOPLASMA IgG ANTIBODY BY EIA.  ...</td>\n",
       "    </tr>\n",
       "    <tr>\n",
       "      <th>1</th>\n",
       "      <td>2</td>\n",
       "      <td>10000032</td>\n",
       "      <td>NaN</td>\n",
       "      <td>1836584</td>\n",
       "      <td>2180-03-23 00:00:00</td>\n",
       "      <td>2180-03-23 11:51:00</td>\n",
       "      <td>70017</td>\n",
       "      <td>SEROLOGY/BLOOD</td>\n",
       "      <td>1</td>\n",
       "      <td>2180-03-24 00:00:00</td>\n",
       "      <td>...</td>\n",
       "      <td>NaN</td>\n",
       "      <td>NaN</td>\n",
       "      <td>NaN</td>\n",
       "      <td>NaN</td>\n",
       "      <td>NaN</td>\n",
       "      <td>NaN</td>\n",
       "      <td>NaN</td>\n",
       "      <td>NaN</td>\n",
       "      <td>NaN</td>\n",
       "      <td>POSITIVE BY EIA.  A positive IgG result genera...</td>\n",
       "    </tr>\n",
       "    <tr>\n",
       "      <th>2</th>\n",
       "      <td>3</td>\n",
       "      <td>10000032</td>\n",
       "      <td>NaN</td>\n",
       "      <td>4131591</td>\n",
       "      <td>2180-03-23 00:00:00</td>\n",
       "      <td>2180-03-23 11:51:00</td>\n",
       "      <td>70087</td>\n",
       "      <td>Blood (CMV AB)</td>\n",
       "      <td>1</td>\n",
       "      <td>2180-03-26 00:00:00</td>\n",
       "      <td>...</td>\n",
       "      <td>NaN</td>\n",
       "      <td>NaN</td>\n",
       "      <td>NaN</td>\n",
       "      <td>NaN</td>\n",
       "      <td>NaN</td>\n",
       "      <td>NaN</td>\n",
       "      <td>NaN</td>\n",
       "      <td>NaN</td>\n",
       "      <td>NaN</td>\n",
       "      <td>___</td>\n",
       "    </tr>\n",
       "    <tr>\n",
       "      <th>3</th>\n",
       "      <td>4</td>\n",
       "      <td>10000032</td>\n",
       "      <td>NaN</td>\n",
       "      <td>4131591</td>\n",
       "      <td>2180-03-23 00:00:00</td>\n",
       "      <td>2180-03-23 11:51:00</td>\n",
       "      <td>70087</td>\n",
       "      <td>Blood (CMV AB)</td>\n",
       "      <td>2</td>\n",
       "      <td>2180-03-26 00:00:00</td>\n",
       "      <td>...</td>\n",
       "      <td>NaN</td>\n",
       "      <td>NaN</td>\n",
       "      <td>NaN</td>\n",
       "      <td>NaN</td>\n",
       "      <td>NaN</td>\n",
       "      <td>NaN</td>\n",
       "      <td>NaN</td>\n",
       "      <td>NaN</td>\n",
       "      <td>NaN</td>\n",
       "      <td>NEGATIVE FOR CMV IgM ANTIBODY BY EIA.  INTERPR...</td>\n",
       "    </tr>\n",
       "    <tr>\n",
       "      <th>4</th>\n",
       "      <td>5</td>\n",
       "      <td>10000032</td>\n",
       "      <td>NaN</td>\n",
       "      <td>6028147</td>\n",
       "      <td>2180-03-23 00:00:00</td>\n",
       "      <td>2180-03-23 11:51:00</td>\n",
       "      <td>70088</td>\n",
       "      <td>Blood (EBV)</td>\n",
       "      <td>1</td>\n",
       "      <td>2180-03-25 00:00:00</td>\n",
       "      <td>...</td>\n",
       "      <td>NaN</td>\n",
       "      <td>NaN</td>\n",
       "      <td>NaN</td>\n",
       "      <td>NaN</td>\n",
       "      <td>NaN</td>\n",
       "      <td>NaN</td>\n",
       "      <td>NaN</td>\n",
       "      <td>NaN</td>\n",
       "      <td>NaN</td>\n",
       "      <td>POSITIVE BY EIA.</td>\n",
       "    </tr>\n",
       "    <tr>\n",
       "      <th>...</th>\n",
       "      <td>...</td>\n",
       "      <td>...</td>\n",
       "      <td>...</td>\n",
       "      <td>...</td>\n",
       "      <td>...</td>\n",
       "      <td>...</td>\n",
       "      <td>...</td>\n",
       "      <td>...</td>\n",
       "      <td>...</td>\n",
       "      <td>...</td>\n",
       "      <td>...</td>\n",
       "      <td>...</td>\n",
       "      <td>...</td>\n",
       "      <td>...</td>\n",
       "      <td>...</td>\n",
       "      <td>...</td>\n",
       "      <td>...</td>\n",
       "      <td>...</td>\n",
       "      <td>...</td>\n",
       "      <td>...</td>\n",
       "      <td>...</td>\n",
       "    </tr>\n",
       "    <tr>\n",
       "      <th>3395224</th>\n",
       "      <td>3395225</td>\n",
       "      <td>19999987</td>\n",
       "      <td>23865745.0</td>\n",
       "      <td>9008390</td>\n",
       "      <td>2145-11-05 00:00:00</td>\n",
       "      <td>2145-11-05 10:35:00</td>\n",
       "      <td>70012</td>\n",
       "      <td>BLOOD CULTURE</td>\n",
       "      <td>1</td>\n",
       "      <td>2145-11-11 00:00:00</td>\n",
       "      <td>...</td>\n",
       "      <td>NaN</td>\n",
       "      <td>NaN</td>\n",
       "      <td>NaN</td>\n",
       "      <td>NaN</td>\n",
       "      <td>NaN</td>\n",
       "      <td>NaN</td>\n",
       "      <td>NaN</td>\n",
       "      <td>NaN</td>\n",
       "      <td>NaN</td>\n",
       "      <td>NO GROWTH.</td>\n",
       "    </tr>\n",
       "    <tr>\n",
       "      <th>3395225</th>\n",
       "      <td>3395226</td>\n",
       "      <td>19999987</td>\n",
       "      <td>23865745.0</td>\n",
       "      <td>3162785</td>\n",
       "      <td>2145-11-05 00:00:00</td>\n",
       "      <td>2145-11-05 12:15:00</td>\n",
       "      <td>70012</td>\n",
       "      <td>BLOOD CULTURE</td>\n",
       "      <td>1</td>\n",
       "      <td>2145-11-11 00:00:00</td>\n",
       "      <td>...</td>\n",
       "      <td>NaN</td>\n",
       "      <td>NaN</td>\n",
       "      <td>NaN</td>\n",
       "      <td>NaN</td>\n",
       "      <td>NaN</td>\n",
       "      <td>NaN</td>\n",
       "      <td>NaN</td>\n",
       "      <td>NaN</td>\n",
       "      <td>NaN</td>\n",
       "      <td>NO GROWTH.</td>\n",
       "    </tr>\n",
       "    <tr>\n",
       "      <th>3395226</th>\n",
       "      <td>3395227</td>\n",
       "      <td>19999987</td>\n",
       "      <td>23865745.0</td>\n",
       "      <td>5530834</td>\n",
       "      <td>2145-11-06 00:00:00</td>\n",
       "      <td>2145-11-06 13:15:00</td>\n",
       "      <td>70012</td>\n",
       "      <td>BLOOD CULTURE</td>\n",
       "      <td>1</td>\n",
       "      <td>2145-11-12 00:00:00</td>\n",
       "      <td>...</td>\n",
       "      <td>NaN</td>\n",
       "      <td>NaN</td>\n",
       "      <td>NaN</td>\n",
       "      <td>NaN</td>\n",
       "      <td>NaN</td>\n",
       "      <td>NaN</td>\n",
       "      <td>NaN</td>\n",
       "      <td>NaN</td>\n",
       "      <td>NaN</td>\n",
       "      <td>NO GROWTH.</td>\n",
       "    </tr>\n",
       "    <tr>\n",
       "      <th>3395227</th>\n",
       "      <td>3395228</td>\n",
       "      <td>19999987</td>\n",
       "      <td>23865745.0</td>\n",
       "      <td>8701158</td>\n",
       "      <td>2145-11-06 00:00:00</td>\n",
       "      <td>2145-11-06 17:05:00</td>\n",
       "      <td>70012</td>\n",
       "      <td>BLOOD CULTURE</td>\n",
       "      <td>1</td>\n",
       "      <td>2145-11-12 00:00:00</td>\n",
       "      <td>...</td>\n",
       "      <td>NaN</td>\n",
       "      <td>NaN</td>\n",
       "      <td>NaN</td>\n",
       "      <td>NaN</td>\n",
       "      <td>NaN</td>\n",
       "      <td>NaN</td>\n",
       "      <td>NaN</td>\n",
       "      <td>NaN</td>\n",
       "      <td>NaN</td>\n",
       "      <td>NO GROWTH.</td>\n",
       "    </tr>\n",
       "    <tr>\n",
       "      <th>3395228</th>\n",
       "      <td>3395229</td>\n",
       "      <td>19999987</td>\n",
       "      <td>23865745.0</td>\n",
       "      <td>3220728</td>\n",
       "      <td>2145-11-07 00:00:00</td>\n",
       "      <td>2145-11-07 06:00:00</td>\n",
       "      <td>70012</td>\n",
       "      <td>BLOOD CULTURE</td>\n",
       "      <td>1</td>\n",
       "      <td>2145-11-13 00:00:00</td>\n",
       "      <td>...</td>\n",
       "      <td>NaN</td>\n",
       "      <td>NaN</td>\n",
       "      <td>NaN</td>\n",
       "      <td>NaN</td>\n",
       "      <td>NaN</td>\n",
       "      <td>NaN</td>\n",
       "      <td>NaN</td>\n",
       "      <td>NaN</td>\n",
       "      <td>NaN</td>\n",
       "      <td>NO GROWTH.</td>\n",
       "    </tr>\n",
       "  </tbody>\n",
       "</table>\n",
       "<p>3395229 rows × 24 columns</p>\n",
       "</div>"
      ],
      "text/plain": [
       "         microevent_id  subject_id     hadm_id  micro_specimen_id  \\\n",
       "0                    1    10000032         NaN             636109   \n",
       "1                    2    10000032         NaN            1836584   \n",
       "2                    3    10000032         NaN            4131591   \n",
       "3                    4    10000032         NaN            4131591   \n",
       "4                    5    10000032         NaN            6028147   \n",
       "...                ...         ...         ...                ...   \n",
       "3395224        3395225    19999987  23865745.0            9008390   \n",
       "3395225        3395226    19999987  23865745.0            3162785   \n",
       "3395226        3395227    19999987  23865745.0            5530834   \n",
       "3395227        3395228    19999987  23865745.0            8701158   \n",
       "3395228        3395229    19999987  23865745.0            3220728   \n",
       "\n",
       "                   chartdate            charttime  spec_itemid  \\\n",
       "0        2180-03-23 00:00:00  2180-03-23 11:51:00        70093   \n",
       "1        2180-03-23 00:00:00  2180-03-23 11:51:00        70017   \n",
       "2        2180-03-23 00:00:00  2180-03-23 11:51:00        70087   \n",
       "3        2180-03-23 00:00:00  2180-03-23 11:51:00        70087   \n",
       "4        2180-03-23 00:00:00  2180-03-23 11:51:00        70088   \n",
       "...                      ...                  ...          ...   \n",
       "3395224  2145-11-05 00:00:00  2145-11-05 10:35:00        70012   \n",
       "3395225  2145-11-05 00:00:00  2145-11-05 12:15:00        70012   \n",
       "3395226  2145-11-06 00:00:00  2145-11-06 13:15:00        70012   \n",
       "3395227  2145-11-06 00:00:00  2145-11-06 17:05:00        70012   \n",
       "3395228  2145-11-07 00:00:00  2145-11-07 06:00:00        70012   \n",
       "\n",
       "         spec_type_desc  test_seq            storedate  ... org_name  \\\n",
       "0          Blood (Toxo)         1  2180-03-26 00:00:00  ...      NaN   \n",
       "1        SEROLOGY/BLOOD         1  2180-03-24 00:00:00  ...      NaN   \n",
       "2        Blood (CMV AB)         1  2180-03-26 00:00:00  ...      NaN   \n",
       "3        Blood (CMV AB)         2  2180-03-26 00:00:00  ...      NaN   \n",
       "4           Blood (EBV)         1  2180-03-25 00:00:00  ...      NaN   \n",
       "...                 ...       ...                  ...  ...      ...   \n",
       "3395224   BLOOD CULTURE         1  2145-11-11 00:00:00  ...      NaN   \n",
       "3395225   BLOOD CULTURE         1  2145-11-11 00:00:00  ...      NaN   \n",
       "3395226   BLOOD CULTURE         1  2145-11-12 00:00:00  ...      NaN   \n",
       "3395227   BLOOD CULTURE         1  2145-11-12 00:00:00  ...      NaN   \n",
       "3395228   BLOOD CULTURE         1  2145-11-13 00:00:00  ...      NaN   \n",
       "\n",
       "         isolate_num quantity  ab_itemid ab_name  dilution_text  \\\n",
       "0                NaN      NaN        NaN     NaN            NaN   \n",
       "1                NaN      NaN        NaN     NaN            NaN   \n",
       "2                NaN      NaN        NaN     NaN            NaN   \n",
       "3                NaN      NaN        NaN     NaN            NaN   \n",
       "4                NaN      NaN        NaN     NaN            NaN   \n",
       "...              ...      ...        ...     ...            ...   \n",
       "3395224          NaN      NaN        NaN     NaN            NaN   \n",
       "3395225          NaN      NaN        NaN     NaN            NaN   \n",
       "3395226          NaN      NaN        NaN     NaN            NaN   \n",
       "3395227          NaN      NaN        NaN     NaN            NaN   \n",
       "3395228          NaN      NaN        NaN     NaN            NaN   \n",
       "\n",
       "        dilution_comparison  dilution_value interpretation  \\\n",
       "0                       NaN             NaN            NaN   \n",
       "1                       NaN             NaN            NaN   \n",
       "2                       NaN             NaN            NaN   \n",
       "3                       NaN             NaN            NaN   \n",
       "4                       NaN             NaN            NaN   \n",
       "...                     ...             ...            ...   \n",
       "3395224                 NaN             NaN            NaN   \n",
       "3395225                 NaN             NaN            NaN   \n",
       "3395226                 NaN             NaN            NaN   \n",
       "3395227                 NaN             NaN            NaN   \n",
       "3395228                 NaN             NaN            NaN   \n",
       "\n",
       "                                                  comments  \n",
       "0        NEGATIVE FOR TOXOPLASMA IgG ANTIBODY BY EIA.  ...  \n",
       "1        POSITIVE BY EIA.  A positive IgG result genera...  \n",
       "2                                                      ___  \n",
       "3        NEGATIVE FOR CMV IgM ANTIBODY BY EIA.  INTERPR...  \n",
       "4                                       POSITIVE BY EIA.    \n",
       "...                                                    ...  \n",
       "3395224                                       NO GROWTH.    \n",
       "3395225                                       NO GROWTH.    \n",
       "3395226                                       NO GROWTH.    \n",
       "3395227                                       NO GROWTH.    \n",
       "3395228                                       NO GROWTH.    \n",
       "\n",
       "[3395229 rows x 24 columns]"
      ]
     },
     "execution_count": 119,
     "metadata": {},
     "output_type": "execute_result"
    }
   ],
   "source": [
    "microbiologyevents"
   ]
  },
  {
   "cell_type": "code",
   "execution_count": 269,
   "metadata": {},
   "outputs": [
    {
     "data": {
      "text/plain": [
       "4324"
      ]
     },
     "execution_count": 269,
     "metadata": {},
     "output_type": "execute_result"
    },
    {
     "data": {
      "text/plain": [
       "3976"
      ]
     },
     "execution_count": 269,
     "metadata": {},
     "output_type": "execute_result"
    }
   ],
   "source": [
    "len(preprocessing_data_hadm_id_list)\n",
    "microbiologyevents[microbiologyevents['hadm_id'].isin(preprocessing_data_hadm_id_list)]['hadm_id'].nunique()"
   ]
  },
  {
   "cell_type": "code",
   "execution_count": 132,
   "metadata": {},
   "outputs": [
    {
     "data": {
      "text/plain": [
       "ESCHERICHIA COLI                                           0.068603\n",
       "STAPH AUREUS COAG +                                        0.066934\n",
       "KLEBSIELLA PNEUMONIAE                                      0.028395\n",
       "PSEUDOMONAS AERUGINOSA                                     0.022304\n",
       "YEAST                                                      0.018749\n",
       "                                                             ...   \n",
       "NEISSERIA SUBFLAVA                                         0.000022\n",
       "PROPIONIBACTERIUM SPECIES                                  0.000022\n",
       "PRESUMPTIVE POSITIVE FOR LEGIONELLA SEROGROUP 1 ANTIGEN    0.000022\n",
       "INFLUENZA B VIRUS                                          0.000022\n",
       "GEMELLA SPECIES                                            0.000022\n",
       "Name: org_name, Length: 177, dtype: float64"
      ]
     },
     "execution_count": 132,
     "metadata": {},
     "output_type": "execute_result"
    },
    {
     "data": {
      "text/plain": [
       "0.6723962284599545"
      ]
     },
     "execution_count": 132,
     "metadata": {},
     "output_type": "execute_result"
    }
   ],
   "source": [
    "# preprocessing_data\n",
    "microbiologyevents[microbiologyevents['hadm_id'].isin(preprocessing_data_hadm_id_list)]['org_name'].value_counts() / len(microbiologyevents[(microbiologyevents['hadm_id'].isin(preprocessing_data_hadm_id_list))])\n",
    "#len(microbiologyevents[(microbiologyevents['hadm_id'].isin(preprocessing_data_hadm_id_list))])\n",
    "#3165 / len(microbiologyevents[(microbiologyevents['hadm_id'].isin(preprocessing_data_hadm_id_list))])\n",
    "\n",
    "# Number with no growth\n",
    "len(microbiologyevents[(microbiologyevents['hadm_id'].isin(preprocessing_data_hadm_id_list))&(microbiologyevents['org_name'].isna())]) / len(microbiologyevents[(microbiologyevents['hadm_id'].isin(preprocessing_data_hadm_id_list))])"
   ]
  },
  {
   "cell_type": "code",
   "execution_count": 2,
   "metadata": {},
   "outputs": [
    {
     "data": {
      "text/plain": [
       "0.3276037715400455"
      ]
     },
     "execution_count": 2,
     "metadata": {},
     "output_type": "execute_result"
    }
   ],
   "source": [
    "1 - 0.6723962284599545"
   ]
  },
  {
   "cell_type": "code",
   "execution_count": 131,
   "metadata": {},
   "outputs": [
    {
     "data": {
      "text/plain": [
       "1.0"
      ]
     },
     "execution_count": 131,
     "metadata": {},
     "output_type": "execute_result"
    }
   ],
   "source": [
    "# Check sums to one\n",
    "(microbiologyevents[microbiologyevents['hadm_id'].isin(preprocessing_data_hadm_id_list)]['org_name'].value_counts() / len(microbiologyevents[(microbiologyevents['hadm_id'].isin(preprocessing_data_hadm_id_list))])).sum() + len(microbiologyevents[(microbiologyevents['hadm_id'].isin(preprocessing_data_hadm_id_list))&(microbiologyevents['org_name'].isna())]) / len(microbiologyevents[(microbiologyevents['hadm_id'].isin(preprocessing_data_hadm_id_list))])"
   ]
  },
  {
   "cell_type": "code",
   "execution_count": 133,
   "metadata": {},
   "outputs": [
    {
     "data": {
      "text/plain": [
       "STAPH AUREUS COAG +                  0.073341\n",
       "ESCHERICHIA COLI                     0.065078\n",
       "KLEBSIELLA PNEUMONIAE                0.027828\n",
       "PSEUDOMONAS AERUGINOSA               0.022822\n",
       "YEAST                                0.016067\n",
       "                                       ...   \n",
       "PARAINFLUENZA VIRUS TYPE 2           0.000022\n",
       "CANDIDA LUSITANIAE                   0.000022\n",
       "CYTOMEGALOVIRUS                      0.000022\n",
       "ASPERGILLUS VERSICOLOR GROUP         0.000022\n",
       "RESPIRATORY SYNCYTIAL VIRUS (RSV)    0.000022\n",
       "Name: org_name, Length: 166, dtype: float64"
      ]
     },
     "execution_count": 133,
     "metadata": {},
     "output_type": "execute_result"
    },
    {
     "data": {
      "text/plain": [
       "0.6692316100120231"
      ]
     },
     "execution_count": 133,
     "metadata": {},
     "output_type": "execute_result"
    }
   ],
   "source": [
    "# hold_out_data\n",
    "microbiologyevents[microbiologyevents['hadm_id'].isin(hold_out_data_hadm_id_list)]['org_name'].value_counts() / len(microbiologyevents[(microbiologyevents['hadm_id'].isin(hold_out_data_hadm_id_list))])\n",
    "\n",
    "# Number with no growth\n",
    "len(microbiologyevents[(microbiologyevents['hadm_id'].isin(hold_out_data_hadm_id_list))&(microbiologyevents['org_name'].isna())]) / len(microbiologyevents[(microbiologyevents['hadm_id'].isin(hold_out_data_hadm_id_list))])"
   ]
  },
  {
   "cell_type": "code",
   "execution_count": 1,
   "metadata": {},
   "outputs": [
    {
     "data": {
      "text/plain": [
       "0.33076838998797686"
      ]
     },
     "execution_count": 1,
     "metadata": {},
     "output_type": "execute_result"
    }
   ],
   "source": [
    "1 - 0.6692316100120231"
   ]
  },
  {
   "attachments": {},
   "cell_type": "markdown",
   "metadata": {},
   "source": [
    "# eICU"
   ]
  },
  {
   "cell_type": "code",
   "execution_count": 145,
   "metadata": {},
   "outputs": [],
   "source": [
    "# get list \n",
    "eicu_data_list = eicu_data.stay_id.unique().tolist()"
   ]
  },
  {
   "cell_type": "code",
   "execution_count": 146,
   "metadata": {},
   "outputs": [],
   "source": [
    "# Import\n",
    "patient = pd.read_csv(r\"eicu-collaborative-research-database-2.0/patient.csv\")\n",
    "patient.rename(columns={'patientunitstayid': 'stay_id'}, inplace=True)\n",
    "patient = patient[patient['stay_id'].isin(eicu_data_list)]"
   ]
  },
  {
   "cell_type": "code",
   "execution_count": 147,
   "metadata": {},
   "outputs": [
    {
     "data": {
      "text/html": [
       "<div>\n",
       "<style scoped>\n",
       "    .dataframe tbody tr th:only-of-type {\n",
       "        vertical-align: middle;\n",
       "    }\n",
       "\n",
       "    .dataframe tbody tr th {\n",
       "        vertical-align: top;\n",
       "    }\n",
       "\n",
       "    .dataframe thead th {\n",
       "        text-align: right;\n",
       "    }\n",
       "</style>\n",
       "<table border=\"1\" class=\"dataframe\">\n",
       "  <thead>\n",
       "    <tr style=\"text-align: right;\">\n",
       "      <th></th>\n",
       "      <th>stay_id</th>\n",
       "      <th>patienthealthsystemstayid</th>\n",
       "      <th>gender</th>\n",
       "      <th>age</th>\n",
       "      <th>ethnicity</th>\n",
       "      <th>hospitalid</th>\n",
       "      <th>wardid</th>\n",
       "      <th>apacheadmissiondx</th>\n",
       "      <th>admissionheight</th>\n",
       "      <th>hospitaladmittime24</th>\n",
       "      <th>...</th>\n",
       "      <th>unitadmitsource</th>\n",
       "      <th>unitvisitnumber</th>\n",
       "      <th>unitstaytype</th>\n",
       "      <th>admissionweight</th>\n",
       "      <th>dischargeweight</th>\n",
       "      <th>unitdischargetime24</th>\n",
       "      <th>unitdischargeoffset</th>\n",
       "      <th>unitdischargelocation</th>\n",
       "      <th>unitdischargestatus</th>\n",
       "      <th>uniquepid</th>\n",
       "    </tr>\n",
       "  </thead>\n",
       "  <tbody>\n",
       "    <tr>\n",
       "      <th>4</th>\n",
       "      <td>141196</td>\n",
       "      <td>128943</td>\n",
       "      <td>Male</td>\n",
       "      <td>71</td>\n",
       "      <td>Caucasian</td>\n",
       "      <td>67</td>\n",
       "      <td>109</td>\n",
       "      <td>NaN</td>\n",
       "      <td>162.6</td>\n",
       "      <td>20:21:00</td>\n",
       "      <td>...</td>\n",
       "      <td>ICU to SDU</td>\n",
       "      <td>2</td>\n",
       "      <td>stepdown/other</td>\n",
       "      <td>NaN</td>\n",
       "      <td>63.20</td>\n",
       "      <td>22:23:00</td>\n",
       "      <td>1463</td>\n",
       "      <td>Floor</td>\n",
       "      <td>Alive</td>\n",
       "      <td>002-37665</td>\n",
       "    </tr>\n",
       "    <tr>\n",
       "      <th>34</th>\n",
       "      <td>141392</td>\n",
       "      <td>129109</td>\n",
       "      <td>Female</td>\n",
       "      <td>78</td>\n",
       "      <td>Caucasian</td>\n",
       "      <td>73</td>\n",
       "      <td>97</td>\n",
       "      <td>Sepsis, renal/UTI (including bladder)</td>\n",
       "      <td>160.0</td>\n",
       "      <td>08:32:00</td>\n",
       "      <td>...</td>\n",
       "      <td>Emergency Department</td>\n",
       "      <td>1</td>\n",
       "      <td>admit</td>\n",
       "      <td>NaN</td>\n",
       "      <td>85.20</td>\n",
       "      <td>00:34:00</td>\n",
       "      <td>961</td>\n",
       "      <td>Floor</td>\n",
       "      <td>Alive</td>\n",
       "      <td>002-49989</td>\n",
       "    </tr>\n",
       "    <tr>\n",
       "      <th>43</th>\n",
       "      <td>141470</td>\n",
       "      <td>129172</td>\n",
       "      <td>Female</td>\n",
       "      <td>58</td>\n",
       "      <td>Caucasian</td>\n",
       "      <td>66</td>\n",
       "      <td>90</td>\n",
       "      <td>Obstruction/other, surgery for (with or withou...</td>\n",
       "      <td>162.6</td>\n",
       "      <td>07:23:00</td>\n",
       "      <td>...</td>\n",
       "      <td>Operating Room</td>\n",
       "      <td>1</td>\n",
       "      <td>admit</td>\n",
       "      <td>NaN</td>\n",
       "      <td>108.60</td>\n",
       "      <td>21:19:00</td>\n",
       "      <td>831</td>\n",
       "      <td>Floor</td>\n",
       "      <td>Alive</td>\n",
       "      <td>002-56630</td>\n",
       "    </tr>\n",
       "    <tr>\n",
       "      <th>165</th>\n",
       "      <td>142405</td>\n",
       "      <td>129878</td>\n",
       "      <td>Female</td>\n",
       "      <td>52</td>\n",
       "      <td>Asian</td>\n",
       "      <td>63</td>\n",
       "      <td>95</td>\n",
       "      <td>Respiratory - medical, other</td>\n",
       "      <td>NaN</td>\n",
       "      <td>09:45:00</td>\n",
       "      <td>...</td>\n",
       "      <td>Emergency Department</td>\n",
       "      <td>1</td>\n",
       "      <td>admit</td>\n",
       "      <td>NaN</td>\n",
       "      <td>55.10</td>\n",
       "      <td>23:08:00</td>\n",
       "      <td>795</td>\n",
       "      <td>Floor</td>\n",
       "      <td>Alive</td>\n",
       "      <td>002-47719</td>\n",
       "    </tr>\n",
       "    <tr>\n",
       "      <th>258</th>\n",
       "      <td>143068</td>\n",
       "      <td>130383</td>\n",
       "      <td>Male</td>\n",
       "      <td>64</td>\n",
       "      <td>Caucasian</td>\n",
       "      <td>73</td>\n",
       "      <td>92</td>\n",
       "      <td>Heart transplant</td>\n",
       "      <td>170.0</td>\n",
       "      <td>19:57:00</td>\n",
       "      <td>...</td>\n",
       "      <td>Operating Room</td>\n",
       "      <td>1</td>\n",
       "      <td>admit</td>\n",
       "      <td>103.9</td>\n",
       "      <td>106.70</td>\n",
       "      <td>18:35:00</td>\n",
       "      <td>3602</td>\n",
       "      <td>Floor</td>\n",
       "      <td>Alive</td>\n",
       "      <td>002-72540</td>\n",
       "    </tr>\n",
       "    <tr>\n",
       "      <th>...</th>\n",
       "      <td>...</td>\n",
       "      <td>...</td>\n",
       "      <td>...</td>\n",
       "      <td>...</td>\n",
       "      <td>...</td>\n",
       "      <td>...</td>\n",
       "      <td>...</td>\n",
       "      <td>...</td>\n",
       "      <td>...</td>\n",
       "      <td>...</td>\n",
       "      <td>...</td>\n",
       "      <td>...</td>\n",
       "      <td>...</td>\n",
       "      <td>...</td>\n",
       "      <td>...</td>\n",
       "      <td>...</td>\n",
       "      <td>...</td>\n",
       "      <td>...</td>\n",
       "      <td>...</td>\n",
       "      <td>...</td>\n",
       "      <td>...</td>\n",
       "    </tr>\n",
       "    <tr>\n",
       "      <th>196543</th>\n",
       "      <td>3247135</td>\n",
       "      <td>2647037</td>\n",
       "      <td>Female</td>\n",
       "      <td>87</td>\n",
       "      <td>Caucasian</td>\n",
       "      <td>449</td>\n",
       "      <td>1082</td>\n",
       "      <td>Bleeding, lower GI</td>\n",
       "      <td>157.5</td>\n",
       "      <td>14:16:24</td>\n",
       "      <td>...</td>\n",
       "      <td>Other ICU</td>\n",
       "      <td>1</td>\n",
       "      <td>admit</td>\n",
       "      <td>41.8</td>\n",
       "      <td>64.41</td>\n",
       "      <td>18:03:00</td>\n",
       "      <td>5703</td>\n",
       "      <td>Floor</td>\n",
       "      <td>Alive</td>\n",
       "      <td>033-4795</td>\n",
       "    </tr>\n",
       "    <tr>\n",
       "      <th>198023</th>\n",
       "      <td>3335807</td>\n",
       "      <td>2727344</td>\n",
       "      <td>Female</td>\n",
       "      <td>23</td>\n",
       "      <td>African American</td>\n",
       "      <td>459</td>\n",
       "      <td>1108</td>\n",
       "      <td>Asthma</td>\n",
       "      <td>175.3</td>\n",
       "      <td>11:34:00</td>\n",
       "      <td>...</td>\n",
       "      <td>Emergency Department</td>\n",
       "      <td>1</td>\n",
       "      <td>admit</td>\n",
       "      <td>98.2</td>\n",
       "      <td>95.25</td>\n",
       "      <td>16:06:00</td>\n",
       "      <td>190</td>\n",
       "      <td>Telemetry</td>\n",
       "      <td>Alive</td>\n",
       "      <td>035-2456</td>\n",
       "    </tr>\n",
       "    <tr>\n",
       "      <th>198834</th>\n",
       "      <td>3340875</td>\n",
       "      <td>2731924</td>\n",
       "      <td>Female</td>\n",
       "      <td>70</td>\n",
       "      <td>African American</td>\n",
       "      <td>458</td>\n",
       "      <td>1109</td>\n",
       "      <td>Emphysema/bronchitis</td>\n",
       "      <td>168.8</td>\n",
       "      <td>19:50:00</td>\n",
       "      <td>...</td>\n",
       "      <td>Emergency Department</td>\n",
       "      <td>1</td>\n",
       "      <td>admit</td>\n",
       "      <td>67.4</td>\n",
       "      <td>67.50</td>\n",
       "      <td>18:49:00</td>\n",
       "      <td>2595</td>\n",
       "      <td>Telemetry</td>\n",
       "      <td>Alive</td>\n",
       "      <td>035-2884</td>\n",
       "    </tr>\n",
       "    <tr>\n",
       "      <th>198883</th>\n",
       "      <td>3341168</td>\n",
       "      <td>2732192</td>\n",
       "      <td>Male</td>\n",
       "      <td>61</td>\n",
       "      <td>African American</td>\n",
       "      <td>459</td>\n",
       "      <td>1108</td>\n",
       "      <td>Sepsis, pulmonary</td>\n",
       "      <td>180.3</td>\n",
       "      <td>22:36:00</td>\n",
       "      <td>...</td>\n",
       "      <td>Emergency Department</td>\n",
       "      <td>1</td>\n",
       "      <td>admit</td>\n",
       "      <td>87.6</td>\n",
       "      <td>84.10</td>\n",
       "      <td>19:03:00</td>\n",
       "      <td>2591</td>\n",
       "      <td>Telemetry</td>\n",
       "      <td>Alive</td>\n",
       "      <td>035-10304</td>\n",
       "    </tr>\n",
       "    <tr>\n",
       "      <th>199794</th>\n",
       "      <td>3346897</td>\n",
       "      <td>2737394</td>\n",
       "      <td>Male</td>\n",
       "      <td>58</td>\n",
       "      <td>Caucasian</td>\n",
       "      <td>458</td>\n",
       "      <td>1109</td>\n",
       "      <td>Sepsis, cutaneous/soft tissue</td>\n",
       "      <td>182.9</td>\n",
       "      <td>01:23:00</td>\n",
       "      <td>...</td>\n",
       "      <td>Floor</td>\n",
       "      <td>1</td>\n",
       "      <td>admit</td>\n",
       "      <td>178.4</td>\n",
       "      <td>195.68</td>\n",
       "      <td>19:45:00</td>\n",
       "      <td>2817</td>\n",
       "      <td>Telemetry</td>\n",
       "      <td>Alive</td>\n",
       "      <td>035-16498</td>\n",
       "    </tr>\n",
       "  </tbody>\n",
       "</table>\n",
       "<p>1668 rows × 29 columns</p>\n",
       "</div>"
      ],
      "text/plain": [
       "        stay_id  patienthealthsystemstayid  gender age         ethnicity  \\\n",
       "4        141196                     128943    Male  71         Caucasian   \n",
       "34       141392                     129109  Female  78         Caucasian   \n",
       "43       141470                     129172  Female  58         Caucasian   \n",
       "165      142405                     129878  Female  52             Asian   \n",
       "258      143068                     130383    Male  64         Caucasian   \n",
       "...         ...                        ...     ...  ..               ...   \n",
       "196543  3247135                    2647037  Female  87         Caucasian   \n",
       "198023  3335807                    2727344  Female  23  African American   \n",
       "198834  3340875                    2731924  Female  70  African American   \n",
       "198883  3341168                    2732192    Male  61  African American   \n",
       "199794  3346897                    2737394    Male  58         Caucasian   \n",
       "\n",
       "        hospitalid  wardid                                  apacheadmissiondx  \\\n",
       "4               67     109                                                NaN   \n",
       "34              73      97              Sepsis, renal/UTI (including bladder)   \n",
       "43              66      90  Obstruction/other, surgery for (with or withou...   \n",
       "165             63      95                       Respiratory - medical, other   \n",
       "258             73      92                                   Heart transplant   \n",
       "...            ...     ...                                                ...   \n",
       "196543         449    1082                                 Bleeding, lower GI   \n",
       "198023         459    1108                                             Asthma   \n",
       "198834         458    1109                               Emphysema/bronchitis   \n",
       "198883         459    1108                                  Sepsis, pulmonary   \n",
       "199794         458    1109                      Sepsis, cutaneous/soft tissue   \n",
       "\n",
       "        admissionheight hospitaladmittime24  ...       unitadmitsource  \\\n",
       "4                 162.6            20:21:00  ...            ICU to SDU   \n",
       "34                160.0            08:32:00  ...  Emergency Department   \n",
       "43                162.6            07:23:00  ...        Operating Room   \n",
       "165                 NaN            09:45:00  ...  Emergency Department   \n",
       "258               170.0            19:57:00  ...        Operating Room   \n",
       "...                 ...                 ...  ...                   ...   \n",
       "196543            157.5            14:16:24  ...             Other ICU   \n",
       "198023            175.3            11:34:00  ...  Emergency Department   \n",
       "198834            168.8            19:50:00  ...  Emergency Department   \n",
       "198883            180.3            22:36:00  ...  Emergency Department   \n",
       "199794            182.9            01:23:00  ...                 Floor   \n",
       "\n",
       "       unitvisitnumber    unitstaytype admissionweight  dischargeweight  \\\n",
       "4                    2  stepdown/other             NaN            63.20   \n",
       "34                   1           admit             NaN            85.20   \n",
       "43                   1           admit             NaN           108.60   \n",
       "165                  1           admit             NaN            55.10   \n",
       "258                  1           admit           103.9           106.70   \n",
       "...                ...             ...             ...              ...   \n",
       "196543               1           admit            41.8            64.41   \n",
       "198023               1           admit            98.2            95.25   \n",
       "198834               1           admit            67.4            67.50   \n",
       "198883               1           admit            87.6            84.10   \n",
       "199794               1           admit           178.4           195.68   \n",
       "\n",
       "       unitdischargetime24 unitdischargeoffset unitdischargelocation  \\\n",
       "4                 22:23:00                1463                 Floor   \n",
       "34                00:34:00                 961                 Floor   \n",
       "43                21:19:00                 831                 Floor   \n",
       "165               23:08:00                 795                 Floor   \n",
       "258               18:35:00                3602                 Floor   \n",
       "...                    ...                 ...                   ...   \n",
       "196543            18:03:00                5703                 Floor   \n",
       "198023            16:06:00                 190             Telemetry   \n",
       "198834            18:49:00                2595             Telemetry   \n",
       "198883            19:03:00                2591             Telemetry   \n",
       "199794            19:45:00                2817             Telemetry   \n",
       "\n",
       "       unitdischargestatus  uniquepid  \n",
       "4                    Alive  002-37665  \n",
       "34                   Alive  002-49989  \n",
       "43                   Alive  002-56630  \n",
       "165                  Alive  002-47719  \n",
       "258                  Alive  002-72540  \n",
       "...                    ...        ...  \n",
       "196543               Alive   033-4795  \n",
       "198023               Alive   035-2456  \n",
       "198834               Alive   035-2884  \n",
       "198883               Alive  035-10304  \n",
       "199794               Alive  035-16498  \n",
       "\n",
       "[1668 rows x 29 columns]"
      ]
     },
     "execution_count": 147,
     "metadata": {},
     "output_type": "execute_result"
    }
   ],
   "source": [
    "patient"
   ]
  },
  {
   "attachments": {},
   "cell_type": "markdown",
   "metadata": {},
   "source": [
    "LOS"
   ]
  },
  {
   "cell_type": "code",
   "execution_count": 159,
   "metadata": {},
   "outputs": [
    {
     "data": {
      "text/plain": [
       "unitdischargeoffset    3.173888\n",
       "dtype: float64"
      ]
     },
     "execution_count": 159,
     "metadata": {},
     "output_type": "execute_result"
    },
    {
     "data": {
      "text/plain": [
       "unitdischargeoffset    2.833997\n",
       "dtype: float64"
      ]
     },
     "execution_count": 159,
     "metadata": {},
     "output_type": "execute_result"
    },
    {
     "data": {
      "text/plain": [
       "unitdischargeoffset    0.097917\n",
       "dtype: float64"
      ]
     },
     "execution_count": 159,
     "metadata": {},
     "output_type": "execute_result"
    },
    {
     "data": {
      "text/plain": [
       "unitdischargeoffset    24.745833\n",
       "dtype: float64"
      ]
     },
     "execution_count": 159,
     "metadata": {},
     "output_type": "execute_result"
    }
   ],
   "source": [
    "# eicu_data\n",
    "(patient[['unitdischargeoffset']]/60/24).mean()\n",
    "(patient[['unitdischargeoffset']]/60/24).std()\n",
    "(patient[['unitdischargeoffset']]/60/24).min()\n",
    "(patient[['unitdischargeoffset']]/60/24).max()"
   ]
  },
  {
   "attachments": {},
   "cell_type": "markdown",
   "metadata": {},
   "source": [
    "Age"
   ]
  },
  {
   "cell_type": "code",
   "execution_count": 170,
   "metadata": {},
   "outputs": [],
   "source": [
    "# Change to int\n",
    "patient['age'].replace('> 89', 90, inplace=True)\n",
    "patient['age'] = patient['age'].astype(int)"
   ]
  },
  {
   "cell_type": "code",
   "execution_count": 169,
   "metadata": {},
   "outputs": [
    {
     "data": {
      "text/plain": [
       "4         71\n",
       "34        78\n",
       "43        58\n",
       "165       52\n",
       "258       64\n",
       "          ..\n",
       "196543    87\n",
       "198023    23\n",
       "198834    70\n",
       "198883    61\n",
       "199794    58\n",
       "Name: age, Length: 1668, dtype: object"
      ]
     },
     "execution_count": 169,
     "metadata": {},
     "output_type": "execute_result"
    }
   ],
   "source": [
    "patient['age']"
   ]
  },
  {
   "cell_type": "code",
   "execution_count": 172,
   "metadata": {},
   "outputs": [
    {
     "data": {
      "text/plain": [
       "64.73681055155875"
      ]
     },
     "execution_count": 172,
     "metadata": {},
     "output_type": "execute_result"
    },
    {
     "data": {
      "text/plain": [
       "15.91220400359517"
      ]
     },
     "execution_count": 172,
     "metadata": {},
     "output_type": "execute_result"
    },
    {
     "data": {
      "text/plain": [
       "16"
      ]
     },
     "execution_count": 172,
     "metadata": {},
     "output_type": "execute_result"
    },
    {
     "data": {
      "text/plain": [
       "90"
      ]
     },
     "execution_count": 172,
     "metadata": {},
     "output_type": "execute_result"
    }
   ],
   "source": [
    "# eicu_data\n",
    "patient['age'].mean()\n",
    "patient['age'].std()\n",
    "patient['age'].min()\n",
    "patient['age'].max()"
   ]
  },
  {
   "attachments": {},
   "cell_type": "markdown",
   "metadata": {},
   "source": [
    "Gender / Sex"
   ]
  },
  {
   "cell_type": "code",
   "execution_count": 174,
   "metadata": {},
   "outputs": [
    {
     "data": {
      "text/plain": [
       "Male      0.502998\n",
       "Female    0.497002\n",
       "Name: gender, dtype: float64"
      ]
     },
     "execution_count": 174,
     "metadata": {},
     "output_type": "execute_result"
    }
   ],
   "source": [
    "patient['gender'].value_counts(normalize=True)"
   ]
  },
  {
   "attachments": {},
   "cell_type": "markdown",
   "metadata": {},
   "source": [
    "Race"
   ]
  },
  {
   "cell_type": "code",
   "execution_count": 182,
   "metadata": {},
   "outputs": [
    {
     "data": {
      "text/plain": [
       "Caucasian           0.787696\n",
       "African American    0.150784\n",
       "Other/Unknown       0.034982\n",
       "Hispanic            0.013872\n",
       "Asian               0.008444\n",
       "Native American     0.004222\n",
       "Name: ethnicity, dtype: float64"
      ]
     },
     "execution_count": 182,
     "metadata": {},
     "output_type": "execute_result"
    }
   ],
   "source": [
    "patient.ethnicity.value_counts(normalize=True)"
   ]
  },
  {
   "attachments": {},
   "cell_type": "markdown",
   "metadata": {},
   "source": [
    "Antimicrobial treatment length"
   ]
  },
  {
   "cell_type": "code",
   "execution_count": 217,
   "metadata": {},
   "outputs": [
    {
     "data": {
      "text/plain": [
       "2.9658273381294964"
      ]
     },
     "execution_count": 217,
     "metadata": {},
     "output_type": "execute_result"
    },
    {
     "data": {
      "text/plain": [
       "1.9420290933876612"
      ]
     },
     "execution_count": 217,
     "metadata": {},
     "output_type": "execute_result"
    },
    {
     "data": {
      "text/plain": [
       "1"
      ]
     },
     "execution_count": 217,
     "metadata": {},
     "output_type": "execute_result"
    },
    {
     "data": {
      "text/plain": [
       "17"
      ]
     },
     "execution_count": 217,
     "metadata": {},
     "output_type": "execute_result"
    }
   ],
   "source": [
    "# hold_out_data\n",
    "eicu_data.groupby('stay_id').size().mean()\n",
    "eicu_data.groupby('stay_id').size().std()\n",
    "eicu_data.groupby('stay_id').size().min()\n",
    "eicu_data.groupby('stay_id').size().max()"
   ]
  },
  {
   "attachments": {},
   "cell_type": "markdown",
   "metadata": {},
   "source": [
    "IV & PO days"
   ]
  },
  {
   "cell_type": "code",
   "execution_count": 219,
   "metadata": {},
   "outputs": [],
   "source": [
    "# Create new iv_only_flag\n",
    "eicu_data['iv_only_flag'] = 0\n",
    "pos = -1\n",
    "for x in range(len(eicu_data)):\n",
    "    pos += 1\n",
    "    if eicu_data.iloc[x]['iv_flag'] == 1:\n",
    "        if eicu_data.iloc[x]['first_po_flag'] != eicu_data.iloc[x]['first_po_flag']: # check if NaN \n",
    "            eicu_data.loc[x,'iv_only_flag'] = 1"
   ]
  },
  {
   "cell_type": "code",
   "execution_count": 220,
   "metadata": {},
   "outputs": [
    {
     "data": {
      "text/plain": [
       "2.4646282973621103"
      ]
     },
     "execution_count": 220,
     "metadata": {},
     "output_type": "execute_result"
    },
    {
     "data": {
      "text/plain": [
       "1.5472779413928923"
      ]
     },
     "execution_count": 220,
     "metadata": {},
     "output_type": "execute_result"
    }
   ],
   "source": [
    "# Number of iv treatment days\n",
    "eicu_data.groupby('stay_id')['iv_flag'].sum().mean()\n",
    "eicu_data.groupby('stay_id')['iv_flag'].sum().std()"
   ]
  },
  {
   "cell_type": "code",
   "execution_count": 221,
   "metadata": {},
   "outputs": [
    {
     "data": {
      "text/plain": [
       "1.1396882494004796"
      ]
     },
     "execution_count": 221,
     "metadata": {},
     "output_type": "execute_result"
    },
    {
     "data": {
      "text/plain": [
       "1.7807968259368603"
      ]
     },
     "execution_count": 221,
     "metadata": {},
     "output_type": "execute_result"
    }
   ],
   "source": [
    "# Number of po treatment days\n",
    "eicu_data.groupby('stay_id')['first_po_flag'].sum().mean()\n",
    "eicu_data.groupby('stay_id')['first_po_flag'].sum().std()"
   ]
  },
  {
   "cell_type": "code",
   "execution_count": 222,
   "metadata": {},
   "outputs": [
    {
     "data": {
      "text/plain": [
       "1.8261390887290168"
      ]
     },
     "execution_count": 222,
     "metadata": {},
     "output_type": "execute_result"
    },
    {
     "data": {
      "text/plain": [
       "1.5101298298551233"
      ]
     },
     "execution_count": 222,
     "metadata": {},
     "output_type": "execute_result"
    }
   ],
   "source": [
    "# Number of only IV treatment days\n",
    "eicu_data.groupby('stay_id')['iv_only_flag'].sum().mean()\n",
    "eicu_data.groupby('stay_id')['iv_only_flag'].sum().std()"
   ]
  },
  {
   "cell_type": "code",
   "execution_count": 223,
   "metadata": {},
   "outputs": [
    {
     "data": {
      "text/plain": [
       "0.5011990407673861"
      ]
     },
     "execution_count": 223,
     "metadata": {},
     "output_type": "execute_result"
    },
    {
     "data": {
      "text/plain": [
       "1.321457268052521"
      ]
     },
     "execution_count": 223,
     "metadata": {},
     "output_type": "execute_result"
    }
   ],
   "source": [
    "# Number of only po treatment days\n",
    "eicu_data.groupby('stay_id')['po_flag'].sum().mean()\n",
    "eicu_data.groupby('stay_id')['po_flag'].sum().std()"
   ]
  },
  {
   "attachments": {},
   "cell_type": "markdown",
   "metadata": {},
   "source": [
    "Antibiotics"
   ]
  },
  {
   "cell_type": "code",
   "execution_count": 225,
   "metadata": {},
   "outputs": [
    {
     "name": "stdout",
     "output_type": "stream",
     "text": [
      "./eicu_catch22.ipynb\n",
      "./initial_analysis_patient_outset.ipynb\n",
      "./review_demographics.ipynb\n"
     ]
    }
   ],
   "source": [
    "# Find where eicu data made\n",
    "import glob\n",
    "\n",
    "pattern = './**/*.ipynb'\n",
    "query = 'eicu_iv_switch_stayid_dates_method_3'\n",
    "\n",
    "for filepath in glob.iglob(pattern, recursive=True):\n",
    "    with open(filepath) as file:\n",
    "        s = file.read()\n",
    "        if (s.find(query) > -1):\n",
    "            print(filepath)"
   ]
  },
  {
   "cell_type": "code",
   "execution_count": 227,
   "metadata": {},
   "outputs": [
    {
     "name": "stdout",
     "output_type": "stream",
     "text": [
      "101\n"
     ]
    }
   ],
   "source": [
    "# Load potential antibiotics \n",
    "infection_treatment_categories = pd.read_csv(r\"eicu-collaborative-research-database-2.0/infection_treatment_categories.csv\")\n",
    "infection_treatment_categories2 = infection_treatment_categories.rx.str.split(pat='|', expand=True)\n",
    "infection_treatment_categories2.rename(columns={0:'a', 1:'b', 2:'c', 3:'d', 4:'e'}, inplace=True)\n",
    "infection_treatment_categories3 = infection_treatment_categories2.d.str.split(pat='/', expand=True)\n",
    "# Create lists of antibiotics \n",
    "list1 = infection_treatment_categories2.d.to_list()\n",
    "list2 = infection_treatment_categories2.e.to_list()\n",
    "# Add: 'linezolid', 'Zyvox', 'Synercid', 'quinupristin', 'dalfopristin', 'quinupristin/dalfopristin', 'cephalosporin', 'ticarcillin', 'amoxicillin', 'penicillin', 'benzathine', 'piperacillin', 'ampicillin', \n",
    "# Worked these out by splitting other sections\n",
    "list3 = ['linezolid', 'Zyvox', 'Synercid', 'quinupristin', 'dalfopristin', 'quinupristin/dalfopristin', 'cephalosporin', 'ticarcillin', 'amoxicillin', 'penicillin', 'benzathine', 'piperacillin', 'ampicillin']\n",
    "antibiotic_list = list1 + list2 + list3\n",
    "# Drop duplicates through set\n",
    "antibiotic_list = list(set(antibiotic_list))\n",
    "# Drop None\n",
    "antibiotic_list = [x for x in antibiotic_list if x is not None]\n",
    "print(len(antibiotic_list))"
   ]
  },
  {
   "cell_type": "code",
   "execution_count": null,
   "metadata": {},
   "outputs": [],
   "source": [
    "# Load all medications\n",
    "medication = pd.read_csv(r\"eicu-collaborative-research-database-2.0/medication.csv\", dtype={'drugname': 'object'})\n",
    "medication = medication[['medicationid', 'patientunitstayid', 'drugstartoffset', 'drugname', 'routeadmin', 'drugivadmixture', 'drugordercancelled', 'drugstopoffset']]\n",
    "# Filter for antibiotics \n",
    "medication['flag'] = np.where(medication.drugname.str.contains('|'.join(antibiotic_list), na=False, case=False),1,0)\n",
    "antibiotics = medication[medication['flag'] == 1]\n",
    "antibiotics = antibiotics[antibiotics['drugordercancelled'] == 'No']\n",
    "assert len(antibiotics[antibiotics['drugordercancelled'] == 'No']) == len(antibiotics)\n",
    "print(antibiotics.patientunitstayid.nunique())\n",
    "# Set those where 'drugivadmixture' == 'Yes' to 'IV' route\n",
    "antibiotics.loc[antibiotics['drugivadmixture'] == 'Yes', 'routeadmin'] = 'IV'\n",
    "# Filter for relevant delivery methods\n",
    "route_list = ['IV', 'Intrav', 'PO', 'tube', 'ORAL']\n",
    "antibiotics = antibiotics[antibiotics.routeadmin.str.contains('|'.join(route_list), na=False, case=False)]\n",
    "routeadmin_value_counts = antibiotics.routeadmin.value_counts()\n",
    "# Group so all IV or PO\n",
    "iv_route_list = ['IV', 'Intrav']\n",
    "po_route_list = ['PO', 'tube', 'ORAL']\n",
    "antibiotics.loc[antibiotics.routeadmin.str.contains('|'.join(iv_route_list), na=False, case=False), 'routeadmin'] = 'IV'\n",
    "antibiotics.loc[antibiotics.routeadmin.str.contains('|'.join(po_route_list), na=False, case=False), 'routeadmin'] = 'PO'\n",
    "antibiotics = antibiotics.drop(columns=['drugivadmixture', 'drugordercancelled', 'flag'])"
   ]
  },
  {
   "cell_type": "code",
   "execution_count": 230,
   "metadata": {},
   "outputs": [],
   "source": [
    "# Rename\n",
    "antibiotics.rename(columns={'patientunitstayid': 'stay_id'}, inplace=True)"
   ]
  },
  {
   "cell_type": "code",
   "execution_count": 257,
   "metadata": {},
   "outputs": [],
   "source": [
    "# Get first workd to group\n",
    "antibiotics['antibiotic'] = antibiotics.drugname.str.split().str.get(0)\n",
    "# Make lowecase for group\n",
    "antibiotics['antibiotic'] = antibiotics['antibiotic'].str.lower()"
   ]
  },
  {
   "cell_type": "code",
   "execution_count": 253,
   "metadata": {},
   "outputs": [
    {
     "data": {
      "text/plain": [
       "'(REPACKAGE)'"
      ]
     },
     "execution_count": 253,
     "metadata": {},
     "output_type": "execute_result"
    }
   ],
   "source": [
    "# Also looked at selecting the longest word bu I dont think this will work\n",
    "max(antibiotics.drugname.iloc[0].split(), key=len)"
   ]
  },
  {
   "cell_type": "code",
   "execution_count": 259,
   "metadata": {},
   "outputs": [
    {
     "data": {
      "text/html": [
       "<div>\n",
       "<style scoped>\n",
       "    .dataframe tbody tr th:only-of-type {\n",
       "        vertical-align: middle;\n",
       "    }\n",
       "\n",
       "    .dataframe tbody tr th {\n",
       "        vertical-align: top;\n",
       "    }\n",
       "\n",
       "    .dataframe thead th {\n",
       "        text-align: right;\n",
       "    }\n",
       "</style>\n",
       "<table border=\"1\" class=\"dataframe\">\n",
       "  <thead>\n",
       "    <tr style=\"text-align: right;\">\n",
       "      <th></th>\n",
       "      <th>medicationid</th>\n",
       "      <th>stay_id</th>\n",
       "      <th>drugstartoffset</th>\n",
       "      <th>drugname</th>\n",
       "      <th>routeadmin</th>\n",
       "      <th>drugstopoffset</th>\n",
       "      <th>antibiotic</th>\n",
       "    </tr>\n",
       "  </thead>\n",
       "  <tbody>\n",
       "    <tr>\n",
       "      <th>25</th>\n",
       "      <td>7573839</td>\n",
       "      <td>141194</td>\n",
       "      <td>13422</td>\n",
       "      <td>VANCOMYCIN 1.25 GM IN NS 250 ML IVPB (REPACKAGE)</td>\n",
       "      <td>IV</td>\n",
       "      <td>12622</td>\n",
       "      <td>vancomycin</td>\n",
       "    </tr>\n",
       "    <tr>\n",
       "      <th>32</th>\n",
       "      <td>10670852</td>\n",
       "      <td>141203</td>\n",
       "      <td>-129</td>\n",
       "      <td>100 ML  -  METRONIDAZOLE IN NACL 5-0.79 MG/ML-...</td>\n",
       "      <td>IV</td>\n",
       "      <td>1058</td>\n",
       "      <td>100</td>\n",
       "    </tr>\n",
       "    <tr>\n",
       "      <th>41</th>\n",
       "      <td>7814668</td>\n",
       "      <td>141203</td>\n",
       "      <td>1281</td>\n",
       "      <td>100 ML  -  METRONIDAZOLE IN NACL 5-0.79 MG/ML-...</td>\n",
       "      <td>IV</td>\n",
       "      <td>2414</td>\n",
       "      <td>100</td>\n",
       "    </tr>\n",
       "    <tr>\n",
       "      <th>42</th>\n",
       "      <td>8867081</td>\n",
       "      <td>141203</td>\n",
       "      <td>2361</td>\n",
       "      <td>VANCOMYCIN 1.25 GM IN NS 250 ML IVPB (REPACKAGE)</td>\n",
       "      <td>IV</td>\n",
       "      <td>2414</td>\n",
       "      <td>vancomycin</td>\n",
       "    </tr>\n",
       "    <tr>\n",
       "      <th>55</th>\n",
       "      <td>8076824</td>\n",
       "      <td>141227</td>\n",
       "      <td>-1323</td>\n",
       "      <td>CEFEPIME HCL 2 G IJ SOLR</td>\n",
       "      <td>IV</td>\n",
       "      <td>507</td>\n",
       "      <td>cefepime</td>\n",
       "    </tr>\n",
       "    <tr>\n",
       "      <th>...</th>\n",
       "      <td>...</td>\n",
       "      <td>...</td>\n",
       "      <td>...</td>\n",
       "      <td>...</td>\n",
       "      <td>...</td>\n",
       "      <td>...</td>\n",
       "      <td>...</td>\n",
       "    </tr>\n",
       "    <tr>\n",
       "      <th>7290293</th>\n",
       "      <td>111808256</td>\n",
       "      <td>3347198</td>\n",
       "      <td>274</td>\n",
       "      <td>PIPERACILLIN-TAZOBACTAM 3.375 G MINI-BAG PLUS</td>\n",
       "      <td>IV</td>\n",
       "      <td>80</td>\n",
       "      <td>piperacillin-tazobactam</td>\n",
       "    </tr>\n",
       "    <tr>\n",
       "      <th>7292726</th>\n",
       "      <td>110617275</td>\n",
       "      <td>3348568</td>\n",
       "      <td>1830</td>\n",
       "      <td>LEVOFLOXACIN</td>\n",
       "      <td>PO</td>\n",
       "      <td>4673</td>\n",
       "      <td>levofloxacin</td>\n",
       "    </tr>\n",
       "    <tr>\n",
       "      <th>7295823</th>\n",
       "      <td>111068263</td>\n",
       "      <td>3350223</td>\n",
       "      <td>2431</td>\n",
       "      <td>LEVOFLOXACIN</td>\n",
       "      <td>PO</td>\n",
       "      <td>5311</td>\n",
       "      <td>levofloxacin</td>\n",
       "    </tr>\n",
       "    <tr>\n",
       "      <th>7295987</th>\n",
       "      <td>111598516</td>\n",
       "      <td>3350309</td>\n",
       "      <td>2750</td>\n",
       "      <td>PIPERACILLIN-TAZOBACTAM 3.375 G MINI-BAG PLUS</td>\n",
       "      <td>IV</td>\n",
       "      <td>3726</td>\n",
       "      <td>piperacillin-tazobactam</td>\n",
       "    </tr>\n",
       "    <tr>\n",
       "      <th>7296737</th>\n",
       "      <td>111609720</td>\n",
       "      <td>3350719</td>\n",
       "      <td>-110</td>\n",
       "      <td>PIPERACILLIN-TAZOBACTAM 3.375 G MINI-BAG PLUS</td>\n",
       "      <td>IV</td>\n",
       "      <td>416</td>\n",
       "      <td>piperacillin-tazobactam</td>\n",
       "    </tr>\n",
       "  </tbody>\n",
       "</table>\n",
       "<p>131892 rows × 7 columns</p>\n",
       "</div>"
      ],
      "text/plain": [
       "         medicationid  stay_id  drugstartoffset  \\\n",
       "25            7573839   141194            13422   \n",
       "32           10670852   141203             -129   \n",
       "41            7814668   141203             1281   \n",
       "42            8867081   141203             2361   \n",
       "55            8076824   141227            -1323   \n",
       "...               ...      ...              ...   \n",
       "7290293     111808256  3347198              274   \n",
       "7292726     110617275  3348568             1830   \n",
       "7295823     111068263  3350223             2431   \n",
       "7295987     111598516  3350309             2750   \n",
       "7296737     111609720  3350719             -110   \n",
       "\n",
       "                                                  drugname routeadmin  \\\n",
       "25        VANCOMYCIN 1.25 GM IN NS 250 ML IVPB (REPACKAGE)         IV   \n",
       "32       100 ML  -  METRONIDAZOLE IN NACL 5-0.79 MG/ML-...         IV   \n",
       "41       100 ML  -  METRONIDAZOLE IN NACL 5-0.79 MG/ML-...         IV   \n",
       "42        VANCOMYCIN 1.25 GM IN NS 250 ML IVPB (REPACKAGE)         IV   \n",
       "55                                CEFEPIME HCL 2 G IJ SOLR         IV   \n",
       "...                                                    ...        ...   \n",
       "7290293      PIPERACILLIN-TAZOBACTAM 3.375 G MINI-BAG PLUS         IV   \n",
       "7292726                                       LEVOFLOXACIN         PO   \n",
       "7295823                                       LEVOFLOXACIN         PO   \n",
       "7295987      PIPERACILLIN-TAZOBACTAM 3.375 G MINI-BAG PLUS         IV   \n",
       "7296737      PIPERACILLIN-TAZOBACTAM 3.375 G MINI-BAG PLUS         IV   \n",
       "\n",
       "         drugstopoffset               antibiotic  \n",
       "25                12622               vancomycin  \n",
       "32                 1058                      100  \n",
       "41                 2414                      100  \n",
       "42                 2414               vancomycin  \n",
       "55                  507                 cefepime  \n",
       "...                 ...                      ...  \n",
       "7290293              80  piperacillin-tazobactam  \n",
       "7292726            4673             levofloxacin  \n",
       "7295823            5311             levofloxacin  \n",
       "7295987            3726  piperacillin-tazobactam  \n",
       "7296737             416  piperacillin-tazobactam  \n",
       "\n",
       "[131892 rows x 7 columns]"
      ]
     },
     "execution_count": 259,
     "metadata": {},
     "output_type": "execute_result"
    }
   ],
   "source": [
    "antibiotics"
   ]
  },
  {
   "cell_type": "code",
   "execution_count": 260,
   "metadata": {},
   "outputs": [
    {
     "data": {
      "text/plain": [
       "1668"
      ]
     },
     "execution_count": 260,
     "metadata": {},
     "output_type": "execute_result"
    },
    {
     "data": {
      "text/plain": [
       "1668"
      ]
     },
     "execution_count": 260,
     "metadata": {},
     "output_type": "execute_result"
    },
    {
     "data": {
      "text/plain": [
       "LEVOFLOXACIN 750 MG PO TABS                                        0.079190\n",
       "LEVOFLOXACIN IN D5W 750 MG/150ML IV SOLN                           0.068707\n",
       "vancomycin                                                         0.053690\n",
       "VANCOMYCIN HCL 1000 MG IV SOLR                                     0.050149\n",
       "VANCOMYCIN HCL IN DEXTROSE 1 GM/200ML IV SOLN                      0.045332\n",
       "LEVOFLOXACIN 500 MG PO TABS                                        0.045049\n",
       "LEVOFLOXACIN                                                       0.043491\n",
       "METRONIDAZOLE 500 MG PO TABS                                       0.040232\n",
       "metroNIDAZOLE                                                      0.040091\n",
       "VANCOMYCIN HCL 1 GM VIAL                                           0.037541\n",
       "cefTRIAXone                                                        0.031733\n",
       "azithromycin                                                       0.031308\n",
       "VANCOMYCIN HCL 10 G IV SOLR                                        0.027483\n",
       "LEVOFLOXACIN IN D5W 500 MG/100ML IV SOLN                           0.025358\n",
       "PIPERACILLIN/TAZOBACTAM SOD 3.375 GM  VIAL                         0.025074\n",
       "150 ML FLEX CONT : LEVOFLOXACIN IN D5W 5 MG/ML IV SOLN             0.025074\n",
       "METRONIDAZOLE 500 MG/100 ML                                        0.022949\n",
       "VANCOMYCIN 1 G/200 ML D5W                                          0.022666\n",
       "PIPERACILLIN SOD-TAZOBACTAM SO 3-0.375 G IV SOLR                   0.021958\n",
       "1 EACH VIAL : CEFEPIME HCL 1 GM IJ SOLR                            0.021674\n",
       "VANCOMYCIN INJ 1,000 MG VIAL.                                      0.020399\n",
       "VANCOMYCIN HCL                                                     0.019691\n",
       "AZITHROMYCIN                                                       0.016716\n",
       "PIPERACILLIN/TAZOBACTAM                                            0.016716\n",
       "VANCOMYCIN 1.25 GM IN NS 250 ML IVPB (REPACKAGE)                   0.015866\n",
       "PIPERACILLIN-TAZOBACTAM 3.375 G IVPB                               0.012750\n",
       "100 ML  -  METRONIDAZOLE IN NACL 5-0.79 MG/ML-% IV SOLN            0.011475\n",
       "CEFEPIME HCL 2 G IJ SOLR                                           0.011191\n",
       "VANCOMYCIN 1.25 G/250 ML NS                                        0.010625\n",
       "VANCOMYCIN 1.5 GM IN NS 250 ML IVPB (REPACKAGE)                    0.009633\n",
       "CEFTRIAXONE SODIUM 1 G IJ SOLR                                     0.009633\n",
       "VANCOMYCIN 1.5 G/500 ML NS                                         0.009208\n",
       "AZITHROMYCIN 500 MG IV SOLR                                        0.008925\n",
       "MEROPENEM 500 MG IV SOLR                                           0.008216\n",
       "20 ML SYRINGE : CEFAZOLIN 2 G IN STERILE WATER 20 ML SYRINGE IV    0.007933\n",
       "CEFEPIME                                                           0.007933\n",
       "CIPROFLOXACIN IN D5W 400 MG/200ML IV SOLN                          0.007791\n",
       "clindamycin                                                        0.006517\n",
       "piperacillin-tazobactam                                            0.005950\n",
       "1 EACH VIAL : CEFTRIAXONE SODIUM 1 G IJ SOLR                       0.004675\n",
       "CEFAZOLIN 2 GM IN NS 100 ML IVPB (REPACKAGE)                       0.004675\n",
       "ceFAZolin                                                          0.003683\n",
       "MEROPENEM 1 G IV SOLR                                              0.003400\n",
       "CEFAZOLIN 2 G/100 ML NS                                            0.002408\n",
       "VANCOMYCIN                                                         0.002267\n",
       "meropenem                                                          0.001558\n",
       "ceFAZolin 1 g powder for Inj                                       0.000850\n",
       "LEVOFLOXACIN 500mg in D5W 100mL RT                                 0.000283\n",
       "cefepime                                                           0.000283\n",
       "Name: drugname, dtype: float64"
      ]
     },
     "execution_count": 260,
     "metadata": {},
     "output_type": "execute_result"
    },
    {
     "data": {
      "text/plain": [
       "49"
      ]
     },
     "execution_count": 260,
     "metadata": {},
     "output_type": "execute_result"
    },
    {
     "data": {
      "text/plain": [
       "vancomycin                 0.324550\n",
       "levofloxacin               0.262077\n",
       "metronidazole              0.103272\n",
       "azithromycin               0.056949\n",
       "piperacillin/tazobactam    0.041791\n",
       "ceftriaxone                0.041366\n",
       "1                          0.026349\n",
       "150                        0.025074\n",
       "piperacillin               0.021958\n",
       "cefepime                   0.019408\n",
       "piperacillin-tazobactam    0.018700\n",
       "meropenem                  0.013175\n",
       "cefazolin                  0.011616\n",
       "100                        0.011475\n",
       "20                         0.007933\n",
       "ciprofloxacin              0.007791\n",
       "clindamycin                0.006517\n",
       "Name: antibiotic, dtype: float64"
      ]
     },
     "execution_count": 260,
     "metadata": {},
     "output_type": "execute_result"
    },
    {
     "data": {
      "text/plain": [
       "17"
      ]
     },
     "execution_count": 260,
     "metadata": {},
     "output_type": "execute_result"
    }
   ],
   "source": [
    "# preprocessing_data\n",
    "len(eicu_data_list)\n",
    "antibiotics[antibiotics['stay_id'].isin(eicu_data_list)].stay_id.nunique()\n",
    "antibiotics[antibiotics['stay_id'].isin(eicu_data_list)]['drugname'].value_counts(normalize=True)\n",
    "len(antibiotics[antibiotics['stay_id'].isin(eicu_data_list)]['drugname'].value_counts(normalize=True))\n",
    "# For grouped - with some missing\n",
    "antibiotics[antibiotics['stay_id'].isin(eicu_data_list)]['antibiotic'].value_counts(normalize=True)\n",
    "len(antibiotics[antibiotics['stay_id'].isin(eicu_data_list)]['antibiotic'].value_counts(normalize=True))"
   ]
  },
  {
   "cell_type": "code",
   "execution_count": 261,
   "metadata": {},
   "outputs": [
    {
     "data": {
      "text/plain": [
       "LEVOFLOXACIN IN D5W 750 MG/150ML IV SOLN                           0.101295\n",
       "VANCOMYCIN HCL 1000 MG IV SOLR                                     0.073935\n",
       "VANCOMYCIN HCL IN DEXTROSE 1 GM/200ML IV SOLN                      0.066834\n",
       "VANCOMYCIN HCL 1 GM VIAL                                           0.055347\n",
       "cefTRIAXone                                                        0.046784\n",
       "VANCOMYCIN HCL 10 G IV SOLR                                        0.040518\n",
       "vancomycin                                                         0.037385\n",
       "LEVOFLOXACIN IN D5W 500 MG/100ML IV SOLN                           0.037385\n",
       "150 ML FLEX CONT : LEVOFLOXACIN IN D5W 5 MG/ML IV SOLN             0.036967\n",
       "PIPERACILLIN/TAZOBACTAM SOD 3.375 GM  VIAL                         0.036967\n",
       "METRONIDAZOLE 500 MG/100 ML                                        0.033835\n",
       "VANCOMYCIN 1 G/200 ML D5W                                          0.033417\n",
       "PIPERACILLIN SOD-TAZOBACTAM SO 3-0.375 G IV SOLR                   0.032373\n",
       "1 EACH VIAL : CEFEPIME HCL 1 GM IJ SOLR                            0.031955\n",
       "VANCOMYCIN INJ 1,000 MG VIAL.                                      0.030075\n",
       "PIPERACILLIN/TAZOBACTAM                                            0.024645\n",
       "VANCOMYCIN 1.25 GM IN NS 250 ML IVPB (REPACKAGE)                   0.023392\n",
       "PIPERACILLIN-TAZOBACTAM 3.375 G IVPB                               0.018797\n",
       "100 ML  -  METRONIDAZOLE IN NACL 5-0.79 MG/ML-% IV SOLN            0.016917\n",
       "CEFEPIME HCL 2 G IJ SOLR                                           0.016500\n",
       "VANCOMYCIN 1.25 G/250 ML NS                                        0.015664\n",
       "CEFTRIAXONE SODIUM 1 G IJ SOLR                                     0.014202\n",
       "VANCOMYCIN 1.5 GM IN NS 250 ML IVPB (REPACKAGE)                    0.014202\n",
       "VANCOMYCIN 1.5 G/500 ML NS                                         0.013576\n",
       "VANCOMYCIN HCL                                                     0.013367\n",
       "AZITHROMYCIN 500 MG IV SOLR                                        0.013158\n",
       "MEROPENEM 500 MG IV SOLR                                           0.012114\n",
       "CEFEPIME                                                           0.011696\n",
       "20 ML SYRINGE : CEFAZOLIN 2 G IN STERILE WATER 20 ML SYRINGE IV    0.011696\n",
       "CIPROFLOXACIN IN D5W 400 MG/200ML IV SOLN                          0.011487\n",
       "metroNIDAZOLE                                                      0.010652\n",
       "piperacillin-tazobactam                                            0.008772\n",
       "azithromycin                                                       0.007937\n",
       "CEFAZOLIN 2 GM IN NS 100 ML IVPB (REPACKAGE)                       0.006892\n",
       "1 EACH VIAL : CEFTRIAXONE SODIUM 1 G IJ SOLR                       0.006892\n",
       "ceFAZolin                                                          0.005430\n",
       "clindamycin                                                        0.005013\n",
       "MEROPENEM 1 G IV SOLR                                              0.005013\n",
       "AZITHROMYCIN                                                       0.004804\n",
       "CEFAZOLIN 2 G/100 ML NS                                            0.003551\n",
       "meropenem                                                          0.002297\n",
       "VANCOMYCIN                                                         0.002089\n",
       "LEVOFLOXACIN 500 MG PO TABS                                        0.001462\n",
       "ceFAZolin 1 g powder for Inj                                       0.001253\n",
       "cefepime                                                           0.000418\n",
       "LEVOFLOXACIN 750 MG PO TABS                                        0.000418\n",
       "LEVOFLOXACIN                                                       0.000418\n",
       "LEVOFLOXACIN 500mg in D5W 100mL RT                                 0.000209\n",
       "Name: drugname, dtype: float64"
      ]
     },
     "execution_count": 261,
     "metadata": {},
     "output_type": "execute_result"
    },
    {
     "data": {
      "text/plain": [
       "48"
      ]
     },
     "execution_count": 261,
     "metadata": {},
     "output_type": "execute_result"
    },
    {
     "data": {
      "text/plain": [
       "vancomycin                 0.419799\n",
       "levofloxacin               0.141186\n",
       "piperacillin/tazobactam    0.061612\n",
       "ceftriaxone                0.060986\n",
       "metronidazole              0.044486\n",
       "1                          0.038847\n",
       "150                        0.036967\n",
       "piperacillin               0.032373\n",
       "cefepime                   0.028613\n",
       "piperacillin-tazobactam    0.027569\n",
       "azithromycin               0.025898\n",
       "meropenem                  0.019424\n",
       "cefazolin                  0.017126\n",
       "100                        0.016917\n",
       "20                         0.011696\n",
       "ciprofloxacin              0.011487\n",
       "clindamycin                0.005013\n",
       "Name: antibiotic, dtype: float64"
      ]
     },
     "execution_count": 261,
     "metadata": {},
     "output_type": "execute_result"
    },
    {
     "data": {
      "text/plain": [
       "17"
      ]
     },
     "execution_count": 261,
     "metadata": {},
     "output_type": "execute_result"
    }
   ],
   "source": [
    "# preprocessing_data IV\n",
    "antibiotics[(antibiotics['stay_id'].isin(eicu_data_list)) & (antibiotics['routeadmin'] == 'IV')]['drugname'].value_counts(normalize=True)\n",
    "len(antibiotics[(antibiotics['stay_id'].isin(eicu_data_list)) & (antibiotics['routeadmin'] == 'IV')]['drugname'].value_counts(normalize=True))\n",
    "# For grouped - with some missing\n",
    "antibiotics[(antibiotics['stay_id'].isin(eicu_data_list)) & (antibiotics['routeadmin'] == 'IV')]['antibiotic'].value_counts(normalize=True)\n",
    "len(antibiotics[(antibiotics['stay_id'].isin(eicu_data_list)) & (antibiotics['routeadmin'] == 'IV')]['antibiotic'].value_counts(normalize=True))"
   ]
  },
  {
   "cell_type": "code",
   "execution_count": 262,
   "metadata": {},
   "outputs": [
    {
     "data": {
      "text/plain": [
       "LEVOFLOXACIN 750 MG PO TABS           0.245266\n",
       "LEVOFLOXACIN 500 MG PO TABS           0.136944\n",
       "LEVOFLOXACIN                          0.134302\n",
       "METRONIDAZOLE 500 MG PO TABS          0.125055\n",
       "metroNIDAZOLE                         0.102158\n",
       "vancomycin                            0.088067\n",
       "azithromycin                          0.080581\n",
       "AZITHROMYCIN                          0.041832\n",
       "VANCOMYCIN HCL                        0.033025\n",
       "clindamycin                           0.009687\n",
       "VANCOMYCIN                            0.002642\n",
       "LEVOFLOXACIN 500mg in D5W 100mL RT    0.000440\n",
       "Name: drugname, dtype: float64"
      ]
     },
     "execution_count": 262,
     "metadata": {},
     "output_type": "execute_result"
    },
    {
     "data": {
      "text/plain": [
       "12"
      ]
     },
     "execution_count": 262,
     "metadata": {},
     "output_type": "execute_result"
    },
    {
     "data": {
      "text/plain": [
       "levofloxacin     0.516953\n",
       "metronidazole    0.227213\n",
       "vancomycin       0.123734\n",
       "azithromycin     0.122413\n",
       "clindamycin      0.009687\n",
       "Name: antibiotic, dtype: float64"
      ]
     },
     "execution_count": 262,
     "metadata": {},
     "output_type": "execute_result"
    },
    {
     "data": {
      "text/plain": [
       "5"
      ]
     },
     "execution_count": 262,
     "metadata": {},
     "output_type": "execute_result"
    }
   ],
   "source": [
    "# preprocessing_data PO\n",
    "antibiotics[(antibiotics['stay_id'].isin(eicu_data_list)) & (antibiotics['routeadmin'] == 'PO')]['drugname'].value_counts(normalize=True)\n",
    "len(antibiotics[(antibiotics['stay_id'].isin(eicu_data_list)) & (antibiotics['routeadmin'] == 'PO')]['drugname'].value_counts(normalize=True))\n",
    "# For grouped - with some missing\n",
    "antibiotics[(antibiotics['stay_id'].isin(eicu_data_list)) & (antibiotics['routeadmin'] == 'PO')]['antibiotic'].value_counts(normalize=True)\n",
    "len(antibiotics[(antibiotics['stay_id'].isin(eicu_data_list)) & (antibiotics['routeadmin'] == 'PO')]['antibiotic'].value_counts(normalize=True))"
   ]
  },
  {
   "attachments": {},
   "cell_type": "markdown",
   "metadata": {},
   "source": [
    "Diagnosis"
   ]
  },
  {
   "cell_type": "code",
   "execution_count": 275,
   "metadata": {},
   "outputs": [],
   "source": [
    "# Import\n",
    "diagnosis = pd.read_csv(r\"eicu-collaborative-research-database-2.0/diagnosis.csv\")\n",
    "diagnosis.rename(columns={'patientunitstayid': 'stay_id'}, inplace=True)\n",
    "diagnosis = diagnosis[diagnosis['stay_id'].isin(eicu_data_list)]"
   ]
  },
  {
   "cell_type": "code",
   "execution_count": 276,
   "metadata": {},
   "outputs": [
    {
     "data": {
      "text/html": [
       "<div>\n",
       "<style scoped>\n",
       "    .dataframe tbody tr th:only-of-type {\n",
       "        vertical-align: middle;\n",
       "    }\n",
       "\n",
       "    .dataframe tbody tr th {\n",
       "        vertical-align: top;\n",
       "    }\n",
       "\n",
       "    .dataframe thead th {\n",
       "        text-align: right;\n",
       "    }\n",
       "</style>\n",
       "<table border=\"1\" class=\"dataframe\">\n",
       "  <thead>\n",
       "    <tr style=\"text-align: right;\">\n",
       "      <th></th>\n",
       "      <th>diagnosisid</th>\n",
       "      <th>stay_id</th>\n",
       "      <th>activeupondischarge</th>\n",
       "      <th>diagnosisoffset</th>\n",
       "      <th>diagnosisstring</th>\n",
       "      <th>icd9code</th>\n",
       "      <th>diagnosispriority</th>\n",
       "    </tr>\n",
       "  </thead>\n",
       "  <tbody>\n",
       "    <tr>\n",
       "      <th>188</th>\n",
       "      <td>3782286</td>\n",
       "      <td>141392</td>\n",
       "      <td>True</td>\n",
       "      <td>38</td>\n",
       "      <td>endocrine|glucose metabolism|diabetes mellitus</td>\n",
       "      <td>NaN</td>\n",
       "      <td>Other</td>\n",
       "    </tr>\n",
       "    <tr>\n",
       "      <th>189</th>\n",
       "      <td>3366078</td>\n",
       "      <td>141392</td>\n",
       "      <td>True</td>\n",
       "      <td>38</td>\n",
       "      <td>cardiovascular|shock / hypotension|hypotension</td>\n",
       "      <td>458.9, I95.9</td>\n",
       "      <td>Other</td>\n",
       "    </tr>\n",
       "    <tr>\n",
       "      <th>190</th>\n",
       "      <td>3557636</td>\n",
       "      <td>141392</td>\n",
       "      <td>True</td>\n",
       "      <td>38</td>\n",
       "      <td>cardiovascular|shock / hypotension|sepsis</td>\n",
       "      <td>038.9, A41.9</td>\n",
       "      <td>Primary</td>\n",
       "    </tr>\n",
       "    <tr>\n",
       "      <th>191</th>\n",
       "      <td>3707533</td>\n",
       "      <td>141392</td>\n",
       "      <td>True</td>\n",
       "      <td>38</td>\n",
       "      <td>cardiovascular|ventricular disorders|congestiv...</td>\n",
       "      <td>428.0, I50.9</td>\n",
       "      <td>Other</td>\n",
       "    </tr>\n",
       "    <tr>\n",
       "      <th>218</th>\n",
       "      <td>3920901</td>\n",
       "      <td>141470</td>\n",
       "      <td>True</td>\n",
       "      <td>13</td>\n",
       "      <td>cardiovascular|shock / hypotension|sepsis</td>\n",
       "      <td>038.9, A41.9</td>\n",
       "      <td>Primary</td>\n",
       "    </tr>\n",
       "    <tr>\n",
       "      <th>...</th>\n",
       "      <td>...</td>\n",
       "      <td>...</td>\n",
       "      <td>...</td>\n",
       "      <td>...</td>\n",
       "      <td>...</td>\n",
       "      <td>...</td>\n",
       "      <td>...</td>\n",
       "    </tr>\n",
       "    <tr>\n",
       "      <th>2698981</th>\n",
       "      <td>46224569</td>\n",
       "      <td>3346897</td>\n",
       "      <td>False</td>\n",
       "      <td>193</td>\n",
       "      <td>cardiovascular|shock / hypotension|sepsis|seps...</td>\n",
       "      <td>995.92, R65.20</td>\n",
       "      <td>Other</td>\n",
       "    </tr>\n",
       "    <tr>\n",
       "      <th>2698982</th>\n",
       "      <td>46269856</td>\n",
       "      <td>3346897</td>\n",
       "      <td>False</td>\n",
       "      <td>194</td>\n",
       "      <td>gastrointestinal|biliary disease|cholecystitis</td>\n",
       "      <td>NaN</td>\n",
       "      <td>Other</td>\n",
       "    </tr>\n",
       "    <tr>\n",
       "      <th>2698983</th>\n",
       "      <td>46106248</td>\n",
       "      <td>3346897</td>\n",
       "      <td>False</td>\n",
       "      <td>193</td>\n",
       "      <td>cardiovascular|vascular disorders|swollen extr...</td>\n",
       "      <td>NaN</td>\n",
       "      <td>Other</td>\n",
       "    </tr>\n",
       "    <tr>\n",
       "      <th>2698984</th>\n",
       "      <td>46129347</td>\n",
       "      <td>3346897</td>\n",
       "      <td>False</td>\n",
       "      <td>194</td>\n",
       "      <td>cardiovascular|shock / hypotension|hypotension</td>\n",
       "      <td>458.9, I95.9</td>\n",
       "      <td>Other</td>\n",
       "    </tr>\n",
       "    <tr>\n",
       "      <th>2698985</th>\n",
       "      <td>46286091</td>\n",
       "      <td>3346897</td>\n",
       "      <td>False</td>\n",
       "      <td>193</td>\n",
       "      <td>renal|disorder of kidney|acute renal failure</td>\n",
       "      <td>584.9, N17.9</td>\n",
       "      <td>Other</td>\n",
       "    </tr>\n",
       "  </tbody>\n",
       "</table>\n",
       "<p>52377 rows × 7 columns</p>\n",
       "</div>"
      ],
      "text/plain": [
       "         diagnosisid  stay_id  activeupondischarge  diagnosisoffset  \\\n",
       "188          3782286   141392                 True               38   \n",
       "189          3366078   141392                 True               38   \n",
       "190          3557636   141392                 True               38   \n",
       "191          3707533   141392                 True               38   \n",
       "218          3920901   141470                 True               13   \n",
       "...              ...      ...                  ...              ...   \n",
       "2698981     46224569  3346897                False              193   \n",
       "2698982     46269856  3346897                False              194   \n",
       "2698983     46106248  3346897                False              193   \n",
       "2698984     46129347  3346897                False              194   \n",
       "2698985     46286091  3346897                False              193   \n",
       "\n",
       "                                           diagnosisstring        icd9code  \\\n",
       "188         endocrine|glucose metabolism|diabetes mellitus             NaN   \n",
       "189         cardiovascular|shock / hypotension|hypotension    458.9, I95.9   \n",
       "190              cardiovascular|shock / hypotension|sepsis    038.9, A41.9   \n",
       "191      cardiovascular|ventricular disorders|congestiv...    428.0, I50.9   \n",
       "218              cardiovascular|shock / hypotension|sepsis    038.9, A41.9   \n",
       "...                                                    ...             ...   \n",
       "2698981  cardiovascular|shock / hypotension|sepsis|seps...  995.92, R65.20   \n",
       "2698982     gastrointestinal|biliary disease|cholecystitis             NaN   \n",
       "2698983  cardiovascular|vascular disorders|swollen extr...             NaN   \n",
       "2698984     cardiovascular|shock / hypotension|hypotension    458.9, I95.9   \n",
       "2698985       renal|disorder of kidney|acute renal failure    584.9, N17.9   \n",
       "\n",
       "        diagnosispriority  \n",
       "188                 Other  \n",
       "189                 Other  \n",
       "190               Primary  \n",
       "191                 Other  \n",
       "218               Primary  \n",
       "...                   ...  \n",
       "2698981             Other  \n",
       "2698982             Other  \n",
       "2698983             Other  \n",
       "2698984             Other  \n",
       "2698985             Other  \n",
       "\n",
       "[52377 rows x 7 columns]"
      ]
     },
     "execution_count": 276,
     "metadata": {},
     "output_type": "execute_result"
    }
   ],
   "source": [
    "diagnosis"
   ]
  },
  {
   "cell_type": "code",
   "execution_count": 309,
   "metadata": {},
   "outputs": [
    {
     "data": {
      "text/plain": [
       "1668"
      ]
     },
     "execution_count": 309,
     "metadata": {},
     "output_type": "execute_result"
    },
    {
     "data": {
      "text/plain": [
       "1573"
      ]
     },
     "execution_count": 309,
     "metadata": {},
     "output_type": "execute_result"
    }
   ],
   "source": [
    "len(eicu_data_list)\n",
    "diagnosis.stay_id.nunique()"
   ]
  },
  {
   "cell_type": "code",
   "execution_count": 278,
   "metadata": {},
   "outputs": [
    {
     "data": {
      "text/plain": [
       "3.745073108709472"
      ]
     },
     "execution_count": 278,
     "metadata": {},
     "output_type": "execute_result"
    }
   ],
   "source": [
    "# Mean number of diagnosis time points\n",
    "(diagnosis.groupby('stay_id')['diagnosisoffset'].nunique()).mean()"
   ]
  },
  {
   "cell_type": "code",
   "execution_count": 286,
   "metadata": {},
   "outputs": [
    {
     "data": {
      "text/plain": [
       "pulmonary|respiratory failure|acute respiratory failure                             0.026099\n",
       "renal|disorder of kidney|acute renal failure                                        0.022300\n",
       "pulmonary|respiratory failure|hypoxemia                                             0.020715\n",
       "endocrine|glucose metabolism|diabetes mellitus                                      0.017164\n",
       "endocrine|glucose metabolism|hyperglycemia                                          0.017164\n",
       "                                                                                      ...   \n",
       "surgery|cardiac surgery|pericardial problems                                        0.000019\n",
       "neurologic|CNS mass lesions|brain tumor                                             0.000019\n",
       "gastrointestinal|intestinal disease|viscus perforation                              0.000019\n",
       "cardiovascular|vascular disorders|peripheral vascular ischemia|with claudication    0.000019\n",
       "gastrointestinal|pancreatic disease|pancreatitis|relapsing                          0.000019\n",
       "Name: diagnosisstring, Length: 1161, dtype: float64"
      ]
     },
     "execution_count": 286,
     "metadata": {},
     "output_type": "execute_result"
    }
   ],
   "source": [
    "# eicu_data\n",
    "diagnosis['diagnosisstring'].value_counts(normalize=True)"
   ]
  },
  {
   "cell_type": "code",
   "execution_count": 290,
   "metadata": {},
   "outputs": [],
   "source": [
    "# Find just infections\n",
    "infection_count = diagnosis[diagnosis['diagnosisstring'].str.contains('infectious diseases')]['diagnosisstring'].str.split('|').explode('diagnosisstring').value_counts()"
   ]
  },
  {
   "cell_type": "code",
   "execution_count": 292,
   "metadata": {},
   "outputs": [
    {
     "data": {
      "text/plain": [
       "infectious diseases                                                 5769\n",
       "systemic/other infections                                           2976\n",
       "chest/pulmonary infections                                          1316\n",
       "pneumonia                                                           1218\n",
       "sepsis                                                              1060\n",
       "hematological effect of infection                                    728\n",
       "GI infections                                                        715\n",
       "signs and symptoms of sepsis (SIRS)                                  458\n",
       "leukocytosis                                                         434\n",
       "GU infections                                                        419\n",
       "diarrhea due to infection                                            379\n",
       "C. difficile colitis                                                 377\n",
       "lower urinary tract infection                                        359\n",
       "fever                                                                349\n",
       "hospital acquired (not ventilator-associated)                        311\n",
       "skin, bone and joint infections                                      260\n",
       "community-acquired                                                   253\n",
       "septic shock                                                         228\n",
       "bandemia                                                             224\n",
       "severe                                                               210\n",
       "aspiration                                                           151\n",
       "lab confirmed                                                        142\n",
       "enteritis                                                            138\n",
       "sepsis with multi-organ dysfunction syndrome                         137\n",
       "sepsis with single organ dysfunction- acute respiratory failure      129\n",
       "cellulitis                                                           126\n",
       "sepsis with single organ dysfunction- acute renal failure            111\n",
       "bacteremia                                                           109\n",
       "empyema                                                               83\n",
       "sepsis with single organ dysfunction- circulatory system failure      78\n",
       "peritonitis                                                           73\n",
       "wound infection                                                       61\n",
       "head and neck infections                                              61\n",
       "extremity                                                             60\n",
       "without foley catheter                                                60\n",
       "bacterial                                                             59\n",
       "intra-abdominal abscess                                               52\n",
       "thrombocytopenia                                                      50\n",
       "with foley catheter                                                   49\n",
       "acute pyelonephritis                                                  47\n",
       "suspected                                                             46\n",
       "abscess - head and neck                                               43\n",
       "viral hepatitis                                                       42\n",
       "aspiration pneumonitis                                                41\n",
       "hepatitis C                                                           40\n",
       "likely bacterial                                                      40\n",
       "surgical wound                                                        38\n",
       "diabetic foot infection                                               37\n",
       "HIV positive                                                          31\n",
       "cultures pending                                                      29\n",
       "Name: diagnosisstring, dtype: int64"
      ]
     },
     "execution_count": 292,
     "metadata": {},
     "output_type": "execute_result"
    }
   ],
   "source": [
    "infection_count[:50]"
   ]
  },
  {
   "cell_type": "code",
   "execution_count": null,
   "metadata": {},
   "outputs": [],
   "source": [
    "# Pneumonia and sespsis most common"
   ]
  },
  {
   "cell_type": "code",
   "execution_count": 318,
   "metadata": {},
   "outputs": [
    {
     "data": {
      "text/plain": [
       "549"
      ]
     },
     "execution_count": 318,
     "metadata": {},
     "output_type": "execute_result"
    },
    {
     "data": {
      "text/plain": [
       "0.329136690647482"
      ]
     },
     "execution_count": 318,
     "metadata": {},
     "output_type": "execute_result"
    }
   ],
   "source": [
    "# Sepsis\n",
    "diagnosis[diagnosis['diagnosisstring'].str.contains('sepsis', case=False)]['stay_id'].nunique()\n",
    "diagnosis[diagnosis['diagnosisstring'].str.contains('sepsis', case=False)]['stay_id'].nunique()/ len(eicu_data_list)"
   ]
  },
  {
   "cell_type": "code",
   "execution_count": 319,
   "metadata": {},
   "outputs": [
    {
     "data": {
      "text/plain": [
       "529"
      ]
     },
     "execution_count": 319,
     "metadata": {},
     "output_type": "execute_result"
    },
    {
     "data": {
      "text/plain": [
       "0.31714628297362113"
      ]
     },
     "execution_count": 319,
     "metadata": {},
     "output_type": "execute_result"
    }
   ],
   "source": [
    "# Pneumonia\n",
    "diagnosis[diagnosis['diagnosisstring'].str.contains('pneumonia', case=False)]['stay_id'].nunique()\n",
    "diagnosis[diagnosis['diagnosisstring'].str.contains('pneumonia', case=False)]['stay_id'].nunique()/ len(eicu_data_list)"
   ]
  },
  {
   "cell_type": "code",
   "execution_count": 321,
   "metadata": {},
   "outputs": [
    {
     "data": {
      "text/plain": [
       "170"
      ]
     },
     "execution_count": 321,
     "metadata": {},
     "output_type": "execute_result"
    },
    {
     "data": {
      "text/plain": [
       "0.10191846522781775"
      ]
     },
     "execution_count": 321,
     "metadata": {},
     "output_type": "execute_result"
    }
   ],
   "source": [
    "# UTI\n",
    "diagnosis[(diagnosis['diagnosisstring'].str.contains(\"urinary tract infection\", case=False))| \\\n",
    "                                  (diagnosis['diagnosisstring'].str.contains(\"pyelonephritis\", case=False))]['stay_id'].nunique()\n",
    "diagnosis[(diagnosis['diagnosisstring'].str.contains(\"urinary tract infection\", case=False))| \\\n",
    "                                  (diagnosis['diagnosisstring'].str.contains(\"pyelonephritis\", case=False))]['stay_id'].nunique() / len(eicu_data_list)"
   ]
  },
  {
   "attachments": {},
   "cell_type": "markdown",
   "metadata": {},
   "source": [
    "Organism"
   ]
  },
  {
   "cell_type": "code",
   "execution_count": 265,
   "metadata": {},
   "outputs": [],
   "source": [
    "# Import\n",
    "microLab = pd.read_csv(r\"eicu-collaborative-research-database-2.0/microLab.csv\")\n",
    "microLab.rename(columns={'patientunitstayid': 'stay_id'}, inplace=True)\n",
    "microLab = microLab[microLab['stay_id'].isin(eicu_data_list)]"
   ]
  },
  {
   "cell_type": "code",
   "execution_count": 266,
   "metadata": {},
   "outputs": [
    {
     "data": {
      "text/html": [
       "<div>\n",
       "<style scoped>\n",
       "    .dataframe tbody tr th:only-of-type {\n",
       "        vertical-align: middle;\n",
       "    }\n",
       "\n",
       "    .dataframe tbody tr th {\n",
       "        vertical-align: top;\n",
       "    }\n",
       "\n",
       "    .dataframe thead th {\n",
       "        text-align: right;\n",
       "    }\n",
       "</style>\n",
       "<table border=\"1\" class=\"dataframe\">\n",
       "  <thead>\n",
       "    <tr style=\"text-align: right;\">\n",
       "      <th></th>\n",
       "      <th>microlabid</th>\n",
       "      <th>stay_id</th>\n",
       "      <th>culturetakenoffset</th>\n",
       "      <th>culturesite</th>\n",
       "      <th>organism</th>\n",
       "      <th>antibiotic</th>\n",
       "      <th>sensitivitylevel</th>\n",
       "    </tr>\n",
       "  </thead>\n",
       "  <tbody>\n",
       "    <tr>\n",
       "      <th>2602</th>\n",
       "      <td>1570419</td>\n",
       "      <td>3038044</td>\n",
       "      <td>3570</td>\n",
       "      <td>Nasopharynx</td>\n",
       "      <td>Other</td>\n",
       "      <td>NaN</td>\n",
       "      <td>NaN</td>\n",
       "    </tr>\n",
       "    <tr>\n",
       "      <th>2603</th>\n",
       "      <td>1554336</td>\n",
       "      <td>3038044</td>\n",
       "      <td>-207</td>\n",
       "      <td>Blood, Venipuncture</td>\n",
       "      <td>Other</td>\n",
       "      <td>penicillin G</td>\n",
       "      <td>Resistant</td>\n",
       "    </tr>\n",
       "    <tr>\n",
       "      <th>2604</th>\n",
       "      <td>1570420</td>\n",
       "      <td>3038044</td>\n",
       "      <td>3570</td>\n",
       "      <td>Nasopharynx</td>\n",
       "      <td>Other</td>\n",
       "      <td>NaN</td>\n",
       "      <td>NaN</td>\n",
       "    </tr>\n",
       "    <tr>\n",
       "      <th>2605</th>\n",
       "      <td>1570267</td>\n",
       "      <td>3038044</td>\n",
       "      <td>-17</td>\n",
       "      <td>Nasopharynx</td>\n",
       "      <td>Other</td>\n",
       "      <td>NaN</td>\n",
       "      <td>NaN</td>\n",
       "    </tr>\n",
       "    <tr>\n",
       "      <th>2606</th>\n",
       "      <td>1571109</td>\n",
       "      <td>3038044</td>\n",
       "      <td>2403</td>\n",
       "      <td>Blood, Venipuncture</td>\n",
       "      <td>no growth</td>\n",
       "      <td>NaN</td>\n",
       "      <td>NaN</td>\n",
       "    </tr>\n",
       "    <tr>\n",
       "      <th>...</th>\n",
       "      <td>...</td>\n",
       "      <td>...</td>\n",
       "      <td>...</td>\n",
       "      <td>...</td>\n",
       "      <td>...</td>\n",
       "      <td>...</td>\n",
       "      <td>...</td>\n",
       "    </tr>\n",
       "    <tr>\n",
       "      <th>5525</th>\n",
       "      <td>1555477</td>\n",
       "      <td>3115723</td>\n",
       "      <td>-1</td>\n",
       "      <td>Rectal Swab</td>\n",
       "      <td>Other</td>\n",
       "      <td>NaN</td>\n",
       "      <td>NaN</td>\n",
       "    </tr>\n",
       "    <tr>\n",
       "      <th>5526</th>\n",
       "      <td>1574046</td>\n",
       "      <td>3115723</td>\n",
       "      <td>-112</td>\n",
       "      <td>Urine, Catheter Specimen</td>\n",
       "      <td>Other</td>\n",
       "      <td>Other</td>\n",
       "      <td>Resistant</td>\n",
       "    </tr>\n",
       "    <tr>\n",
       "      <th>5527</th>\n",
       "      <td>1574048</td>\n",
       "      <td>3115723</td>\n",
       "      <td>-112</td>\n",
       "      <td>Urine, Catheter Specimen</td>\n",
       "      <td>Other</td>\n",
       "      <td>Other</td>\n",
       "      <td>Sensitive</td>\n",
       "    </tr>\n",
       "    <tr>\n",
       "      <th>5528</th>\n",
       "      <td>1574047</td>\n",
       "      <td>3115723</td>\n",
       "      <td>-112</td>\n",
       "      <td>Urine, Catheter Specimen</td>\n",
       "      <td>Other</td>\n",
       "      <td>vancomycin</td>\n",
       "      <td>Sensitive</td>\n",
       "    </tr>\n",
       "    <tr>\n",
       "      <th>5529</th>\n",
       "      <td>1574049</td>\n",
       "      <td>3115723</td>\n",
       "      <td>-112</td>\n",
       "      <td>Urine, Catheter Specimen</td>\n",
       "      <td>Other</td>\n",
       "      <td>ampicillin</td>\n",
       "      <td>Sensitive</td>\n",
       "    </tr>\n",
       "  </tbody>\n",
       "</table>\n",
       "<p>123 rows × 7 columns</p>\n",
       "</div>"
      ],
      "text/plain": [
       "      microlabid  stay_id  culturetakenoffset               culturesite  \\\n",
       "2602     1570419  3038044                3570               Nasopharynx   \n",
       "2603     1554336  3038044                -207       Blood, Venipuncture   \n",
       "2604     1570420  3038044                3570               Nasopharynx   \n",
       "2605     1570267  3038044                 -17               Nasopharynx   \n",
       "2606     1571109  3038044                2403       Blood, Venipuncture   \n",
       "...          ...      ...                 ...                       ...   \n",
       "5525     1555477  3115723                  -1               Rectal Swab   \n",
       "5526     1574046  3115723                -112  Urine, Catheter Specimen   \n",
       "5527     1574048  3115723                -112  Urine, Catheter Specimen   \n",
       "5528     1574047  3115723                -112  Urine, Catheter Specimen   \n",
       "5529     1574049  3115723                -112  Urine, Catheter Specimen   \n",
       "\n",
       "       organism    antibiotic sensitivitylevel  \n",
       "2602      Other           NaN              NaN  \n",
       "2603      Other  penicillin G        Resistant  \n",
       "2604      Other           NaN              NaN  \n",
       "2605      Other           NaN              NaN  \n",
       "2606  no growth           NaN              NaN  \n",
       "...         ...           ...              ...  \n",
       "5525      Other           NaN              NaN  \n",
       "5526      Other         Other        Resistant  \n",
       "5527      Other         Other        Sensitive  \n",
       "5528      Other    vancomycin        Sensitive  \n",
       "5529      Other    ampicillin        Sensitive  \n",
       "\n",
       "[123 rows x 7 columns]"
      ]
     },
     "execution_count": 266,
     "metadata": {},
     "output_type": "execute_result"
    }
   ],
   "source": [
    "microLab"
   ]
  },
  {
   "cell_type": "code",
   "execution_count": 267,
   "metadata": {},
   "outputs": [
    {
     "data": {
      "text/plain": [
       "14"
      ]
     },
     "execution_count": 267,
     "metadata": {},
     "output_type": "execute_result"
    }
   ],
   "source": [
    "microLab.stay_id.nunique()"
   ]
  },
  {
   "cell_type": "code",
   "execution_count": 270,
   "metadata": {},
   "outputs": [
    {
     "data": {
      "text/plain": [
       "Other        0.869919\n",
       "no growth    0.130081\n",
       "Name: organism, dtype: float64"
      ]
     },
     "execution_count": 270,
     "metadata": {},
     "output_type": "execute_result"
    }
   ],
   "source": [
    "# eicu_data\n",
    "microLab['organism'].value_counts() / len(microLab)"
   ]
  }
 ],
 "metadata": {
  "kernelspec": {
   "display_name": "stop",
   "language": "python",
   "name": "python3"
  },
  "language_info": {
   "codemirror_mode": {
    "name": "ipython",
    "version": 3
   },
   "file_extension": ".py",
   "mimetype": "text/x-python",
   "name": "python",
   "nbconvert_exporter": "python",
   "pygments_lexer": "ipython3",
   "version": "3.9.12"
  },
  "orig_nbformat": 4
 },
 "nbformat": 4,
 "nbformat_minor": 2
}
